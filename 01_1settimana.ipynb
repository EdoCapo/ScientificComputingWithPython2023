{
 "cells": [
  {
   "cell_type": "markdown",
   "id": "b20615f3",
   "metadata": {},
   "source": [
    "# 1 Hello World Replacement\n",
    "1. Write a program that\n",
    "    - Prints the numbers from 1 to 100\n",
    "    - For multiples of three print \"Hello\" instead of the number and for the multiples of five print \"World\"\n",
    "    - For numbers which are multiples of both three and five print \"HelloWorld\".\n",
    "\n",
    "\n",
    "2. Put the result in a tuple and substitute \"Hello\" with \"Python\" and \"World\" with \"Works\"."
   ]
  },
  {
   "cell_type": "markdown",
   "id": "f899a283",
   "metadata": {},
   "source": [
    "## 1.1 "
   ]
  },
  {
   "cell_type": "code",
   "execution_count": 1,
   "id": "c9de3145",
   "metadata": {},
   "outputs": [
    {
     "name": "stdout",
     "output_type": "stream",
     "text": [
      "[1, 2, 3, 4, 5, 6, 7, 8, 9, 10, 11, 12, 13, 14, 15, 16, 17, 18, 19, 20, 21, 22, 23, 24, 25, 26, 27, 28, 29, 30, 31, 32, 33, 34, 35, 36, 37, 38, 39, 40, 41, 42, 43, 44, 45, 46, 47, 48, 49, 50, 51, 52, 53, 54, 55, 56, 57, 58, 59, 60, 61, 62, 63, 64, 65, 66, 67, 68, 69, 70, 71, 72, 73, 74, 75, 76, 77, 78, 79, 80, 81, 82, 83, 84, 85, 86, 87, 88, 89, 90, 91, 92, 93, 94, 95, 96, 97, 98, 99, 100]\n"
     ]
    }
   ],
   "source": [
    "#To print the numbers from 1 to 100 I have to use range\n",
    "hundreds = [x for x in range (1, 101)]\n",
    "print(hundreds)"
   ]
  },
  {
   "cell_type": "code",
   "execution_count": 2,
   "id": "d166b9b6",
   "metadata": {},
   "outputs": [
    {
     "name": "stdout",
     "output_type": "stream",
     "text": [
      "[1, 2, 'Hello', 4, 5, 'Hello', 7, 8, 'Hello', 10, 11, 'Hello', 13, 14, 'Hello', 16, 17, 'Hello', 19, 20, 'Hello', 22, 23, 'Hello', 25, 26, 'Hello', 28, 29, 'Hello', 31, 32, 'Hello', 34, 35, 'Hello', 37, 38, 'Hello', 40, 41, 'Hello', 43, 44, 'Hello', 46, 47, 'Hello', 49, 50, 'Hello', 52, 53, 'Hello', 55, 56, 'Hello', 58, 59, 'Hello', 61, 62, 'Hello', 64, 65, 'Hello', 67, 68, 'Hello', 70, 71, 'Hello', 73, 74, 'Hello', 76, 77, 'Hello', 79, 80, 'Hello', 82, 83, 'Hello', 85, 86, 'Hello', 88, 89, 'Hello', 91, 92, 'Hello', 94, 95, 'Hello', 97, 98, 'Hello', 100]\n"
     ]
    }
   ],
   "source": [
    "#Now I have to replace every three multiple with 'Hello'\n",
    "word = \"Hello\"\n",
    "hundreds = [word if x % 3 == 0 \n",
    "            else x for x in range (1, 101)]\n",
    "print(hundreds)"
   ]
  },
  {
   "cell_type": "code",
   "execution_count": 3,
   "id": "dc00ee20",
   "metadata": {},
   "outputs": [
    {
     "name": "stdout",
     "output_type": "stream",
     "text": [
      "[1, 2, 'Hello', 4, 'World', 'Hello', 7, 8, 'Hello', 'World', 11, 'Hello', 13, 14, 'Hello', 16, 17, 'Hello', 19, 'World', 'Hello', 22, 23, 'Hello', 'World', 26, 'Hello', 28, 29, 'Hello', 31, 32, 'Hello', 34, 'World', 'Hello', 37, 38, 'Hello', 'World', 41, 'Hello', 43, 44, 'Hello', 46, 47, 'Hello', 49, 'World', 'Hello', 52, 53, 'Hello', 'World', 56, 'Hello', 58, 59, 'Hello', 61, 62, 'Hello', 64, 'World', 'Hello', 67, 68, 'Hello', 'World', 71, 'Hello', 73, 74, 'Hello', 76, 77, 'Hello', 79, 'World', 'Hello', 82, 83, 'Hello', 'World', 86, 'Hello', 88, 89, 'Hello', 91, 92, 'Hello', 94, 'World', 'Hello', 97, 98, 'Hello', 'World']\n"
     ]
    }
   ],
   "source": [
    "#Now I have to replace every three multiple with 'Hello'\n",
    "#And every five multiple with \"World\"\n",
    "words = [\"Hello\", \"World\"] \n",
    "hundreds = [words[0] if x % 3 == 0 \n",
    "            else words[1] if x % 5 == 0\n",
    "            else x for x in range (1, 101)]\n",
    "print(hundreds)"
   ]
  },
  {
   "cell_type": "code",
   "execution_count": 4,
   "id": "3d71269a",
   "metadata": {},
   "outputs": [
    {
     "name": "stdout",
     "output_type": "stream",
     "text": [
      "[1, 2, 'Hello', 4, 'World', 'Hello', 7, 8, 'Hello', 'World', 11, 'Hello', 13, 14, 'HelloWorld', 16, 17, 'Hello', 19, 'World', 'Hello', 22, 23, 'Hello', 'World', 26, 'Hello', 28, 29, 'HelloWorld', 31, 32, 'Hello', 34, 'World', 'Hello', 37, 38, 'Hello', 'World', 41, 'Hello', 43, 44, 'HelloWorld', 46, 47, 'Hello', 49, 'World', 'Hello', 52, 53, 'Hello', 'World', 56, 'Hello', 58, 59, 'HelloWorld', 61, 62, 'Hello', 64, 'World', 'Hello', 67, 68, 'Hello', 'World', 71, 'Hello', 73, 74, 'HelloWorld', 76, 77, 'Hello', 79, 'World', 'Hello', 82, 83, 'Hello', 'World', 86, 'Hello', 88, 89, 'HelloWorld', 91, 92, 'Hello', 94, 'World', 'Hello', 97, 98, 'Hello', 'World']\n"
     ]
    }
   ],
   "source": [
    "#Now I have to replace every three multiple with 'Hello'\n",
    "#And every five multiple with \"World\"\n",
    "#And every three AND five multiple with \"Hello World\"\n",
    "\n",
    "hundreds = [words[0] + words[1] if x % 3 == 0 and x % 5 == 0\n",
    "            else words[0] if x % 3 == 0 \n",
    "            else words[1] if x % 5 == 0\n",
    "            else x for x in range (1, 101)]\n",
    "print(hundreds)"
   ]
  },
  {
   "cell_type": "markdown",
   "id": "02e91229",
   "metadata": {},
   "source": [
    "## 1.2"
   ]
  },
  {
   "cell_type": "code",
   "execution_count": 5,
   "id": "87bfa2db",
   "metadata": {},
   "outputs": [
    {
     "name": "stdout",
     "output_type": "stream",
     "text": [
      "([1, 2, 'Hello', 4, 'World', 'Hello', 7, 8, 'Hello', 'World', 11, 'Hello', 13, 14, 'HelloWorld', 16, 17, 'Hello', 19, 'World', 'Hello', 22, 23, 'Hello', 'World', 26, 'Hello', 28, 29, 'HelloWorld', 31, 32, 'Hello', 34, 'World', 'Hello', 37, 38, 'Hello', 'World', 41, 'Hello', 43, 44, 'HelloWorld', 46, 47, 'Hello', 49, 'World', 'Hello', 52, 53, 'Hello', 'World', 56, 'Hello', 58, 59, 'HelloWorld', 61, 62, 'Hello', 64, 'World', 'Hello', 67, 68, 'Hello', 'World', 71, 'Hello', 73, 74, 'HelloWorld', 76, 77, 'Hello', 79, 'World', 'Hello', 82, 83, 'Hello', 'World', 86, 'Hello', 88, 89, 'HelloWorld', 91, 92, 'Hello', 94, 'World', 'Hello', 97, 98, 'Hello', 'World'], 'Python', 'Works')\n"
     ]
    }
   ],
   "source": [
    "result = (hundreds, \"Python\", \"Works\")\n",
    "print(result)"
   ]
  },
  {
   "cell_type": "code",
   "execution_count": 6,
   "id": "6fec7622",
   "metadata": {},
   "outputs": [
    {
     "name": "stdout",
     "output_type": "stream",
     "text": [
      "('1', '2', 'Python', '4', 'Works', 'Python', '7', '8', 'Python', 'Works', '11', 'Python', '13', '14', 'PythonWorks', '16', '17', 'Python', '19', 'Works', 'Python', '22', '23', 'Python', 'Works', '26', 'Python', '28', '29', 'PythonWorks', '31', '32', 'Python', '34', 'Works', 'Python', '37', '38', 'Python', 'Works', '41', 'Python', '43', '44', 'PythonWorks', '46', '47', 'Python', '49', 'Works', 'Python', '52', '53', 'Python', 'Works', '56', 'Python', '58', '59', 'PythonWorks', '61', '62', 'Python', '64', 'Works', 'Python', '67', '68', 'Python', 'Works', '71', 'Python', '73', '74', 'PythonWorks', '76', '77', 'Python', '79', 'Works', 'Python', '82', '83', 'Python', 'Works', '86', 'Python', '88', '89', 'PythonWorks', '91', '92', 'Python', '94', 'Works', 'Python', '97', '98', 'Python', 'Works')\n"
     ]
    }
   ],
   "source": [
    "#Create the tuple\n",
    "result = tuple(hundreds)\n",
    "\n",
    "#Considering that a tuple is unchengable\n",
    "\n",
    "#Replace the two words\n",
    "result = tuple(str(word).replace(\"Hello\", \"Python\").replace(\"World\", \"Works\") for word in hundreds)\n",
    "\n",
    "#Print the tuple\n",
    "print(result)"
   ]
  }
 ],
 "metadata": {
  "kernelspec": {
   "display_name": "Python 3",
   "language": "python",
   "name": "python3"
  },
  "language_info": {
   "codemirror_mode": {
    "name": "ipython",
    "version": 3
   },
   "file_extension": ".py",
   "mimetype": "text/x-python",
   "name": "python",
   "nbconvert_exporter": "python",
   "pygments_lexer": "ipython3",
   "version": "3.11.5"
  }
 },
 "nbformat": 4,
 "nbformat_minor": 5
}
