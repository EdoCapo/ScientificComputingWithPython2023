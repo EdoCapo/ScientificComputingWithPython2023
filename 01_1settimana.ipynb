{
 "cells": [
  {
   "cell_type": "markdown",
   "id": "b20615f3",
   "metadata": {},
   "source": [
    "# 1 Hello World Replacement\n",
    "1. Write a program that\n",
    "    - Prints the numbers from 1 to 100\n",
    "    - For multiples of three print \"Hello\" instead of the number and for the multiples of five print \"World\"\n",
    "    - For numbers which are multiples of both three and five print \"HelloWorld\".\n",
    "\n",
    "\n",
    "2. Put the result in a tuple and substitute \"Hello\" with \"Python\" and \"World\" with \"Works\"."
   ]
  },
  {
   "cell_type": "markdown",
   "id": "f899a283",
   "metadata": {},
   "source": [
    "## 1.1 "
   ]
  },
  {
   "cell_type": "code",
   "execution_count": null,
   "id": "c9de3145",
   "metadata": {},
   "outputs": [],
   "source": [
    "#To print the numbers from 1 to 100 I have to use range\n",
    "hundreds = [x for x in range (1, 101)]\n",
    "print(hundreds)"
   ]
  },
  {
   "cell_type": "code",
   "execution_count": null,
   "id": "d166b9b6",
   "metadata": {},
   "outputs": [],
   "source": [
    "#Now I have to replace every three multiple with 'Hello'\n",
    "word = \"Hello\"\n",
    "hundreds = [word if x % 3 == 0 \n",
    "            else x for x in range (1, 101)]\n",
    "print(hundreds)"
   ]
  },
  {
   "cell_type": "code",
   "execution_count": null,
   "id": "dc00ee20",
   "metadata": {},
   "outputs": [],
   "source": [
    "#Now I have to replace every three multiple with 'Hello'\n",
    "#And every five multiple with \"World\"\n",
    "words = [\"Hello\", \"World\"] \n",
    "hundreds = [words[0] if x % 3 == 0 \n",
    "            else words[1] if x % 5 == 0\n",
    "            else x for x in range (1, 101)]\n",
    "print(hundreds)"
   ]
  },
  {
   "cell_type": "code",
   "execution_count": null,
   "id": "3d71269a",
   "metadata": {},
   "outputs": [],
   "source": [
    "#Now I have to replace every three multiple with 'Hello'\n",
    "#And every five multiple with \"World\"\n",
    "#And every three AND five multiple with \"Hello World\"\n",
    "\n",
    "hundreds = [words[0] + words[1] if x % 3 == 0 and x % 5 == 0\n",
    "            else words[0] if x % 3 == 0 \n",
    "            else words[1] if x % 5 == 0\n",
    "            else x for x in range (1, 101)]\n",
    "print(hundreds)"
   ]
  },
  {
   "cell_type": "markdown",
   "id": "02e91229",
   "metadata": {},
   "source": [
    "## 1.2"
   ]
  },
  {
   "cell_type": "code",
   "execution_count": null,
   "id": "87bfa2db",
   "metadata": {},
   "outputs": [],
   "source": [
    "result = (hundreds, \"Python\", \"Works\")\n",
    "print(result)"
   ]
  },
  {
   "cell_type": "code",
   "execution_count": null,
   "id": "6fec7622",
   "metadata": {},
   "outputs": [],
   "source": [
    "#Create the tuple\n",
    "result = tuple(hundreds)\n",
    "\n",
    "#Considering that a tuple is unchengable\n",
    "\n",
    "#Replace the two words\n",
    "result = tuple(str(word).replace(\"Hello\", \"Python\").replace(\"World\", \"Works\") for word in hundreds)\n",
    "\n",
    "#Print the tuple\n",
    "print(result)"
   ]
  },
  {
   "cell_type": "markdown",
   "id": "7cbec4ef",
   "metadata": {},
   "source": [
    "# 2 The SWAP\n",
    "Write a program that swaps the values of two input variables `x` and `y` from command line (whatever the type).\n",
    "\n",
    "Try to do that without using a temporary variable, exploiting the Python syntax."
   ]
  },
  {
   "cell_type": "code",
   "execution_count": null,
   "id": "18100656",
   "metadata": {},
   "outputs": [],
   "source": [
    "#Asking from CLI the values to swap\n",
    "x = input(\"Inserisci il valore di x: \")\n",
    "y = input(\"Inserisci il valore di y: \")\n",
    "\n",
    "#Original values\n",
    "print (x, y)\n",
    "\n",
    "#Swap\n",
    "x, y = y, x\n",
    "\n",
    "#Swapped values\n",
    "print(x, y)"
   ]
  },
  {
   "cell_type": "markdown",
   "id": "f5b8fe39",
   "metadata": {},
   "source": [
    "# 3 Computing the distance\n",
    "\n",
    "Write a program that calculates and prints the euclidean distance between two given points $u$ and $v$ in a 2D space, where $u$ and $v$ are both 2-tuples $(x,y)$.\n",
    "\n",
    "Example: if $u=(3,0)$ and $v=(0,4)$, the function should return $5$.\n",
    "\n",
    "*Hint:* in order to compute the square root, import the `math` library with `import math` and use `math.sqrt()`."
   ]
  },
  {
   "cell_type": "code",
   "execution_count": null,
   "id": "df01ca18",
   "metadata": {},
   "outputs": [],
   "source": [
    "#Importing library in order to use math.sqrt()\n",
    "import math\n",
    "\n",
    "#Create the two points's coordinates\n",
    "u = tuple([3,0])\n",
    "v = tuple([0,4])\n",
    "\n",
    "#Calculating the distances on the axis\n",
    "distance_x = u[0] + v[0]\n",
    "distance_y = u[1] + v[1]\n",
    "\n",
    "#Calculating the distance using Pitagora's theorem\n",
    "distance = math.sqrt(distance_x**2 + distance_y**2)\n",
    "\n",
    "#Print the result\n",
    "print(distance)"
   ]
  },
  {
   "cell_type": "markdown",
   "id": "5aa69da6",
   "metadata": {},
   "source": [
    "# 4 Counting letters\n",
    "\n",
    "Write a program that calculates the number of times each character occurs in a given string. Ignore differences in capitalization.\n",
    "\n",
    "The test strings are:"
   ]
  },
  {
   "cell_type": "code",
   "execution_count": null,
   "id": "6356d843",
   "metadata": {},
   "outputs": [],
   "source": [
    "s1 = \"Write a program that prints the numbers from 1 to 100. \\\n",
    "But for multiples of three print Hello instead of the number and for the multiples of five print World. \\\n",
    "For numbers which are multiples of both three and five print HelloWorld.\"\n",
    "s2 = \"The quick brown fox jumps over the lazy dog\""
   ]
  },
  {
   "cell_type": "code",
   "execution_count": null,
   "metadata": {},
   "outputs": [],
   "source": [
    "#Define a function which counts the occurrences of every char\n",
    "def count_char_occurrences(input_string, excludes, dict):\n",
    "    #Iter the string\n",
    "    for char in input_string:\n",
    "        #If the char is an actual char \n",
    "        if char not in excludes:\n",
    "            #I don't wanna count separately capital chars from lower chars\n",
    "            char = char.lower()\n",
    "            #If the current char is already counted\n",
    "            if char in dict:\n",
    "                #Increment the occurrences counter\n",
    "                dict[char] += 1\n",
    "            else:\n",
    "                #Instance a first value\n",
    "                dict[char] = 1\n",
    "    #Return the dictionary updated\n",
    "    return dict"
   ]
  },
  {
   "cell_type": "code",
   "execution_count": null,
   "id": "5de9b09a",
   "metadata": {},
   "outputs": [],
   "source": [
    "#We have to use a Dictionary{\"char\", \"occurrence\"}\n",
    "char_with_occurrences = {}\n",
    "\n",
    "#List of the non-char symbols\n",
    "excludes = [str(0), str(1), \" \", \".\"]\n",
    "\n",
    "#Call a function which counts the times every char appear\n",
    "char_occurrences = count_char_occurrences(s1, excludes, char_with_occurrences)\n",
    "char_occurrences = count_char_occurrences(s2, excludes, char_with_occurrences)\n",
    "\n",
    "#Print the dictionary\n",
    "for key, value in char_with_occurrences.items():\n",
    "    print(f\"Chiave: {key}, Valore: {value}\")"
   ]
  },
  {
   "cell_type": "markdown",
   "id": "54b5525c",
   "metadata": {},
   "source": [
    "# 5 Isolating the unique\n",
    "\n",
    "Write a program that determines and counts the unique numbers (numbers with only one occurrence) in the list:"
   ]
  },
  {
   "cell_type": "code",
   "execution_count": null,
   "id": "644a253a",
   "metadata": {},
   "outputs": [],
   "source": [
    "l = [36, 45, 58, 3, 74, 96, 64, 45, 31, 10, 24, 19, 33, 86, 99, 18, 63, 70, 85,\n",
    " 85, 63, 47, 56, 42, 70, 84, 88, 55, 20, 54, 8, 56, 51, 79, 81, 57, 37, 91,\n",
    " 1, 84, 84, 36, 66, 9, 89, 50, 42, 91, 50, 95, 90, 98, 39, 16, 82, 31, 92, 41,\n",
    " 45, 30, 66, 70, 34, 85, 94, 5, 3, 36, 72, 91, 84, 34, 87, 75, 53, 51, 20, 89, 51, 20]"
   ]
  },
  {
   "cell_type": "code",
   "execution_count": null,
   "id": "efbb6ddd",
   "metadata": {},
   "outputs": [],
   "source": [
    "#Using a for loop:\n",
    "unique_list_for = []\n",
    "for i in l:\n",
    "    if i not in unique_list_for:\n",
    "        unique_list_for.append(i)\n",
    "\n",
    "#Using a Data structur\n",
    "unique_list_set = list(set(l))\n",
    "\n",
    "#Printing list and length\n",
    "print(\"Using for loop:\", unique_list_for)\n",
    "\n",
    "print(\"Using Set:\", unique_list_set)\n",
    "\n",
    "print(\"Number of unique values using for loop: \", len(unique_list_for))\n",
    "print(\"Number of unique values using a Set: \", len(unique_list_set))\n"
   ]
  },
  {
   "cell_type": "markdown",
   "id": "226f1cf4",
   "metadata": {},
   "source": [
    "# 6 Casting\n",
    "\n",
    "Write a program that:\n",
    "* reads from command line two variables, that can be either `int`, `float`, or `str`.\n",
    "* use the `try`/`except` expressions to perform the addition of these two variables, only if possible\n",
    "* print the result without making the code crash for all the `int`/`float`/`str` input combinations."
   ]
  },
  {
   "cell_type": "code",
   "execution_count": null,
   "id": "f78591fa",
   "metadata": {},
   "outputs": [],
   "source": [
    "x = input(\"Inserisci il valore di x (accettati int, float o stringhe): \")\n",
    "y = input(\"Inserisci il valore di y (accettati int, float o stringhe): \")\n",
    "\n",
    "try:\n",
    "    # Prova a convertire x e y in int\n",
    "    print(int(x) + int(y))\n",
    "except ValueError:\n",
    "    try:\n",
    "        print(float(x) + float(y))\n",
    "    except ValueError:\n",
    "        if isinstance(x, str) and isinstance(y, str):\n",
    "            print(x + y)\n",
    "        else: print(\"Incompatible types\")\n"
   ]
  },
  {
   "cell_type": "markdown",
   "id": "9179321a",
   "metadata": {},
   "source": [
    "# 7 Cubes\n",
    "\n",
    "Create a list of the cubes of *x* for *x* in *[0, 10]* using:\n",
    "\n",
    "1. a for loop\n",
    "\n",
    "2. a list comprehension"
   ]
  },
  {
   "cell_type": "code",
   "execution_count": null,
   "id": "dca26dde",
   "metadata": {},
   "outputs": [],
   "source": [
    "#Declare the list filled with a loop\n",
    "list_loop = []\n",
    "\n",
    "for x in range(0, 10):\n",
    "    #Adding the cube of x\n",
    "    list_loop.append(x**3)\n",
    "\n",
    "print(list_loop)\n",
    "\n",
    "#Declare and define the list comprehension\n",
    "list_comprehension = [x**3 for x in range(10)]\n",
    "print(list_comprehension)"
   ]
  },
  {
   "cell_type": "markdown",
   "id": "b2473695",
   "metadata": {},
   "source": [
    "# 9 Nested list comprehension\n",
    "\n",
    "> A Pythagorean triple is an integer solution to the Pythagorean theorem $a^2+b^2=c^2$. The first Pythagorean triple is (3, 4, 5).\n",
    "\n",
    "Find and put in a tuple all unique Pythagorean triples for the positive integers $a$, $b$ and $c$ with $c < 100$."
   ]
  },
  {
   "cell_type": "code",
   "execution_count": null,
   "id": "d12c4227",
   "metadata": {},
   "outputs": [],
   "source": [
    "import random\n",
    "\n",
    "result = 101\n",
    "\n",
    "while(result >= 100):\n",
    "    a = random.randint(0,10)\n",
    "    b = random.randint(1,10)\n",
    "    result = a**2 + b**2\n",
    "\n",
    "print(\"a^2 = \", a, \"b^2 = \", b, \"c^2 = \", result)"
   ]
  },
  {
   "cell_type": "markdown",
   "id": "afc26c3b",
   "metadata": {},
   "source": [
    "# 10 Normalization of a N-dimensional vector\n",
    "\n",
    "Write a program that takes an N-dimensional vector, e.g. a variable-length tuple of numbers, and normalizes it to one (in such a way that the squared sum of all the entries is equal to 1)."
   ]
  },
  {
   "cell_type": "code",
   "execution_count": null,
   "id": "4cd3c885",
   "metadata": {},
   "outputs": [],
   "source": [
    "#Imports\n",
    "import math\n",
    "import random\n",
    "\n",
    "#N < 11\n",
    "length = random.randint(1,10)\n",
    "\n",
    "#Define the N-vector\n",
    "vector = tuple([random.randint(0,100) for x in range(length)])\n",
    "\n",
    "print(vector)\n",
    "\n",
    "sum_of_squares = 0\n",
    "\n",
    "#Calculate the sum of squares\n",
    "for x in range(length):\n",
    "    sum_of_squares += (vector[x]**2)\n",
    "\n",
    "#Calculate the norm of the vector\n",
    "norm = math.sqrt(sum_of_squares)\n",
    "\n",
    "normalized_vector = tuple(x / norm for x in vector)\n",
    "\n",
    "print(\"Vettore normalizzato:\", normalized_vector)"
   ]
  },
  {
   "cell_type": "markdown",
   "id": "40474051",
   "metadata": {},
   "source": [
    "# 11 The Fibonacci sequence\n",
    "\n",
    "Calculate the first 20 numbers of the [Fibonacci sequence](https://en.wikipedia.org/wiki/Fibonacci_number) using only `for` or `while` loops."
   ]
  },
  {
   "cell_type": "code",
   "execution_count": null,
   "id": "c6f6e7cb",
   "metadata": {},
   "outputs": [],
   "source": []
  }
 ],
 "metadata": {
  "kernelspec": {
   "display_name": "Python 3",
   "language": "python",
   "name": "python3"
  },
  "language_info": {
   "codemirror_mode": {
    "name": "ipython",
    "version": 3
   },
   "file_extension": ".py",
   "mimetype": "text/x-python",
   "name": "python",
   "nbconvert_exporter": "python",
   "pygments_lexer": "ipython3",
   "version": "3.11.5"
  }
 },
 "nbformat": 4,
 "nbformat_minor": 5
}
