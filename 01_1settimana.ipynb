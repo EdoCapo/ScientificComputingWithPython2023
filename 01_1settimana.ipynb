{
 "cells": [
  {
   "cell_type": "markdown",
   "id": "b20615f3",
   "metadata": {},
   "source": [
    "# 1 Hello World Replacement\n",
    "1. Write a program that\n",
    "    - Prints the numbers from 1 to 100\n",
    "    - For multiples of three print \"Hello\" instead of the number and for the multiples of five print \"World\"\n",
    "    - For numbers which are multiples of both three and five print \"HelloWorld\".\n",
    "\n",
    "\n",
    "2. Put the result in a tuple and substitute \"Hello\" with \"Python\" and \"World\" with \"Works\"."
   ]
  },
  {
   "cell_type": "markdown",
   "id": "f899a283",
   "metadata": {},
   "source": [
    "## 1.1 "
   ]
  },
  {
   "cell_type": "code",
   "execution_count": 1,
   "id": "c9de3145",
   "metadata": {},
   "outputs": [
    {
     "name": "stdout",
     "output_type": "stream",
     "text": [
      "[1, 2, 3, 4, 5, 6, 7, 8, 9, 10, 11, 12, 13, 14, 15, 16, 17, 18, 19, 20, 21, 22, 23, 24, 25, 26, 27, 28, 29, 30, 31, 32, 33, 34, 35, 36, 37, 38, 39, 40, 41, 42, 43, 44, 45, 46, 47, 48, 49, 50, 51, 52, 53, 54, 55, 56, 57, 58, 59, 60, 61, 62, 63, 64, 65, 66, 67, 68, 69, 70, 71, 72, 73, 74, 75, 76, 77, 78, 79, 80, 81, 82, 83, 84, 85, 86, 87, 88, 89, 90, 91, 92, 93, 94, 95, 96, 97, 98, 99, 100]\n"
     ]
    }
   ],
   "source": [
    "#To print the numbers from 1 to 100 I have to use range\n",
    "hundreds = [x for x in range (1, 101)]\n",
    "print(hundreds)"
   ]
  },
  {
   "cell_type": "code",
   "execution_count": 2,
   "id": "d166b9b6",
   "metadata": {},
   "outputs": [
    {
     "name": "stdout",
     "output_type": "stream",
     "text": [
      "[1, 2, 'Hello', 4, 5, 'Hello', 7, 8, 'Hello', 10, 11, 'Hello', 13, 14, 'Hello', 16, 17, 'Hello', 19, 20, 'Hello', 22, 23, 'Hello', 25, 26, 'Hello', 28, 29, 'Hello', 31, 32, 'Hello', 34, 35, 'Hello', 37, 38, 'Hello', 40, 41, 'Hello', 43, 44, 'Hello', 46, 47, 'Hello', 49, 50, 'Hello', 52, 53, 'Hello', 55, 56, 'Hello', 58, 59, 'Hello', 61, 62, 'Hello', 64, 65, 'Hello', 67, 68, 'Hello', 70, 71, 'Hello', 73, 74, 'Hello', 76, 77, 'Hello', 79, 80, 'Hello', 82, 83, 'Hello', 85, 86, 'Hello', 88, 89, 'Hello', 91, 92, 'Hello', 94, 95, 'Hello', 97, 98, 'Hello', 100]\n"
     ]
    }
   ],
   "source": [
    "#Now I have to replace every three multiple with 'Hello'\n",
    "word = \"Hello\"\n",
    "hundreds = [word if x % 3 == 0 \n",
    "            else x for x in range (1, 101)]\n",
    "print(hundreds)"
   ]
  },
  {
   "cell_type": "code",
   "execution_count": 3,
   "id": "dc00ee20",
   "metadata": {},
   "outputs": [
    {
     "name": "stdout",
     "output_type": "stream",
     "text": [
      "[1, 2, 'Hello', 4, 'World', 'Hello', 7, 8, 'Hello', 'World', 11, 'Hello', 13, 14, 'Hello', 16, 17, 'Hello', 19, 'World', 'Hello', 22, 23, 'Hello', 'World', 26, 'Hello', 28, 29, 'Hello', 31, 32, 'Hello', 34, 'World', 'Hello', 37, 38, 'Hello', 'World', 41, 'Hello', 43, 44, 'Hello', 46, 47, 'Hello', 49, 'World', 'Hello', 52, 53, 'Hello', 'World', 56, 'Hello', 58, 59, 'Hello', 61, 62, 'Hello', 64, 'World', 'Hello', 67, 68, 'Hello', 'World', 71, 'Hello', 73, 74, 'Hello', 76, 77, 'Hello', 79, 'World', 'Hello', 82, 83, 'Hello', 'World', 86, 'Hello', 88, 89, 'Hello', 91, 92, 'Hello', 94, 'World', 'Hello', 97, 98, 'Hello', 'World']\n"
     ]
    }
   ],
   "source": [
    "#Now I have to replace every three multiple with 'Hello'\n",
    "#And every five multiple with \"World\"\n",
    "words = [\"Hello\", \"World\"] \n",
    "hundreds = [words[0] if x % 3 == 0 \n",
    "            else words[1] if x % 5 == 0\n",
    "            else x for x in range (1, 101)]\n",
    "print(hundreds)"
   ]
  },
  {
   "cell_type": "code",
   "execution_count": 4,
   "id": "3d71269a",
   "metadata": {},
   "outputs": [
    {
     "name": "stdout",
     "output_type": "stream",
     "text": [
      "[1, 2, 'Hello', 4, 'World', 'Hello', 7, 8, 'Hello', 'World', 11, 'Hello', 13, 14, 'HelloWorld', 16, 17, 'Hello', 19, 'World', 'Hello', 22, 23, 'Hello', 'World', 26, 'Hello', 28, 29, 'HelloWorld', 31, 32, 'Hello', 34, 'World', 'Hello', 37, 38, 'Hello', 'World', 41, 'Hello', 43, 44, 'HelloWorld', 46, 47, 'Hello', 49, 'World', 'Hello', 52, 53, 'Hello', 'World', 56, 'Hello', 58, 59, 'HelloWorld', 61, 62, 'Hello', 64, 'World', 'Hello', 67, 68, 'Hello', 'World', 71, 'Hello', 73, 74, 'HelloWorld', 76, 77, 'Hello', 79, 'World', 'Hello', 82, 83, 'Hello', 'World', 86, 'Hello', 88, 89, 'HelloWorld', 91, 92, 'Hello', 94, 'World', 'Hello', 97, 98, 'Hello', 'World']\n"
     ]
    }
   ],
   "source": [
    "#Now I have to replace every three multiple with 'Hello'\n",
    "#And every five multiple with \"World\"\n",
    "#And every three AND five multiple with \"Hello World\"\n",
    "\n",
    "hundreds = [words[0] + words[1] if x % 3 == 0 and x % 5 == 0\n",
    "            else words[0] if x % 3 == 0 \n",
    "            else words[1] if x % 5 == 0\n",
    "            else x for x in range (1, 101)]\n",
    "print(hundreds)"
   ]
  },
  {
   "cell_type": "markdown",
   "id": "02e91229",
   "metadata": {},
   "source": [
    "## 1.2"
   ]
  },
  {
   "cell_type": "code",
   "execution_count": 5,
   "id": "87bfa2db",
   "metadata": {},
   "outputs": [
    {
     "name": "stdout",
     "output_type": "stream",
     "text": [
      "([1, 2, 'Hello', 4, 'World', 'Hello', 7, 8, 'Hello', 'World', 11, 'Hello', 13, 14, 'HelloWorld', 16, 17, 'Hello', 19, 'World', 'Hello', 22, 23, 'Hello', 'World', 26, 'Hello', 28, 29, 'HelloWorld', 31, 32, 'Hello', 34, 'World', 'Hello', 37, 38, 'Hello', 'World', 41, 'Hello', 43, 44, 'HelloWorld', 46, 47, 'Hello', 49, 'World', 'Hello', 52, 53, 'Hello', 'World', 56, 'Hello', 58, 59, 'HelloWorld', 61, 62, 'Hello', 64, 'World', 'Hello', 67, 68, 'Hello', 'World', 71, 'Hello', 73, 74, 'HelloWorld', 76, 77, 'Hello', 79, 'World', 'Hello', 82, 83, 'Hello', 'World', 86, 'Hello', 88, 89, 'HelloWorld', 91, 92, 'Hello', 94, 'World', 'Hello', 97, 98, 'Hello', 'World'], 'Python', 'Works')\n"
     ]
    }
   ],
   "source": [
    "result = (hundreds, \"Python\", \"Works\")\n",
    "print(result)"
   ]
  },
  {
   "cell_type": "code",
   "execution_count": 6,
   "id": "6fec7622",
   "metadata": {},
   "outputs": [
    {
     "name": "stdout",
     "output_type": "stream",
     "text": [
      "('1', '2', 'Python', '4', 'Works', 'Python', '7', '8', 'Python', 'Works', '11', 'Python', '13', '14', 'PythonWorks', '16', '17', 'Python', '19', 'Works', 'Python', '22', '23', 'Python', 'Works', '26', 'Python', '28', '29', 'PythonWorks', '31', '32', 'Python', '34', 'Works', 'Python', '37', '38', 'Python', 'Works', '41', 'Python', '43', '44', 'PythonWorks', '46', '47', 'Python', '49', 'Works', 'Python', '52', '53', 'Python', 'Works', '56', 'Python', '58', '59', 'PythonWorks', '61', '62', 'Python', '64', 'Works', 'Python', '67', '68', 'Python', 'Works', '71', 'Python', '73', '74', 'PythonWorks', '76', '77', 'Python', '79', 'Works', 'Python', '82', '83', 'Python', 'Works', '86', 'Python', '88', '89', 'PythonWorks', '91', '92', 'Python', '94', 'Works', 'Python', '97', '98', 'Python', 'Works')\n"
     ]
    }
   ],
   "source": [
    "#Create the tuple\n",
    "result = tuple(hundreds)\n",
    "\n",
    "#Considering that a tuple is unchengable\n",
    "\n",
    "#Replace the two words\n",
    "result = tuple(str(word).replace(\"Hello\", \"Python\").replace(\"World\", \"Works\") for word in hundreds)\n",
    "\n",
    "#Print the tuple\n",
    "print(result)"
   ]
  },
  {
   "cell_type": "markdown",
   "id": "7cbec4ef",
   "metadata": {},
   "source": [
    "# 2 The SWAP\n",
    "Write a program that swaps the values of two input variables `x` and `y` from command line (whatever the type).\n",
    "\n",
    "Try to do that without using a temporary variable, exploiting the Python syntax."
   ]
  },
  {
   "cell_type": "code",
   "execution_count": 7,
   "id": "18100656",
   "metadata": {},
   "outputs": [
    {
     "name": "stdout",
     "output_type": "stream",
     "text": [
      "10 1\n",
      "1 10\n"
     ]
    }
   ],
   "source": [
    "x = 10\n",
    "y = 1\n",
    "\n",
    "#Original values\n",
    "print (x, y)\n",
    "\n",
    "#Swap\n",
    "x, y = y, x\n",
    "\n",
    "#Swapped values\n",
    "print(x, y)"
   ]
  },
  {
   "cell_type": "markdown",
   "id": "f5b8fe39",
   "metadata": {},
   "source": [
    "# 3 Computing the distance\n",
    "\n",
    "Write a program that calculates and prints the euclidean distance between two given points $u$ and $v$ in a 2D space, where $u$ and $v$ are both 2-tuples $(x,y)$.\n",
    "\n",
    "Example: if $u=(3,0)$ and $v=(0,4)$, the function should return $5$.\n",
    "\n",
    "*Hint:* in order to compute the square root, import the `math` library with `import math` and use `math.sqrt()`."
   ]
  },
  {
   "cell_type": "code",
   "execution_count": 8,
   "id": "df01ca18",
   "metadata": {},
   "outputs": [
    {
     "name": "stdout",
     "output_type": "stream",
     "text": [
      "5.0\n"
     ]
    }
   ],
   "source": [
    "#Importing library in order to use math.sqrt()\n",
    "import math\n",
    "\n",
    "#Create the two points's coordinates\n",
    "u = tuple([3,0])\n",
    "v = tuple([0,4])\n",
    "\n",
    "#Calculating the distances on the axis\n",
    "distance_x = u[0] + v[0]\n",
    "distance_y = u[1] + v[1]\n",
    "\n",
    "#Calculating the distance using Pitagora's theorem\n",
    "distance = math.sqrt(distance_x**2 + distance_y**2)\n",
    "\n",
    "#Print the result\n",
    "print(distance)"
   ]
  },
  {
   "cell_type": "markdown",
   "id": "5aa69da6",
   "metadata": {},
   "source": [
    "# 4 Counting letters\n",
    "\n",
    "Write a program that calculates the number of times each character occurs in a given string. Ignore differences in capitalization.\n",
    "\n",
    "The test strings are:"
   ]
  },
  {
   "cell_type": "code",
   "execution_count": 9,
   "id": "6356d843",
   "metadata": {},
   "outputs": [],
   "source": [
    "s1 = \"Write a program that prints the numbers from 1 to 100. \\\n",
    "But for multiples of three print Hello instead of the number and for the multiples of five print World. \\\n",
    "For numbers which are multiples of both three and five print HelloWorld.\"\n",
    "s2 = \"The quick brown fox jumps over the lazy dog\""
   ]
  },
  {
   "cell_type": "code",
   "execution_count": 10,
   "metadata": {},
   "outputs": [],
   "source": [
    "#Define a function which counts the occurrences of every char\n",
    "def count_char_occurrences(input_string, excludes, dict):\n",
    "    #Iter the string\n",
    "    for char in input_string:\n",
    "        #If the char is an actual char \n",
    "        if char not in excludes:\n",
    "            #I don't wanna count separately capital chars from lower chars\n",
    "            char = char.lower()\n",
    "            #If the current char is already counted\n",
    "            if char in dict:\n",
    "                #Increment the occurrences counter\n",
    "                dict[char] += 1\n",
    "            else:\n",
    "                #Instance a first value\n",
    "                dict[char] = 1\n",
    "    #Return the dictionary updated\n",
    "    return dict"
   ]
  },
  {
   "cell_type": "code",
   "execution_count": 11,
   "id": "5de9b09a",
   "metadata": {},
   "outputs": [
    {
     "name": "stdout",
     "output_type": "stream",
     "text": [
      "Chiave: w, Valore: 5\n",
      "Chiave: r, Valore: 21\n",
      "Chiave: i, Valore: 13\n",
      "Chiave: t, Valore: 21\n",
      "Chiave: e, Valore: 23\n",
      "Chiave: a, Valore: 8\n",
      "Chiave: p, Valore: 9\n",
      "Chiave: o, Valore: 19\n",
      "Chiave: g, Valore: 2\n",
      "Chiave: m, Valore: 9\n",
      "Chiave: h, Valore: 13\n",
      "Chiave: n, Valore: 11\n",
      "Chiave: s, Valore: 8\n",
      "Chiave: u, Valore: 9\n",
      "Chiave: b, Valore: 6\n",
      "Chiave: f, Valore: 11\n",
      "Chiave: l, Valore: 13\n",
      "Chiave: d, Valore: 6\n",
      "Chiave: v, Valore: 3\n",
      "Chiave: c, Valore: 2\n",
      "Chiave: q, Valore: 1\n",
      "Chiave: k, Valore: 1\n",
      "Chiave: x, Valore: 1\n",
      "Chiave: j, Valore: 1\n",
      "Chiave: z, Valore: 1\n",
      "Chiave: y, Valore: 1\n"
     ]
    }
   ],
   "source": [
    "#We have to use a Dictionary{\"char\", \"occurrence\"}\n",
    "char_with_occurrences = {}\n",
    "\n",
    "#List of the non-char symbols\n",
    "excludes = [str(0), str(1), \" \", \".\"]\n",
    "\n",
    "#Call a function which counts the times every char appear\n",
    "char_occurrences = count_char_occurrences(s1, excludes, char_with_occurrences)\n",
    "char_occurrences = count_char_occurrences(s2, excludes, char_with_occurrences)\n",
    "\n",
    "#Print the dictionary\n",
    "for key, value in char_with_occurrences.items():\n",
    "    print(f\"Chiave: {key}, Valore: {value}\")"
   ]
  }
 ],
 "metadata": {
  "kernelspec": {
   "display_name": "Python 3",
   "language": "python",
   "name": "python3"
  },
  "language_info": {
   "codemirror_mode": {
    "name": "ipython",
    "version": 3
   },
   "file_extension": ".py",
   "mimetype": "text/x-python",
   "name": "python",
   "nbconvert_exporter": "python",
   "pygments_lexer": "ipython3",
   "version": "3.11.5"
  }
 },
 "nbformat": 4,
 "nbformat_minor": 5
}
