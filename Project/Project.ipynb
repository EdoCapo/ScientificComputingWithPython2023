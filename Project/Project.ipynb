{
 "cells": [
  {
   "cell_type": "markdown",
   "metadata": {},
   "source": [
    "# Analysis of Vodafone users' fluxes\n",
    "\n",
    "The study of the flux of people inside urban areas is of paramount importance to achieve an optimal understanding of emerging critical issues in the local mobility, and to explore areas of potential improvements in the infrastructures and local transports.\n",
    "\n",
    "The mobility of users within and toward Padova has been monitored using the data provided by the Vodafone mobile carrier, which provides the information based on the users' connections to the network cells.\n",
    "The data provided by the carrier encompasses the monitoring of the users connected to the Vodafone network in Padova in a four-month period from February to May of 2018.\n",
    "\n",
    "To provide statistical insights on the number and the flow of users, the data is aggregated based on the origin and movements of the users by averaging the number of connections during the time of the monitoring.\n",
    "\n",
    "To further avoid privacy violation issues, all observations with less than 30 units (e.g. day-areas for which $<$ 30 users have contributed) have been discarded and/or merged into dedicated categories (indicated with \"altro\", or \"other\").\n",
    "\n",
    "\n",
    "## Datasets \n",
    "\n",
    "The data is provided in `.csv` files.\n",
    "\n",
    "* __day_od.csv__: table of the origins and destinations of the users averaged by the day of the week. The data is provided with details of the month, type of user (resident in Padova/Italian visitor/foreign visitor), country of provenance, together with the province and comune of the user (if available).\n",
    "* __distinct_users_day.csv__: table of the number of distinct users by origin. The data is provided with details of the month, type of user (resident in Padova/Italian visitor/foreign visitor), country of provenance, together with the province and comune of the user (if available).\n",
    "\n",
    "The information is stored in the fields according to the following scheme: \n",
    "\n",
    "- __MONTH__: month analyzed\n",
    "- __DOW__: day analyzed\n",
    "- __ORIGIN__: users' origin area (do not consider this field)\n",
    "- __DESTINATION__: users' destination area (do not consider this field)\n",
    "- __CUST_CLASS__: user type (resident / Italian visitor / foreigner visitor)\n",
    "- __COD_COUNTRY__: users' country code (e.g. 222=Italy)\n",
    "- __COD_PRO__: users' province code (e.g. 12=Varese) \n",
    "- __PRO_COM__: users' comune code (e.g. 12026=Busto Arsizio)\n",
    "- __FLOW__: number of movements for given date-time (with a minimum of 30 users)\n",
    "- __VISITORS__: overall number of users \n",
    "\n",
    "Together with the data files, three lookup-tables are provided to allow matching the Italian institute of STATistics (ISTAT) country, province and comune codes to the actual names.\n",
    "\n",
    "* __codici_istat_comune.csv__: lookup file containing the mapping between _comune_ ISTAT code-names\n",
    "* __codici_istat_provincia.csv__: lookup file containing the mapping between _province_ ISTAT code-names\n",
    "* __codici_nazioni.csv__: lookup file containing mapping the _country_ code to its name\n",
    "\n",
    "Additional information, useful for the study of the flow of users, as the number of inhabitants of each province and the distance between Padova and all other Italian provinces can be extracted based on the data collected by the ISTAT:\n",
    "\n",
    "   - English: https://www.istat.it/en/analysis-and-products/databases, Italian: https://www.istat.it/it/dati-analisi-e-prodotti/banche-dati\n",
    "   \n",
    "   - English/Italian: https://www.istat.it/en/archive/157423, Italian: https://www.istat.it/it/archivio/157423\n",
    "   \n",
    "   - `.zip` package containing the distances between comuni in Veneto region: http://www.istat.it/storage/cartografia/matrici_distanze/Veneto.zip\n",
    "\n",
    "If deemed useful, the open repository [https://github.com/openpolis/geojson-italy](https://github.com/openpolis/geojson-italy) contains a `.json` file with the geographical coordinates of the provences and comuni of Italy.\n",
    "\n",
    "\n",
    "## Assignments\n",
    "\n",
    "1. Data preparation: the csv files are originated from different sources, hence resulting in differences in the encoding and end-of-lines that have to be taken into account in the data preparation phase. Make sure each .csv file is properly interpreted.\n",
    "\n",
    "   1.1 Ranking of visitors from foreign countries: based on the number of total visitors per each country, create a ranked plot of the first 20 countries with the most visitors\n",
    "   \n",
    "   1.2 Ranking of Italian visitors by province, weighted by the number of inhabitants: based on the number of total visitors per Italian province, create a ranked plot of the first 20 provinces with the most visitors taking into account the number of inhabitants.\n",
    "\n",
    "\n",
    "2. Study of the visitors' fluxes: you are asked to provide indications on how to invest resources to improve the mobility towards Padova. Consider the three main directions of visitors and commuters getting to Padova through the main highways (from south, A13 towards Bologna-Roma; from west, A4 towards Milano-Torino; from north-east, A4 towards Venice-Trieste). Evaluate which of the three directions has to be prioritized.\n",
    "\n",
    "   2.1 Consider a simplified case involving only the mid-range mobility, based on the number of visitors/commuters from the nearby regions only\n",
    "   \n",
    "   2.2 Consider the provinces located on the three directions that are mostly contributing to the flow of weekend visitors and working daily commuters by performing a more detailed study of the fluxes based on the day of the week. Use the data available to provide what you believe is the best possible answer.\n",
    "\n",
    "\n",
    "3. Plot the distribution of the number of visitors by the distance of the province of origin. Determine which kind of function should be used to describe the distribution.\n",
    "\n",
    "   3.1 Assuming an analytic form can be used to describe the trend, create a regression or a fit to estimate the expected number of visitors by the distance of the province of origin and the corresponding uncertainties. Illustrate the difference between the resulting regression with respect to the numbers provided by the Vodafone monitoring, and highlight the five most striking discrepancies from the expectations."
   ]
  },
  {
   "cell_type": "markdown",
   "metadata": {},
   "source": [
    "# Imports"
   ]
  },
  {
   "cell_type": "code",
   "execution_count": null,
   "metadata": {},
   "outputs": [],
   "source": [
    "import chardet #Used to detect the encoding of the CSV files\n",
    "import codecs  #Used to read the CSV UTF-16\n",
    "import io      #Used to write the CSV ISO-8859-1\n",
    "import pandas as pd #Used to store data into dataframes\n",
    "import matplotlib.pyplot as plt #Used to represent data"
   ]
  },
  {
   "cell_type": "markdown",
   "metadata": {},
   "source": [
    "# 1 Data preparation"
   ]
  },
  {
   "cell_type": "code",
   "execution_count": null,
   "metadata": {},
   "outputs": [],
   "source": [
    "#list of csv files\n",
    "filename_codici_istat_comuni = \".\\codici_istat_comune.csv\"\n",
    "filename_codici_istat_provincia = \".\\codici_istat_provincia.csv\"\n",
    "filename_codici_nazioni = \".\\codici_nazioni.csv\"\n",
    "filename_day_od = \".\\day_od.csv\"\n",
    "filename_distinct_user_day = \".\\distinct_users_day.csv\"\n",
    "\n",
    "#Creating a list to boost performances of the loops\n",
    "filenames = [filename_codici_istat_comuni, filename_codici_istat_provincia, filename_codici_nazioni,\n",
    "             filename_day_od, filename_distinct_user_day]"
   ]
  },
  {
   "cell_type": "code",
   "execution_count": null,
   "metadata": {},
   "outputs": [],
   "source": [
    "#Function which returns the encoding of each csv file\n",
    "def check_encoding(file):\n",
    "    #Read the file\n",
    "    with open(file, 'rb') as f:\n",
    "        #Detect the encoding\n",
    "        result = chardet.detect(f.read())\n",
    "\n",
    "    #Return a list of the encodings\n",
    "    return result['encoding']\n",
    "\n",
    "for file in filenames:\n",
    " print(check_encoding(file))"
   ]
  },
  {
   "cell_type": "markdown",
   "metadata": {},
   "source": [
    "Dal momento che sono 3 ISO e 2 UTF si pone il problema di una codifica eterogenea dei file. Bisogna scegliere una codifica. Essendo il file basato su l'italia immagino che la lingua dominante sia quella con i caratteri europei $ \\rightarrow $ sceglierei l'ISO"
   ]
  },
  {
   "cell_type": "code",
   "execution_count": null,
   "metadata": {},
   "outputs": [],
   "source": [
    "#Function wich converts the UTF-16 encoded files into ISO-8859-1 encoded files\n",
    "def encoding_converter(files):\n",
    "    for file in files:\n",
    "        #Saving the encoding of each file\n",
    "        encodings = check_encoding(file)\n",
    "\n",
    "        # If the encoding is different to ISO-8859-1 it has to be converted\n",
    "        if encodings != \"ISO-8859-1\" :\n",
    "            # Open the file and saving the content\n",
    "            with codecs.open(file, 'r', 'utf-16') as f:\n",
    "                data = f.read()\n",
    "\n",
    "            # Overwrite the file with a new encoding\n",
    "            with io.open(file, 'w', encoding='latin1') as f:\n",
    "                f.write(data)\n"
   ]
  },
  {
   "cell_type": "markdown",
   "metadata": {},
   "source": [
    "### 1.1 Ranking of visitors from foreign countries"
   ]
  },
  {
   "cell_type": "markdown",
   "metadata": {},
   "source": [
    "### 1.2 Ranking of visitors from Italy"
   ]
  },
  {
   "cell_type": "markdown",
   "metadata": {},
   "source": [
    "# 2 Study of the visitors' fluxes"
   ]
  },
  {
   "cell_type": "code",
   "execution_count": null,
   "metadata": {},
   "outputs": [],
   "source": [
    "def selector_codes(range_of_mobility):\n",
    "    if range_of_mobility == \"highways\":\n",
    "        '''\n",
    "        Consider the three main directions:\n",
    "        A13 Roma-Bologna\n",
    "        A4 Torino-Milano\n",
    "        A4 Trieste-Venezia\n",
    "        \n",
    "        '''\n",
    "        #Consider the istat province codes\n",
    "        codes = pd.read_csv(filename_codici_istat_provincia, encoding='latin1', usecols=['PROVINCIA', 'COD_PRO'])\n",
    "\n",
    "        #Consider the codes of those six provinces\n",
    "        codes = codes.loc[(codes['PROVINCIA'] == 'Torino') |\n",
    "                            (codes['PROVINCIA'] == 'Roma') |\n",
    "                            (codes['PROVINCIA'] == 'Venezia') |\n",
    "                            (codes['PROVINCIA'] == 'Bologna') |\n",
    "                            (codes['PROVINCIA'] == 'Trieste') |\n",
    "                            (codes['PROVINCIA'] == 'Milano')]\n",
    "    \n",
    "    elif range_of_mobility == \"mid\":\n",
    "        '''\n",
    "        Consider the nearby regions:\n",
    "        - Lombardia (Milano)\n",
    "        - Trentino Alto Adige (Trento)\n",
    "        - Friuli Venezia Giulia (Udine)\n",
    "        - Emilia Romagna (Bologna) (Reggio nell'emilia has char which can be confused)\n",
    "        '''\n",
    "        \n",
    "        #Consider the istat codes for 4 regions\n",
    "        codes = pd.read_csv(filename_codici_istat_provincia, encoding='latin1', usecols=['PROVINCIA', 'COD_REG'])\n",
    "\n",
    "        #Consider the codes of those six provinces\n",
    "        codes = codes.loc[(codes['PROVINCIA'] == 'Milano') |\n",
    "                        (codes['PROVINCIA'] == 'Trento') |\n",
    "                        (codes['PROVINCIA'] == 'Udine') |\n",
    "                        (codes['PROVINCIA'] == 'Bologna')]\n",
    "\n",
    "    return codes"
   ]
  },
  {
   "cell_type": "code",
   "execution_count": null,
   "metadata": {},
   "outputs": [],
   "source": [
    "def visitors_fluxes(range_of_mobility, file_customers):\n",
    "    codes = selector_codes(range_of_mobility)\n",
    "    \n",
    "    #Now take the data of the customers and see what's their origin and their destination\n",
    "    customers_data = pd.read_csv(file_customers, encoding='latin1', usecols = ['COD_PRO', 'FLOW'])#, 'CUST_CLASS'])\n",
    "\n",
    "    #Filtering the residents NON SO SE ABBIA SENSO TOGLIERLI PERCHè ANCHE LORO CONTRIBUISCONO AL TRAFFICO\n",
    "    #customers_data = customers_data.loc[customers_data['CUST_CLASS'] == \"visitor\"]\n",
    "    \n",
    "    #Join between customers_data and province_codes in this way filters the province_codes in which we're not interested\n",
    "    data = pd.merge(customers_data, codes, on='COD_PRO')\n",
    "\n",
    "    #Counting the flows ov visitors from every city we're interested (both ways)\n",
    "    data = data.groupby(['PROVINCIA'])[['FLOW']].sum()\n",
    "\n",
    "    #Saving the informations per highway\n",
    "    A13_Roma_Bologna = data.FLOW.loc['Roma'] + data.FLOW.loc['Bologna']\n",
    "    A4_Milano_Torino = data.FLOW.loc['Milano'] + data.FLOW.loc['Torino']\n",
    "    A4_Venezia_Trieste = data.FLOW.loc['Venezia'] + data.FLOW.loc['Trieste']\n",
    "\n",
    "    highway = [A13_Roma_Bologna, A4_Milano_Torino, A4_Venezia_Trieste]\n",
    "\n",
    "    #Labels for the plot\n",
    "    highway_labels = [\"A13 Roma-Bologna\", \"A4 Milano-Torino\", \"A4 Venezia-Trieste\"]\n",
    "    \n",
    "    # Plotting\n",
    "    plt.figure(figsize=(10, 4))\n",
    "    plt.bar(highway_labels, highway, color='skyblue')\n",
    "    plt.xlabel('Highways')\n",
    "    plt.ylabel('Visitors'' flow')\n",
    "    plt.title('Visitors'' flow per highway')\n",
    "    # Set the scale to avoid the exponential notation \n",
    "    plt.ticklabel_format(style='plain', axis='y')\n",
    "    plt.tight_layout()\n",
    "\n",
    "    plt.show()\n",
    "\n",
    "#visitors_fluxes(\"highways\", filename_day_od)"
   ]
  },
  {
   "cell_type": "markdown",
   "metadata": {},
   "source": [
    "### 2.1 Mid-range mobility\n",
    "Mobility to/from nearby regions, which are Lombardia, Trentino Alto Adige, Friuli Venezia Giulia, Emilia Romagna"
   ]
  },
  {
   "cell_type": "code",
   "execution_count": null,
   "metadata": {},
   "outputs": [],
   "source": [
    "def nearby_visitors_fluxes(range_of_mobility, file_customers):\n",
    "    codes = selector_codes(range_of_mobility)\n",
    "\n",
    "    #Now take the data of the customers and see what's their origin and their destination\n",
    "    customers_data = pd.read_csv(file_customers, encoding='latin1', usecols = ['COD_PRO', 'FLOW'])\n",
    "\n",
    "    return codes\n",
    "    \n",
    "visitors_fluxes(\"mid\", filename_day_od)"
   ]
  }
 ],
 "metadata": {
  "kernelspec": {
   "display_name": "Python 3",
   "language": "python",
   "name": "python3"
  },
  "language_info": {
   "codemirror_mode": {
    "name": "ipython",
    "version": 3
   },
   "file_extension": ".py",
   "mimetype": "text/x-python",
   "name": "python",
   "nbconvert_exporter": "python",
   "pygments_lexer": "ipython3",
   "version": "3.11.5"
  }
 },
 "nbformat": 4,
 "nbformat_minor": 2
}
