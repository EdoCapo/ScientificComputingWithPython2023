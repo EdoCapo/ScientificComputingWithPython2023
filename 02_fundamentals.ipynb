{
 "cells": [
  {
   "cell_type": "markdown",
   "metadata": {},
   "source": [
    "# Functions and classes\n",
    "\n",
    "\n",
    "## Modules, packages, libraries\n",
    "\n",
    "Definitions:\n",
    "\n",
    "  * Modules:\n",
    "  A module is a file which contains python functions, global variables etc. It is nothing but a `.py` file which has Python executable code.\n",
    "\n",
    "  * Packages:\n",
    "  A package is a collection of Python modules: while a module is a single Python file, a package is a directory of Python modules containing an additional `__init__.py` file, to distinguish a package from a directory that just happens to contain a bunch of Python scripts. Packages can be nested to any depth, provided that the corresponding directories contain their own `__init__.py` file.\n",
    "  \n",
    "  * Libraries:\n",
    "  A library is a collection of various packages. There is no difference between a package and Python library conceptually.\n",
    "  \n",
    "Modules/packages/libraries can be easily \"imported\" and made functional in your python code. A set of basic libriaries comes with every Python installation. Others can be installed on the local machine and then imported. Your own code sitting somewhere else in your local computer can be imported too.\n",
    "\n",
    "Further details on packages and how to create them can be found on the online Python documentation: for instance for the [math library](https://docs.python.org/3/library/math.html)."
   ]
  },
  {
   "cell_type": "code",
   "execution_count": 1,
   "metadata": {},
   "outputs": [
    {
     "name": "stdout",
     "output_type": "stream",
     "text": [
      "3.141592653589793\n",
      "3.141592653589793\n",
      "3.141592653589793\n",
      "2.6457513110645907\n"
     ]
    }
   ],
   "source": [
    "# Import all the content of the math library\n",
    "import math\n",
    "print(math.pi)\n",
    "\n",
    "# You can import a library and label it for convenience\n",
    "import math as m\n",
    "print(m.pi)\n",
    "\n",
    "# Alternatively, you can import only a given object or function from the library instead of the full library\n",
    "from math import pi, sqrt  # you can add several libraries at once, just list them separated by a ', '\n",
    "print(pi)\n",
    "\n",
    "# Importing the full library (try to avoid this if you only need specific functions)\n",
    "from math import *\n",
    "print(sqrt(7))"
   ]
  },
  {
   "cell_type": "markdown",
   "metadata": {},
   "source": [
    "To know which modules are installed and ready to be imported:"
   ]
  },
  {
   "cell_type": "code",
   "execution_count": 2,
   "metadata": {},
   "outputs": [
    {
     "name": "stdout",
     "output_type": "stream",
     "text": [
      "builtins\n",
      "sys\n",
      "_frozen_importlib\n",
      "_imp\n",
      "_warnings\n",
      "_thread\n",
      "_weakref\n",
      "_frozen_importlib_external\n",
      "_io\n",
      "marshal\n",
      "posix\n",
      "zipimport\n",
      "encodings\n",
      "codecs\n",
      "_codecs\n",
      "encodings.aliases\n",
      "encodings.utf_8\n",
      "_signal\n",
      "__main__\n",
      "encodings.latin_1\n",
      "io\n",
      "abc\n",
      "_weakrefset\n",
      "_bootlocale\n",
      "_locale\n",
      "site\n",
      "os\n",
      "errno\n",
      "stat\n",
      "_stat\n",
      "posixpath\n",
      "genericpath\n",
      "os.path\n",
      "_collections_abc\n",
      "_sitebuiltins\n",
      "sysconfig\n",
      "_sysconfigdata_m_linux_x86_64-linux-gnu\n",
      "abrt_exception_handler3\n",
      "types\n",
      "functools\n",
      "_functools\n",
      "collections\n",
      "operator\n",
      "_operator\n",
      "keyword\n",
      "heapq\n",
      "_heapq\n",
      "itertools\n",
      "reprlib\n",
      "_collections\n",
      "weakref\n",
      "collections.abc\n",
      "importlib\n",
      "importlib._bootstrap\n",
      "importlib._bootstrap_external\n",
      "warnings\n",
      "importlib.util\n",
      "importlib.abc\n",
      "importlib.machinery\n",
      "contextlib\n",
      "mpl_toolkits\n",
      "runpy\n",
      "pkgutil\n",
      "ipykernel\n",
      "ipykernel._version\n",
      "ipykernel.connect\n",
      "json\n",
      "json.decoder\n",
      "re\n",
      "enum\n",
      "sre_compile\n",
      "_sre\n",
      "sre_parse\n",
      "sre_constants\n",
      "copyreg\n",
      "json.scanner\n",
      "_json\n",
      "json.encoder\n",
      "subprocess\n",
      "time\n",
      "signal\n",
      "_posixsubprocess\n",
      "select\n",
      "selectors\n",
      "math\n",
      "threading\n",
      "traceback\n",
      "linecache\n",
      "tokenize\n",
      "token\n",
      "IPython\n",
      "IPython.core\n",
      "IPython.core.getipython\n",
      "IPython.core.release\n",
      "IPython.core.application\n",
      "atexit\n",
      "copy\n",
      "glob\n",
      "fnmatch\n",
      "logging\n",
      "string\n",
      "_string\n",
      "shutil\n",
      "zlib\n",
      "bz2\n",
      "_compression\n",
      "_bz2\n",
      "lzma\n",
      "_lzma\n",
      "pwd\n",
      "grp\n",
      "traitlets\n",
      "traitlets.traitlets\n",
      "inspect\n",
      "ast\n",
      "_ast\n",
      "dis\n",
      "opcode\n",
      "_opcode\n",
      "six\n",
      "__future__\n",
      "struct\n",
      "_struct\n",
      "traitlets.utils\n",
      "traitlets.utils.getargspec\n",
      "traitlets.utils.importstring\n",
      "ipython_genutils\n",
      "ipython_genutils._version\n",
      "ipython_genutils.py3compat\n",
      "ipython_genutils.encoding\n",
      "locale\n",
      "platform\n",
      "traitlets.utils.sentinel\n",
      "traitlets.utils.bunch\n",
      "traitlets._version\n",
      "traitlets.config\n",
      "traitlets.config.application\n",
      "decorator\n",
      "traitlets.config.configurable\n",
      "traitlets.config.loader\n",
      "argparse\n",
      "textwrap\n",
      "gettext\n",
      "ipython_genutils.path\n",
      "random\n",
      "hashlib\n",
      "_hashlib\n",
      "_blake2\n",
      "_sha3\n",
      "bisect\n",
      "_bisect\n",
      "_random\n",
      "ipython_genutils.text\n",
      "ipython_genutils.importstring\n",
      "IPython.core.crashhandler\n",
      "pprint\n",
      "IPython.core.ultratb\n",
      "pydoc\n",
      "urllib\n",
      "urllib.parse\n",
      "IPython.core.debugger\n",
      "bdb\n",
      "IPython.utils\n",
      "IPython.utils.PyColorize\n",
      "IPython.utils.coloransi\n",
      "IPython.utils.ipstruct\n",
      "IPython.utils.colorable\n",
      "pygments\n",
      "IPython.utils.py3compat\n",
      "IPython.utils.encoding\n",
      "IPython.core.excolors\n",
      "IPython.testing\n",
      "IPython.testing.skipdoctest\n",
      "pdb\n",
      "cmd\n",
      "code\n",
      "codeop\n",
      "IPython.core.display_trap\n",
      "IPython.utils.path\n",
      "IPython.utils.process\n",
      "IPython.utils._process_posix\n",
      "pexpect\n",
      "pexpect.exceptions\n",
      "pexpect.utils\n",
      "pexpect.expect\n",
      "pexpect.pty_spawn\n",
      "pty\n",
      "tty\n",
      "termios\n",
      "ptyprocess\n",
      "ptyprocess.ptyprocess\n",
      "fcntl\n",
      "resource\n",
      "ptyprocess.util\n",
      "pexpect.spawnbase\n",
      "pexpect.run\n",
      "IPython.utils._process_common\n",
      "shlex\n",
      "IPython.utils.decorators\n",
      "IPython.utils.data\n",
      "IPython.utils.terminal\n",
      "IPython.utils.sysinfo\n",
      "IPython.utils._sysinfo\n",
      "IPython.core.profiledir\n",
      "IPython.paths\n",
      "tempfile\n",
      "IPython.utils.importstring\n",
      "IPython.terminal\n",
      "IPython.terminal.embed\n",
      "IPython.core.compilerop\n",
      "IPython.core.magic_arguments\n",
      "IPython.core.error\n",
      "IPython.utils.text\n",
      "pathlib\n",
      "ntpath\n",
      "IPython.core.magic\n",
      "getopt\n",
      "IPython.core.oinspect\n",
      "typing\n",
      "typing.io\n",
      "typing.re\n",
      "IPython.core.page\n",
      "IPython.core.display\n",
      "binascii\n",
      "mimetypes\n",
      "IPython.lib\n",
      "IPython.lib.security\n",
      "getpass\n",
      "IPython.lib.pretty\n",
      "datetime\n",
      "_datetime\n",
      "IPython.utils.openpy\n",
      "IPython.utils.dir2\n",
      "IPython.utils.wildcard\n",
      "pygments.lexers\n",
      "pygments.lexers._mapping\n",
      "pygments.modeline\n",
      "pygments.plugin\n",
      "pygments.util\n",
      "pygments.lexers.python\n",
      "pygments.lexer\n",
      "pygments.filter\n",
      "pygments.filters\n",
      "pygments.token\n",
      "pygments.regexopt\n",
      "pygments.unistring\n",
      "pygments.formatters\n",
      "pygments.formatters._mapping\n",
      "pygments.formatters.html\n",
      "pygments.formatter\n",
      "pygments.styles\n",
      "IPython.core.inputtransformer2\n",
      "IPython.core.interactiveshell\n",
      "pickleshare\n",
      "pickle\n",
      "_compat_pickle\n",
      "_pickle\n",
      "IPython.core.prefilter\n",
      "IPython.core.autocall\n",
      "IPython.core.macro\n",
      "IPython.core.splitinput\n",
      "IPython.core.alias\n",
      "IPython.core.builtin_trap\n",
      "IPython.core.events\n",
      "backcall\n",
      "backcall.backcall\n",
      "IPython.core.displayhook\n",
      "IPython.core.displaypub\n",
      "IPython.core.extensions\n",
      "IPython.core.formatters\n",
      "IPython.utils.sentinel\n",
      "IPython.core.history\n",
      "sqlite3\n",
      "sqlite3.dbapi2\n",
      "_sqlite3\n",
      "IPython.core.logger\n",
      "IPython.core.payload\n",
      "IPython.core.usage\n",
      "IPython.display\n",
      "IPython.lib.display\n",
      "html\n",
      "html.entities\n",
      "IPython.utils.io\n",
      "IPython.utils.capture\n",
      "IPython.utils.strdispatch\n",
      "IPython.core.hooks\n",
      "IPython.utils.syspathcontext\n",
      "IPython.utils.tempdir\n",
      "IPython.utils.contexts\n",
      "IPython.core.async_helpers\n",
      "IPython.terminal.interactiveshell\n",
      "asyncio\n",
      "asyncio.base_events\n",
      "concurrent\n",
      "concurrent.futures\n",
      "concurrent.futures._base\n",
      "concurrent.futures.process\n",
      "queue\n",
      "multiprocessing\n",
      "multiprocessing.context\n",
      "multiprocessing.process\n",
      "multiprocessing.reduction\n",
      "socket\n",
      "_socket\n",
      "array\n",
      "__mp_main__\n",
      "multiprocessing.connection\n",
      "_multiprocessing\n",
      "multiprocessing.util\n",
      "concurrent.futures.thread\n",
      "asyncio.compat\n",
      "asyncio.coroutines\n",
      "asyncio.constants\n",
      "asyncio.events\n",
      "asyncio.base_futures\n",
      "asyncio.log\n",
      "asyncio.futures\n",
      "asyncio.base_tasks\n",
      "_asyncio\n",
      "asyncio.tasks\n",
      "asyncio.locks\n",
      "asyncio.protocols\n",
      "asyncio.queues\n",
      "asyncio.streams\n",
      "asyncio.subprocess\n",
      "asyncio.transports\n",
      "asyncio.unix_events\n",
      "asyncio.base_subprocess\n",
      "asyncio.selector_events\n",
      "ssl\n",
      "ipaddress\n",
      "_ssl\n",
      "base64\n",
      "asyncio.sslproto\n",
      "prompt_toolkit\n",
      "prompt_toolkit.application\n",
      "prompt_toolkit.application.application\n",
      "prompt_toolkit.buffer\n",
      "prompt_toolkit.application.current\n",
      "prompt_toolkit.eventloop\n",
      "prompt_toolkit.eventloop.async_generator\n",
      "prompt_toolkit.eventloop.async_context_manager\n",
      "prompt_toolkit.eventloop.utils\n",
      "prompt_toolkit.eventloop.dummy_contextvars\n",
      "prompt_toolkit.eventloop.inputhook\n",
      "prompt_toolkit.application.run_in_terminal\n",
      "prompt_toolkit.auto_suggest\n",
      "prompt_toolkit.document\n",
      "prompt_toolkit.clipboard\n",
      "prompt_toolkit.clipboard.base\n",
      "prompt_toolkit.selection\n",
      "prompt_toolkit.clipboard.in_memory\n",
      "prompt_toolkit.filters\n",
      "prompt_toolkit.filters.app\n",
      "prompt_toolkit.cache\n",
      "prompt_toolkit.enums\n",
      "prompt_toolkit.filters.base\n",
      "prompt_toolkit.filters.cli\n",
      "prompt_toolkit.filters.utils\n",
      "prompt_toolkit.completion\n",
      "prompt_toolkit.completion.base\n",
      "prompt_toolkit.formatted_text\n",
      "prompt_toolkit.formatted_text.ansi\n",
      "prompt_toolkit.output\n",
      "prompt_toolkit.output.base\n",
      "prompt_toolkit.cursor_shapes\n",
      "prompt_toolkit.key_binding\n",
      "prompt_toolkit.key_binding.key_bindings\n",
      "prompt_toolkit.keys\n",
      "prompt_toolkit.key_binding.key_processor\n",
      "prompt_toolkit.utils\n",
      "wcwidth\n",
      "wcwidth.wcwidth\n",
      "wcwidth.table_wide\n",
      "wcwidth.table_zero\n",
      "wcwidth.unicode_versions\n",
      "prompt_toolkit.key_binding.vi_state\n",
      "prompt_toolkit.data_structures\n",
      "prompt_toolkit.styles\n",
      "prompt_toolkit.styles.base\n",
      "prompt_toolkit.styles.defaults\n",
      "prompt_toolkit.styles.named_colors\n",
      "prompt_toolkit.styles.style\n",
      "prompt_toolkit.styles.pygments\n",
      "prompt_toolkit.styles.style_transformation\n",
      "colorsys\n",
      "prompt_toolkit.output.color_depth\n",
      "prompt_toolkit.output.defaults\n",
      "prompt_toolkit.output.plain_text\n",
      "prompt_toolkit.output.flush_stdout\n",
      "prompt_toolkit.output.vt100\n",
      "prompt_toolkit.formatted_text.base\n",
      "prompt_toolkit.mouse_events\n",
      "prompt_toolkit.formatted_text.html\n",
      "xml\n",
      "xml.dom\n",
      "xml.dom.domreg\n",
      "xml.dom.minidom\n",
      "xml.dom.minicompat\n",
      "xml.dom.xmlbuilder\n",
      "xml.dom.NodeFilter\n",
      "prompt_toolkit.formatted_text.pygments\n",
      "prompt_toolkit.formatted_text.utils\n",
      "prompt_toolkit.completion.deduplicate\n",
      "prompt_toolkit.completion.filesystem\n",
      "prompt_toolkit.completion.fuzzy_completer\n",
      "prompt_toolkit.completion.word_completer\n",
      "prompt_toolkit.completion.nested\n",
      "prompt_toolkit.history\n",
      "prompt_toolkit.search\n",
      "prompt_toolkit.validation\n",
      "prompt_toolkit.input\n",
      "prompt_toolkit.input.base\n",
      "prompt_toolkit.input.defaults\n",
      "prompt_toolkit.input.typeahead\n",
      "prompt_toolkit.key_binding.bindings\n",
      "prompt_toolkit.key_binding.bindings.page_navigation\n",
      "prompt_toolkit.key_binding.bindings.scroll\n",
      "prompt_toolkit.key_binding.defaults\n",
      "prompt_toolkit.key_binding.bindings.basic\n",
      "prompt_toolkit.key_binding.bindings.named_commands\n",
      "prompt_toolkit.layout\n",
      "prompt_toolkit.layout.containers\n",
      "prompt_toolkit.layout.controls\n",
      "prompt_toolkit.lexers\n",
      "prompt_toolkit.lexers.base\n",
      "prompt_toolkit.lexers.pygments\n",
      "prompt_toolkit.layout.processors\n",
      "prompt_toolkit.layout.utils\n",
      "prompt_toolkit.layout.dimension\n",
      "prompt_toolkit.layout.margins\n",
      "prompt_toolkit.layout.mouse_handlers\n",
      "prompt_toolkit.layout.screen\n",
      "prompt_toolkit.layout.layout\n",
      "prompt_toolkit.layout.menus\n",
      "prompt_toolkit.layout.scrollable_pane\n",
      "prompt_toolkit.key_binding.bindings.completion\n",
      "prompt_toolkit.key_binding.bindings.cpr\n",
      "prompt_toolkit.key_binding.bindings.emacs\n",
      "prompt_toolkit.key_binding.bindings.mouse\n",
      "prompt_toolkit.key_binding.bindings.vi\n",
      "prompt_toolkit.input.vt100_parser\n",
      "prompt_toolkit.input.ansi_escape_sequences\n",
      "prompt_toolkit.key_binding.digraphs\n",
      "prompt_toolkit.key_binding.emacs_state\n",
      "prompt_toolkit.layout.dummy\n",
      "prompt_toolkit.renderer\n",
      "prompt_toolkit.application.dummy\n",
      "prompt_toolkit.shortcuts\n",
      "prompt_toolkit.shortcuts.dialogs\n",
      "prompt_toolkit.key_binding.bindings.focus\n",
      "prompt_toolkit.widgets\n",
      "prompt_toolkit.widgets.base\n",
      "prompt_toolkit.widgets.toolbars\n",
      "prompt_toolkit.widgets.dialogs\n",
      "prompt_toolkit.widgets.menus\n",
      "prompt_toolkit.shortcuts.progress_bar\n",
      "prompt_toolkit.shortcuts.progress_bar.base\n",
      "prompt_toolkit.shortcuts.progress_bar.formatters\n",
      "prompt_toolkit.shortcuts.prompt\n",
      "prompt_toolkit.key_binding.bindings.auto_suggest\n",
      "prompt_toolkit.key_binding.bindings.open_in_editor\n",
      "prompt_toolkit.shortcuts.utils\n",
      "prompt_toolkit.patch_stdout\n",
      "pygments.style\n",
      "IPython.terminal.debugger\n",
      "IPython.core.completer\n",
      "unicodedata\n",
      "IPython.core.latex_symbols\n",
      "IPython.utils.generics\n",
      "jedi\n",
      "jedi.api\n",
      "parso\n",
      "parso.parser\n",
      "parso.tree\n",
      "parso._compatibility\n",
      "parso.utils\n",
      "parso.pgen2\n",
      "parso.pgen2.generator\n",
      "parso.pgen2.grammar_parser\n",
      "parso.python\n",
      "parso.python.tokenize\n",
      "parso.python.token\n",
      "parso.grammar\n",
      "parso.python.diff\n",
      "difflib\n",
      "parso.python.parser\n",
      "parso.python.tree\n",
      "parso.python.prefix\n",
      "parso.cache\n",
      "gc\n",
      "parso.file_io\n",
      "parso.python.errors\n",
      "parso.normalizer\n",
      "parso.python.pep8\n",
      "jedi._compatibility\n",
      "jedi.file_io\n",
      "jedi.parser_utils\n",
      "jedi.debug\n",
      "jedi.settings\n",
      "jedi.cache\n",
      "jedi.api.classes\n",
      "jedi.inference\n",
      "jedi.inference.imports\n",
      "jedi.inference.sys_path\n",
      "jedi.inference.cache\n",
      "jedi.inference.base_value\n",
      "jedi.inference.helpers\n",
      "jedi.inference.utils\n",
      "jedi.common\n",
      "jedi.inference.compiled\n",
      "jedi.inference.compiled.value\n",
      "jedi.inference.filters\n",
      "jedi.inference.flow_analysis\n",
      "jedi.inference.recursion\n",
      "jedi.inference.names\n",
      "jedi.inference.docstrings\n",
      "jedi.inference.lazy_value\n",
      "jedi.plugins\n",
      "jedi.inference.compiled.access\n",
      "jedi.inference.compiled.getattr_static\n",
      "jedi.inference.signature\n",
      "jedi.inference.context\n",
      "jedi.inference.analysis\n",
      "jedi.inference.gradual\n",
      "jedi.inference.gradual.typeshed\n",
      "jedi.inference.gradual.stub_value\n",
      "jedi.inference.value\n",
      "jedi.inference.value.module\n",
      "jedi.inference.value.klass\n",
      "jedi.inference.arguments\n",
      "jedi.inference.value.iterable\n",
      "jedi.inference.value.dynamic_arrays\n",
      "jedi.inference.value.function\n",
      "jedi.inference.parser_cache\n",
      "jedi.inference.gradual.generics\n",
      "jedi.inference.value.instance\n",
      "jedi.inference.gradual.typing\n",
      "jedi.inference.gradual.base\n",
      "jedi.inference.gradual.type_var\n",
      "jedi.inference.syntax_tree\n",
      "jedi.inference.gradual.annotation\n",
      "jedi.inference.param\n",
      "jedi.inference.value.decorator\n",
      "jedi.inference.compiled.mixed\n",
      "jedi.inference.gradual.conversion\n",
      "jedi.api.keywords\n",
      "pydoc_data\n",
      "pydoc_data.topics\n",
      "jedi.api.completion_cache\n",
      "jedi.api.helpers\n",
      "jedi.api.interpreter\n",
      "jedi.api.completion\n",
      "jedi.api.strings\n",
      "jedi.api.file_name\n",
      "jedi.api.environment\n",
      "filecmp\n",
      "jedi.inference.compiled.subprocess\n",
      "jedi.inference.compiled.subprocess.functions\n",
      "jedi.api.exceptions\n",
      "jedi.api.project\n",
      "jedi.inference.references\n",
      "jedi.api.errors\n",
      "jedi.api.refactoring\n",
      "jedi.api.refactoring.extract\n",
      "jedi.inference.gradual.utils\n",
      "jedi.plugins.registry\n",
      "jedi.plugins.stdlib\n",
      "jedi.plugins.flask\n",
      "jedi.plugins.pytest\n",
      "jedi.plugins.django\n",
      "IPython.terminal.ptutils\n",
      "IPython.terminal.shortcuts\n",
      "IPython.terminal.magics\n",
      "IPython.lib.clipboard\n",
      "IPython.terminal.pt_inputhooks\n",
      "IPython.terminal.prompts\n",
      "IPython.terminal.ipapp\n",
      "IPython.core.magics\n",
      "IPython.core.magics.auto\n",
      "IPython.core.magics.basic\n",
      "IPython.core.magics.code\n",
      "urllib.request\n",
      "email\n",
      "http\n",
      "http.client\n",
      "email.parser\n",
      "email.feedparser\n",
      "email.errors\n",
      "email._policybase\n",
      "email.header\n",
      "email.quoprimime\n",
      "email.base64mime\n",
      "email.charset\n",
      "email.encoders\n",
      "quopri\n",
      "email.utils\n",
      "email._parseaddr\n",
      "calendar\n",
      "email.message\n",
      "uu\n",
      "email._encoded_words\n",
      "email.iterators\n",
      "urllib.error\n",
      "urllib.response\n",
      "IPython.core.magics.config\n",
      "IPython.core.magics.display\n",
      "IPython.core.magics.execution\n",
      "timeit\n",
      "cProfile\n",
      "_lsprof\n",
      "profile\n",
      "optparse\n",
      "pstats\n",
      "IPython.utils.module_paths\n",
      "IPython.utils.timing\n",
      "IPython.core.magics.extension\n",
      "IPython.core.magics.history\n",
      "IPython.core.magics.logging\n",
      "IPython.core.magics.namespace\n",
      "IPython.core.magics.osm\n",
      "IPython.core.magics.packaging\n",
      "IPython.core.magics.pylab\n",
      "IPython.core.pylabtools\n",
      "IPython.core.magics.script\n",
      "IPython.lib.backgroundjobs\n",
      "IPython.core.shellapp\n",
      "IPython.extensions\n",
      "IPython.extensions.storemagic\n",
      "IPython.utils.frame\n",
      "jupyter_client\n",
      "jupyter_client._version\n",
      "jupyter_client.asynchronous\n",
      "jupyter_client.asynchronous.client\n",
      "jupyter_client.channels\n",
      "zmq\n",
      "ctypes\n",
      "_ctypes\n",
      "ctypes._endian\n",
      "zmq.backend\n",
      "zmq.backend.select\n",
      "zmq.backend.cython\n",
      "zmq.backend.cython._device\n",
      "cython_runtime\n",
      "_cython_3_0_0\n",
      "zmq.backend.cython.context\n",
      "zmq.error\n",
      "zmq.backend.cython.socket\n",
      "zmq.backend.cython.message\n",
      "zmq.constants\n",
      "zmq.backend.cython._poll\n",
      "zmq.backend.cython._proxy_steerable\n",
      "zmq.backend.cython._version\n",
      "zmq.backend.cython.error\n",
      "zmq.backend.cython.utils\n",
      "zmq.sugar\n",
      "zmq.sugar.context\n",
      "zmq.utils\n",
      "zmq.utils.interop\n",
      "zmq.sugar.attrsettr\n",
      "zmq.sugar.socket\n",
      "zmq._typing\n",
      "typing_extensions\n",
      "zmq.utils.jsonapi\n",
      "zmq.sugar.poll\n",
      "zmq.sugar.frame\n",
      "zmq.sugar.tracker\n",
      "zmq.sugar.version\n",
      "zmq.sugar.stopwatch\n",
      "zmq.asyncio\n",
      "zmq._future\n",
      "jupyter_client.channelsabc\n",
      "jupyter_client.session\n",
      "hmac\n",
      "_hmacopenssl\n",
      "traitlets.log\n",
      "zmq.eventloop\n",
      "tornado\n",
      "tornado.ioloop\n",
      "numbers\n",
      "tornado.concurrent\n",
      "tornado.log\n",
      "logging.handlers\n",
      "tornado.escape\n",
      "tornado.util\n",
      "tornado.speedups\n",
      "curses\n",
      "_curses\n",
      "zmq.eventloop.ioloop\n",
      "zmq.eventloop.zmqstream\n",
      "jupyter_client.adapter\n",
      "jupyter_client.jsonutil\n",
      "dateutil\n",
      "dateutil._version\n",
      "dateutil.parser\n",
      "dateutil.relativedelta\n",
      "dateutil._common\n",
      "dateutil.tz\n",
      "dateutil.tz.tz\n",
      "dateutil.tz._common\n",
      "six.moves\n",
      "_strptime\n",
      "jupyter_client.client\n",
      "jupyter_client.clientabc\n",
      "jupyter_client.connect\n",
      "jupyter_core\n",
      "jupyter_core.version\n",
      "jupyter_core.paths\n",
      "jupyter_client.localinterfaces\n",
      "jupyter_client.utils\n",
      "jupyter_client.blocking\n",
      "jupyter_client.blocking.client\n",
      "jupyter_client.launcher\n",
      "jupyter_client.manager\n",
      "uuid\n",
      "ctypes.util\n",
      "jupyter_client.managerabc\n",
      "jupyter_client.provisioning\n",
      "jupyter_client.provisioning.factory\n",
      "entrypoints\n",
      "zipfile\n",
      "configparser\n",
      "jupyter_client.provisioning.provisioner_base\n",
      "jupyter_client.provisioning.local_provisioner\n",
      "jupyter_client.kernelspec\n",
      "jupyter_client.multikernelmanager\n",
      "ipykernel.kernelapp\n",
      "ipykernel.iostream\n",
      "imp\n",
      "ipykernel.heartbeat\n",
      "ipykernel.ipkernel\n",
      "IPython.utils.tokenutil\n",
      "tornado.gen\n",
      "ipykernel.comm\n",
      "ipykernel.comm.manager\n",
      "ipykernel.comm.comm\n",
      "ipykernel.kernelbase\n",
      "tornado.queues\n",
      "tornado.locks\n",
      "ipykernel.jsonutil\n",
      "ipykernel.zmqshell\n",
      "IPython.core.payloadpage\n",
      "ipykernel.displayhook\n",
      "ipykernel.datapub\n",
      "ipykernel.serialize\n",
      "ipykernel.pickleutil\n",
      "ipykernel.codeutil\n",
      "ipykernel.eventloops\n",
      "distutils\n",
      "distutils.version\n",
      "ipykernel.parentpoller\n",
      "tornado.platform\n",
      "tornado.platform.asyncio\n",
      "faulthandler\n",
      "IPython.core.completerlib\n",
      "storemagic\n"
     ]
    }
   ],
   "source": [
    "import sys\n",
    "for k, v in sys.modules.items():\n",
    "    print(k)\n",
    "\n",
    "# Alternative for older python versions\n",
    "# print(help('modules'))"
   ]
  },
  {
   "cell_type": "markdown",
   "metadata": {},
   "source": [
    "`pip` is a special package. It is used from the command line to install properly (e.g. matching the version of the local packages) new packages:\n",
    "\n",
    "`pip install matplotlib`\n",
    "\n",
    "`python3 -m pip install matplotlib`\n",
    "\n",
    "It can also be used from within Python to check i.e. the set installed packages and their versions.\n",
    "\n",
    "N.B.: only the installed packages on top of the default ones will be listed."
   ]
  },
  {
   "cell_type": "code",
   "execution_count": 3,
   "metadata": {},
   "outputs": [
    {
     "name": "stdout",
     "output_type": "stream",
     "text": [
      "found distribution MarkupSafe version 2.0.1\n",
      "found distribution Pillow version 8.4.0\n",
      "found distribution tornado version 6.1\n",
      "found distribution statsmodels version 0.12.2\n",
      "found distribution pyrsistent version 0.18.0\n",
      "found distribution pyzmq version 25.1.1\n",
      "found distribution argon2-cffi-bindings version 21.2.0\n",
      "found distribution scikit-learn version 0.24.2\n",
      "found distribution uproot version 4.3.7\n",
      "found distribution seaborn version 0.11.2\n",
      "found distribution Jinja2 version 3.0.3\n",
      "found distribution packaging version 21.3\n",
      "found distribution typing_extensions version 4.1.1\n",
      "found distribution bokeh version 2.3.3\n",
      "found distribution patsy version 0.5.3\n",
      "found distribution pip version 21.3.1\n",
      "found distribution zipp version 3.6.0\n",
      "found distribution ipython-genutils version 0.2.0\n",
      "found distribution traitlets version 4.3.3\n",
      "found distribution importlib-metadata version 4.8.3\n",
      "found distribution attrs version 22.2.0\n",
      "found distribution wcwidth version 0.2.8\n",
      "found distribution parso version 0.7.1\n",
      "found distribution nest-asyncio version 1.5.8\n",
      "found distribution jupyter-core version 4.9.2\n",
      "found distribution jsonschema version 3.2.0\n",
      "found distribution entrypoints version 0.4\n",
      "found distribution Pygments version 2.14.0\n",
      "found distribution prompt-toolkit version 3.0.36\n",
      "found distribution pickleshare version 0.7.5\n",
      "found distribution nbformat version 5.1.3\n",
      "found distribution jupyter-client version 7.1.2\n",
      "found distribution jedi version 0.17.2\n",
      "found distribution backcall version 0.2.0\n",
      "found distribution async-generator version 1.10\n",
      "found distribution testpath version 0.6.0\n",
      "found distribution pandocfilters version 1.5.0\n",
      "found distribution nbclient version 0.5.9\n",
      "found distribution mistune version 0.8.4\n",
      "found distribution jupyterlab-pygments version 0.1.2\n",
      "found distribution ipython version 7.16.3\n",
      "found distribution defusedxml version 0.7.1\n",
      "found distribution dataclasses version 0.8\n",
      "found distribution bleach version 4.1.0\n",
      "found distribution terminado version 0.12.1\n",
      "found distribution Send2Trash version 1.8.2\n",
      "found distribution prometheus-client version 0.17.1\n",
      "found distribution nbconvert version 6.0.7\n",
      "found distribution ipykernel version 5.5.6\n",
      "found distribution argon2-cffi version 21.3.0\n",
      "found distribution notebook version 6.4.10\n",
      "found distribution widgetsnbextension version 3.6.6\n",
      "found distribution QtPy version 2.0.1\n",
      "found distribution jupyterlab-widgets version 1.1.7\n",
      "found distribution comm version 0.1.4\n",
      "found distribution qtconsole version 5.2.2\n",
      "found distribution jupyter-console version 6.4.3\n",
      "found distribution ipywidgets version 7.8.1\n",
      "found distribution jupyter version 1.0.0\n",
      "found distribution threadpoolctl version 3.1.0\n",
      "found distribution joblib version 1.1.1\n",
      "found distribution lxml version 4.2.3\n",
      "found distribution dbus-python version 1.2.4\n",
      "found distribution PyGObject version 3.28.3\n",
      "found distribution selinux version 2.9\n",
      "found distribution psutil version 5.4.3\n",
      "found distribution systemd-python version 234\n",
      "found distribution Pillow version 5.1.1\n",
      "found distribution rpm version 4.14.3\n",
      "found distribution pycurl version 7.43.0.2\n",
      "found distribution cffi version 1.11.5\n",
      "found distribution pycups version 1.9.72\n",
      "found distribution python-dmidecode version 3.12.2\n",
      "found distribution libvirt-python version 8.0.0\n",
      "found distribution gpg version 1.13.1\n",
      "found distribution numpy version 1.14.3\n",
      "found distribution pyparted version 3.11.7\n",
      "found distribution setproctitle version 1.1.10\n",
      "found distribution perf version 0.1\n",
      "found distribution PyYAML version 3.12\n",
      "found distribution numexpr version 2.7.0\n",
      "found distribution setools version 4.3.0\n",
      "found distribution pycairo version 1.16.3\n",
      "found distribution libcomps version 0.1.18\n",
      "found distribution tables version 3.5.2\n",
      "found distribution cryptography version 3.2.1\n",
      "found distribution kiwisolver version 1.1.0\n",
      "found distribution matplotlib version 3.0.3\n",
      "found distribution scipy version 1.0.0\n",
      "found distribution Bottleneck version 1.2.1\n",
      "found distribution pandas version 0.25.3\n",
      "found distribution h5py version 2.9.0\n",
      "found distribution pip version 9.0.3\n",
      "found distribution cycler version 0.10.0\n",
      "found distribution setuptools version 39.2.0\n",
      "found distribution rpmconf version 1.1.7\n",
      "found distribution python-xapp version 2.2.2\n",
      "found distribution terminator version 1.92\n",
      "found distribution pyinotify version 0.9.6\n",
      "found distribution six version 1.11.0\n",
      "found distribution pydbus version 0.6.0\n",
      "found distribution python-dateutil version 2.6.1\n",
      "found distribution pyudev version 0.21.0\n",
      "found distribution decorator version 4.2.1\n",
      "found distribution python-augeas version 0.5.0\n",
      "found distribution SSSDConfig version 2.9.1\n",
      "found distribution slip version 0.6.4\n",
      "found distribution ptyprocess version 0.5.2\n",
      "found distribution slip.dbus version 0.6.4\n",
      "found distribution configobj version 5.0.6\n",
      "found distribution iniparse version 0.4\n",
      "found distribution file-magic version 0.3.0\n",
      "found distribution sepolicy version 1.1\n",
      "found distribution setroubleshoot version 1.1\n",
      "found distribution chardet version 3.0.4\n",
      "found distribution idna version 2.5\n",
      "found distribution nftables version 0.1\n",
      "found distribution ply version 3.9\n",
      "found distribution xlwt version 1.3.0\n",
      "found distribution isc version 2.0\n",
      "found distribution pyparsing version 2.1.10\n",
      "found distribution PySocks version 1.6.8\n",
      "found distribution urllib3 version 1.24.2\n",
      "found distribution requests version 2.20.0\n",
      "found distribution humanize version 0.5.1\n",
      "found distribution ordered-set version 2.0.2\n",
      "found distribution pykickstart version 3.16.16\n",
      "found distribution pexpect version 4.3.1\n",
      "found distribution cupshelpers version 1.0\n",
      "found distribution langtable version 0.0.51\n",
      "found distribution dnspython version 1.15.0\n",
      "found distribution xlrd version 1.2.0\n",
      "found distribution python-linux-procfs version 0.7.0\n",
      "found distribution webencodings version 0.5.1\n",
      "found distribution html5lib version 0.999999999\n",
      "found distribution tinycss2 version 1.0.2\n",
      "found distribution python-pam version 1.8.4\n",
      "found distribution cssselect version 0.9.2\n",
      "found distribution beautifulsoup4 version 4.6.3\n",
      "found distribution pyxdg version 0.25\n",
      "found distribution pytz version 2017.2\n",
      "found distribution distro version 1.4.0\n",
      "found distribution blivet version 3.6.0\n",
      "found distribution argcomplete version 1.9.3\n",
      "found distribution pycparser version 2.14\n",
      "found distribution syspurpose version 1.28.40\n",
      "found distribution sos version 4.6.0\n"
     ]
    }
   ],
   "source": [
    "import sys\n",
    "\n",
    "if sys.version_info >= (3, 8):\n",
    "    from importlib import metadata as importlib_metadata\n",
    "else:\n",
    "    import importlib_metadata\n",
    "\n",
    "dists = importlib_metadata.distributions()\n",
    "for dist in dists:\n",
    "    name = dist.metadata[\"Name\"]\n",
    "    version = dist.version\n",
    "    print(\"found distribution %s version %s\" % (name, version))\n",
    "\n",
    "#import pip\n",
    "#sorted([\"%s==%s\" % (i.key, i.version) for i in pip.get_installed_distributions()])"
   ]
  },
  {
   "cell_type": "markdown",
   "metadata": {},
   "source": [
    "## Functions\n",
    "\n",
    "Defining function in Python is very simple, because you do not have to specify the type of the arguments and of the returned objects, like in statically typed languages. This is both useful and dangerous. Use the `try`/`except` construction to make it safe."
   ]
  },
  {
   "cell_type": "code",
   "execution_count": 4,
   "metadata": {
    "scrolled": true
   },
   "outputs": [
    {
     "data": {
      "text/plain": [
       "7"
      ]
     },
     "execution_count": 4,
     "metadata": {},
     "output_type": "execute_result"
    }
   ],
   "source": [
    "# default arguments can also be declared\n",
    "def my_function(a, b = 2):\n",
    "    r = a + 2 * b\n",
    "    return r\n",
    "\n",
    "my_function(3)"
   ]
  },
  {
   "cell_type": "markdown",
   "metadata": {},
   "source": [
    "Normally, variables created inside the function (*local* variables) do not exist anymore outside the scope of the function itself."
   ]
  },
  {
   "cell_type": "code",
   "execution_count": 5,
   "metadata": {},
   "outputs": [],
   "source": [
    "# print(r) # r is not recognized outside the function"
   ]
  },
  {
   "cell_type": "markdown",
   "metadata": {},
   "source": [
    "Functions can edit *global* variables as well, i.e. variables that are declared outside the function scope, but within the same module.\n",
    "\n",
    "The statement ```global``` is used to access the value of the variable outside the function with the same name (not recommended!):"
   ]
  },
  {
   "cell_type": "code",
   "execution_count": 1,
   "metadata": {},
   "outputs": [
    {
     "name": "stdout",
     "output_type": "stream",
     "text": [
      "Python is fantastic\n",
      "Python is awesome\n"
     ]
    }
   ],
   "source": [
    "x = \"awesome\"\n",
    "\n",
    "def myfunc():\n",
    "    x = \"fantastic\"\n",
    "    print(\"Python is \" + x)\n",
    "\n",
    "myfunc()\n",
    "\n",
    "print(\"Python is \" + x)"
   ]
  },
  {
   "cell_type": "code",
   "execution_count": 2,
   "metadata": {},
   "outputs": [
    {
     "name": "stdout",
     "output_type": "stream",
     "text": [
      "Python is fantastic\n",
      "Python is fantastic\n"
     ]
    }
   ],
   "source": [
    "x = \"awesome\"\n",
    "\n",
    "def myfunc():\n",
    "    global x # try to avoid global as much as possible\n",
    "    x = \"fantastic\"\n",
    "    print(\"Python is \" + x)\n",
    "\n",
    "myfunc()\n",
    "\n",
    "print(\"Python is \" + x)"
   ]
  },
  {
   "cell_type": "markdown",
   "metadata": {},
   "source": [
    "Hint: if you have nested functions and you want to access to variables in the parent function but not in the global scope, use `nonlocal`.\n",
    "\n",
    "You can treat functions just like other Python object, and add them to the data structures like lists, dict, etc.:"
   ]
  },
  {
   "cell_type": "code",
   "execution_count": 3,
   "metadata": {},
   "outputs": [
    {
     "name": "stdout",
     "output_type": "stream",
     "text": [
      "9\n",
      "27\n",
      "cube 27\n",
      "square 9\n"
     ]
    }
   ],
   "source": [
    "def square(x):\n",
    "    \"\"\"Square of x.\"\"\"\n",
    "    return x * x\n",
    "\n",
    "def cube(x):\n",
    "    \"\"\"Cube of x.\"\"\"\n",
    "    return x * x * x\n",
    "\n",
    "# create a dictionary of functions\n",
    "funcs = {\n",
    "    'square' : square,\n",
    "    'cube' : cube,\n",
    "}\n",
    "\n",
    "x = 3\n",
    "print(square(x))\n",
    "print(cube(x))\n",
    "\n",
    "for func in sorted(funcs):\n",
    "    print(func, funcs[func](x))"
   ]
  },
  {
   "cell_type": "markdown",
   "metadata": {},
   "source": [
    "### Function arguments"
   ]
  },
  {
   "cell_type": "markdown",
   "metadata": {},
   "source": [
    "In other languages, you can choose whether you want want to pass variables to a function by *value* or by *reference*.\n",
    "\n",
    "Python does not pass arguments neither by *value* nor by *reference*, but by *assignment*. When a function is called, each of the parameters of the function is assigned to the object they were passed in.\n",
    "\n",
    "The difference in the behaviour of mutable and immutable objects emerges when these objects are passed as an argument to a function.\n",
    "\n",
    "When an **immutable object** is passed to a function as an argument, and the object is modified inside the function, Python creates a copy of the original object, which is valid only within the scope of the function."
   ]
  },
  {
   "cell_type": "code",
   "execution_count": 4,
   "metadata": {},
   "outputs": [
    {
     "name": "stdout",
     "output_type": "stream",
     "text": [
      "Before calling the function: 1 140106823624320\n",
      "Inside the fuction:          1 140106823624320\n",
      "After assignment in fuction: 3 140106823624384\n",
      "Returned by the function:    3 140106823624384\n",
      "After calling the function:  1 140106823624320\n"
     ]
    }
   ],
   "source": [
    "def modify(x):\n",
    "    print(\"Inside the fuction:         \", x, id(x))\n",
    "    x += 2\n",
    "    print(\"After assignment in fuction:\", x, id(x))\n",
    "    return x\n",
    "\n",
    "x = 1\n",
    "print(\"Before calling the function:\", x, id(x))\n",
    "y = modify(x) # call the function\n",
    "print(\"Returned by the function:   \", y, id(y))\n",
    "print(\"After calling the function: \", x, id(x))"
   ]
  },
  {
   "cell_type": "markdown",
   "metadata": {},
   "source": [
    "Now let's consider a **mutable object**, e.g. a list `x = [1, 2, 3]`. If within the function the content of `x` is directly changed (e.g. `x[0] = 999`), then `x` changes outside the function as well. "
   ]
  },
  {
   "cell_type": "code",
   "execution_count": 5,
   "metadata": {},
   "outputs": [
    {
     "name": "stdout",
     "output_type": "stream",
     "text": [
      "Before calling the function: [1, 2, 3] 140106540448904\n",
      "Inside the fuction:          [1, 2, 3] 140106540448904\n",
      "After assignment in fuction: [999, 2, 3] 140106540448904\n",
      "Returned by the function:    [999, 2, 3] 140106540448904\n",
      "After calling the function:  [999, 2, 3] 140106540448904\n"
     ]
    }
   ],
   "source": [
    "def modify(x):\n",
    "    print(\"Inside the fuction:         \", x, id(x))\n",
    "    x[0] = 999\n",
    "    print(\"After assignment in fuction:\", x, id(x))\n",
    "    return x\n",
    "\n",
    "x = [1, 2, 3]\n",
    "print(\"Before calling the function:\", x, id(x))\n",
    "y = modify(x) # call the function\n",
    "print(\"Returned by the function:   \", y, id(y))\n",
    "print(\"After calling the function: \", x, id(x))"
   ]
  },
  {
   "cell_type": "markdown",
   "metadata": {},
   "source": [
    "However, if `x` is reassigned within the function to a new object (e.g. another list), then the copy of the name `x` now points to the new object, but `x` outside the function is unchanged."
   ]
  },
  {
   "cell_type": "code",
   "execution_count": 6,
   "metadata": {},
   "outputs": [
    {
     "name": "stdout",
     "output_type": "stream",
     "text": [
      "Before calling the function: [1, 2, 3] 140106540449224\n",
      "Inside the fuction:          [1, 2, 3] 140106540449224\n",
      "After assignment in fuction: [4, 5, 6] 140106540449480\n",
      "Returned by the function:    [4, 5, 6] 140106540449480\n",
      "After calling the function:  [1, 2, 3] 140106540449224\n"
     ]
    }
   ],
   "source": [
    "def no_modify(x):\n",
    "    print(\"Inside the fuction:         \", x, id(x))\n",
    "    x = [4, 5, 6]\n",
    "    print(\"After assignment in fuction:\", x, id(x))\n",
    "    return x\n",
    "\n",
    "x = [1, 2, 3]\n",
    "print(\"Before calling the function:\", x, id(x))\n",
    "y = no_modify(x) # call the function\n",
    "print(\"Returned by the function:   \", y, id(y))\n",
    "print(\"After calling the function: \", x, id(x))"
   ]
  },
  {
   "cell_type": "markdown",
   "metadata": {},
   "source": [
    "The difference is that in the first case only one element of the object has been reassigned, while in the second the object itself is modified."
   ]
  },
  {
   "cell_type": "markdown",
   "metadata": {},
   "source": [
    "#### Initialization of function default arguments"
   ]
  },
  {
   "cell_type": "markdown",
   "metadata": {},
   "source": [
    "A Python behaviour that may not be intuitive, and you should pay attention to:"
   ]
  },
  {
   "cell_type": "code",
   "execution_count": 7,
   "metadata": {},
   "outputs": [
    {
     "name": "stdout",
     "output_type": "stream",
     "text": [
      "[1]\n",
      "[1, 1]\n",
      "[9, 9, 9, 1]\n",
      "[1, 1, 1]\n",
      "[1, 1, 1, 1]\n"
     ]
    }
   ],
   "source": [
    "def f(x = []):\n",
    "    x.append(1)\n",
    "    return x\n",
    "\n",
    "print(f())\n",
    "print(f())\n",
    "print(f(x = [9, 9, 9]))\n",
    "print(f())\n",
    "print(f())"
   ]
  },
  {
   "cell_type": "markdown",
   "metadata": {},
   "source": [
    "What actually happens is that a new list is created once when the function is defined, and the same list is used in each successive call.\n",
    "\n",
    "**Python’s default arguments are evaluated once when the function is defined**, not each time the function is called (like it is in say, Ruby). This means that if you use a mutable default argument and mutate it, you will have mutated that object for all future calls to the function as well. Check this [post](https://docs.python-guide.org/writing/gotchas/).\n",
    "\n",
    "The correct approach is to write the function in such a way that it *creates a new object* each time the function is called, by using a default argument that explicitly states that no argument was provided (`None` is often a good choice)."
   ]
  },
  {
   "cell_type": "code",
   "execution_count": 8,
   "metadata": {},
   "outputs": [
    {
     "name": "stdout",
     "output_type": "stream",
     "text": [
      "[1]\n",
      "[1]\n",
      "[9, 9, 9, 1]\n",
      "[1]\n",
      "[1]\n"
     ]
    }
   ],
   "source": [
    "def f(x = None):\n",
    "    if x is None:\n",
    "        x = []\n",
    "    x.append(1)\n",
    "    return x\n",
    "\n",
    "print(f())\n",
    "print(f())\n",
    "print(f(x = [9, 9, 9]))\n",
    "print(f())\n",
    "print(f())"
   ]
  },
  {
   "cell_type": "markdown",
   "metadata": {},
   "source": [
    "#### Shallow copy and Deep copy\n",
    "\n",
    "Generally speaking, the user can \"force\" Python to create a completely different object that has no ties with the original object, which is especially useful in case of mutable objects.\n",
    "\n",
    "Python provides the `copy` module ([link to the documentation](https://docs.python.org/3/library/copy.html)) that allows you to perform two types of copy, the **shallow** and the **deep** copy.\n",
    "\n",
    "The difference between shallow and deep copying is only relevant for compound objects (objects that contain other objects, like lists or class instances).\n",
    "\n",
    "- A **shallow copy** constructs a new compound object and then (to the extent possible) inserts references into it to the objects found in the original.\n",
    "\n",
    "- A **deep copy** constructs a new compound object and then, recursively, inserts copies into it of the objects found in the original."
   ]
  },
  {
   "cell_type": "code",
   "execution_count": 9,
   "metadata": {},
   "outputs": [
    {
     "name": "stdout",
     "output_type": "stream",
     "text": [
      "Shallow copy: [999, 2, 3]\n",
      "Original:     [1, 2, 3]\n"
     ]
    }
   ],
   "source": [
    "import copy\n",
    "\n",
    "x = [1, 2, 3]\n",
    "\n",
    "x_copy = copy.copy(x) # shallow copy of x\n",
    "#x_copy = copy.deepcopy(x) # deep copy of x\n",
    "\n",
    "x_copy[0] = 999 # modify copy, and check that the original object is unchanged\n",
    "\n",
    "print(\"Shallow copy:\", x_copy)\n",
    "print(\"Original:    \", x)"
   ]
  },
  {
   "cell_type": "markdown",
   "metadata": {},
   "source": [
    "### Higher order functions\n",
    "\n",
    "A function that uses another function as an input argument or returns a function is known as a higher-order function (HOF). The most familiar examples are `map` and `filter`."
   ]
  },
  {
   "cell_type": "markdown",
   "metadata": {},
   "source": [
    "#### map\n",
    "\n",
    "The map function applies a function to each member of a collection"
   ]
  },
  {
   "cell_type": "code",
   "execution_count": 12,
   "metadata": {},
   "outputs": [
    {
     "name": "stdout",
     "output_type": "stream",
     "text": [
      "[0, 1, 4, 9, 16]\n",
      "0\n",
      "1\n",
      "4\n",
      "9\n",
      "16\n"
     ]
    }
   ],
   "source": [
    "x = list( map(square, range(5)) ) \n",
    "print(x)\n",
    "\n",
    "# Note the difference w.r.t Python 2. In Python 3 map retuns an iterator so you can loop on it like:\n",
    "for i in map(square, range(5)):\n",
    "    print(i)"
   ]
  },
  {
   "cell_type": "markdown",
   "metadata": {},
   "source": [
    "#### filter\n",
    "\n",
    "The filter function applies a predicate to each member of a collection, retaining only those where the predicate is `True`"
   ]
  },
  {
   "cell_type": "code",
   "execution_count": 13,
   "metadata": {},
   "outputs": [
    {
     "name": "stdout",
     "output_type": "stream",
     "text": [
      "[0, 2, 4]\n"
     ]
    }
   ],
   "source": [
    "def is_even(x):\n",
    "    return x % 2 == 0\n",
    "\n",
    "print(list(filter(is_even, range(5))))"
   ]
  },
  {
   "cell_type": "markdown",
   "metadata": {},
   "source": [
    "HOF can be nested:"
   ]
  },
  {
   "cell_type": "code",
   "execution_count": 14,
   "metadata": {},
   "outputs": [
    {
     "data": {
      "text/plain": [
       "[0, 4, 16]"
      ]
     },
     "execution_count": 14,
     "metadata": {},
     "output_type": "execute_result"
    }
   ],
   "source": [
    "list(map(square, filter(is_even, range(5))))\n"
   ]
  },
  {
   "cell_type": "markdown",
   "metadata": {},
   "source": [
    "#### reduce\n",
    "\n",
    "The reduce function reduces a collection using a binary operator to combine items two at a time. More often than not, reduce can be substituted with a more efficient `for` loop. It is worth mentioning for itspast key role in big-data applications together with `map` (the map-reduce paradigm, quite common in Hadoop).\n",
    "\n",
    "N.B.: it no longer exist as built-in function in Python3, it is now part of the `functools` library."
   ]
  },
  {
   "cell_type": "code",
   "execution_count": 15,
   "metadata": {},
   "outputs": [
    {
     "name": "stdout",
     "output_type": "stream",
     "text": [
      "Adding 1 and 2\n",
      "Adding 3 and 3\n",
      "Adding 6 and 4\n",
      "Adding 10 and 5\n"
     ]
    },
    {
     "data": {
      "text/plain": [
       "15"
      ]
     },
     "execution_count": 15,
     "metadata": {},
     "output_type": "execute_result"
    }
   ],
   "source": [
    "from functools import reduce\n",
    "\n",
    "def my_add(x, y):\n",
    "    print(\"Adding\", x, \"and\", y)\n",
    "    return x + y\n",
    "\n",
    "# another implementation of the sum function\n",
    "reduce(my_add, [1, 2, 3, 4, 5])"
   ]
  },
  {
   "cell_type": "markdown",
   "metadata": {},
   "source": [
    "#### zip\n",
    "\n",
    "zip is useful when you need to iterate over matched elements of multiple lists:"
   ]
  },
  {
   "cell_type": "code",
   "execution_count": 16,
   "metadata": {},
   "outputs": [
    {
     "name": "stdout",
     "output_type": "stream",
     "text": [
      "1 10 a\n",
      "2 20 b\n",
      "3 30 c\n",
      "4 40 d\n"
     ]
    }
   ],
   "source": [
    "xs = [1, 2, 3, 4]\n",
    "ys = [10, 20, 30, 40]\n",
    "zs = ['a', 'b', 'c', 'd', 'e']\n",
    "\n",
    "# zip stops at the end of the shortest list\n",
    "for x, y, z in zip(xs, ys, zs):\n",
    "    print(x, y, z)"
   ]
  },
  {
   "cell_type": "markdown",
   "metadata": {},
   "source": [
    "#### Custom HOF"
   ]
  },
  {
   "cell_type": "markdown",
   "metadata": {},
   "source": [
    "Python allows you to define custom HOF, or in general functions that accept other functions as arguments:"
   ]
  },
  {
   "cell_type": "code",
   "execution_count": 17,
   "metadata": {},
   "outputs": [
    {
     "name": "stdout",
     "output_type": "stream",
     "text": [
      "30\n",
      "100\n"
     ]
    }
   ],
   "source": [
    "def custom_sum(xs, transform):\n",
    "    \"\"\"Returns the sum of xs after a user specified transform.\"\"\"\n",
    "    return sum(map(transform, xs))\n",
    "\n",
    "xs = range(5)\n",
    "print(custom_sum(xs, square))\n",
    "print(custom_sum(xs, cube))"
   ]
  },
  {
   "cell_type": "markdown",
   "metadata": {},
   "source": [
    "### Recursive functions\n",
    "\n",
    "A recursive function is a function that calls itself. For instance:"
   ]
  },
  {
   "cell_type": "code",
   "execution_count": 18,
   "metadata": {},
   "outputs": [
    {
     "data": {
      "text/plain": [
       "120"
      ]
     },
     "execution_count": 18,
     "metadata": {},
     "output_type": "execute_result"
    }
   ],
   "source": [
    "def factorial(x):\n",
    "    if x == 1:\n",
    "        return 1\n",
    "    else:\n",
    "        # recursive call to the function\n",
    "        return x * factorial(x - 1)\n",
    "\n",
    "factorial(5)"
   ]
  },
  {
   "cell_type": "markdown",
   "metadata": {},
   "source": [
    "### Anonimous (lambda) functions\n",
    "\n",
    "When using functional style, there is often the need to create specific functions that perform a limited task as input to a HOF such as map or filter. In such cases, these functions are often written as anonymous or lambda functions. \n",
    "The syntax is as follows:\n",
    "\n",
    "`lambda <arguments> : <expression>`\n",
    "\n",
    "Hint: do not overcomplicate lambda functions. If you find it hard to understand what a lambda function is doing, it should probably be rewritten as a regular function."
   ]
  },
  {
   "cell_type": "code",
   "execution_count": 19,
   "metadata": {},
   "outputs": [
    {
     "data": {
      "text/plain": [
       "7"
      ]
     },
     "execution_count": 19,
     "metadata": {},
     "output_type": "execute_result"
    }
   ],
   "source": [
    "# Explicit definition\n",
    "addit = lambda x, y: x + y\n",
    "addit(3, 4)"
   ]
  },
  {
   "cell_type": "code",
   "execution_count": 20,
   "metadata": {},
   "outputs": [
    {
     "name": "stdout",
     "output_type": "stream",
     "text": [
      "0\n",
      "1\n",
      "4\n",
      "9\n",
      "16\n"
     ]
    }
   ],
   "source": [
    "# The function is declared and directly passed to the HOF\n",
    "for i in map(lambda x: x * x, range(5)): print(i)"
   ]
  },
  {
   "cell_type": "code",
   "execution_count": 24,
   "metadata": {},
   "outputs": [
    {
     "name": "stdout",
     "output_type": "stream",
     "text": [
      "55\n"
     ]
    }
   ],
   "source": [
    "# mid-lecture test: could you tell what this function does?\n",
    "from functools import reduce\n",
    "s1 = reduce(lambda x, y: x + y, map(lambda x: x**2, range(1, 10)))\n",
    "print(s1)"
   ]
  },
  {
   "cell_type": "markdown",
   "metadata": {},
   "source": [
    "### Decorators\n",
    "\n",
    "Decorators are a type of HOF that *takes a function(s) as argument* and return *the wrapped function* that provides additional useful properties.\n",
    "\n",
    "Examples:\n",
    "\n",
    "  - Logging\n",
    "  - Just-In-Time (JIT) compilation\n",
    "  - GPU acceleration ([numba](https://numba.pydata.org/))\n",
    "  - ...\n",
    "  \n",
    "For example, let's add a printout *before* and *after* a function is called:"
   ]
  },
  {
   "cell_type": "code",
   "execution_count": 2,
   "metadata": {},
   "outputs": [],
   "source": [
    "def my_decorator(func): # takes a function as an argument\n",
    "    def wrapper():\n",
    "        print(\"Something is happening before the function is called.\")\n",
    "        func() # runs the function\n",
    "        print(\"Something is happening after the function is called.\")\n",
    "    return wrapper # returns a function\n",
    "\n",
    "def say_whee():\n",
    "    print(\"Whee!\")\n",
    "\n",
    "say_whee = my_decorator(say_whee) # redefines the original function"
   ]
  },
  {
   "cell_type": "code",
   "execution_count": 3,
   "metadata": {},
   "outputs": [
    {
     "name": "stdout",
     "output_type": "stream",
     "text": [
      "Something is happening before the function is called.\n",
      "Whee!\n",
      "Something is happening after the function is called.\n"
     ]
    }
   ],
   "source": [
    "say_whee()"
   ]
  },
  {
   "cell_type": "markdown",
   "metadata": {},
   "source": [
    "Python allows you to use decorators in a simpler way with the `@` symbol:"
   ]
  },
  {
   "cell_type": "code",
   "execution_count": null,
   "metadata": {},
   "outputs": [],
   "source": [
    "def my_decorator(func):\n",
    "    def wrapper():\n",
    "        print(\"Something is happening before the function is called.\")\n",
    "        func()\n",
    "        print(\"Something is happening after the function is called.\")\n",
    "    return wrapper\n",
    "\n",
    "@my_decorator\n",
    "def say_whee():\n",
    "    print(\"Whee!\")"
   ]
  },
  {
   "cell_type": "code",
   "execution_count": null,
   "metadata": {},
   "outputs": [],
   "source": [
    "say_whee()"
   ]
  },
  {
   "cell_type": "markdown",
   "metadata": {},
   "source": [
    "### Useful libraries\n",
    "\n",
    "You may want to have a look at the content of the following modules for further HO functions:\n",
    "\n",
    "  - [operator](https://docs.python.org/3/library/operator.html)\n",
    "  - [functools](https://docs.python.org/3/library/functools.html)\n",
    "  - [itertools](https://docs.python.org/3/library/itertools.html)\n",
    "  - [toolz](https://pypi.org/project/toolz/)\n",
    "  - [funcy](https://pypi.org/project/funcy/)"
   ]
  },
  {
   "cell_type": "markdown",
   "metadata": {},
   "source": [
    "# Classes and Objects\n",
    "\n",
    "Object-oriented programming is a way to write programs so that properties and behaviours are tied to **objects**.\n",
    "\n",
    "Classes are defined similarly to standard object-oriented languages, with similar functionalities.\n",
    "\n",
    "The main Python documentation [page](https://docs.python.org/3.8/tutorial/classes.html) is worth reading.\n",
    "\n",
    "Users can define new objects (classes) to extend the functionalities of primitive data structures like `int`, `float`, `list` and so on, to include other information. These variables, which belong to the class, are called **attributes**.\n",
    "\n",
    "Classes are not only used to store data, but they also define functions called **methods**, which define the actions that an object created from the class can perform with its data.\n",
    "\n",
    "It's important not to confuse two different concepts:\n",
    "\n",
    "- A **class** defines a structure, but doesn't fill the content\n",
    "\n",
    "- An **instance** is an object that is built from a class and contains real data."
   ]
  },
  {
   "cell_type": "code",
   "execution_count": 10,
   "metadata": {},
   "outputs": [],
   "source": [
    "import math\n",
    "\n",
    "# Class definition\n",
    "class VectorND:\n",
    "    '''This is a comment that is supposed to describe the purpose of the class'''\n",
    "    \n",
    "    # Definition of the class attributes, which are common for all instances of the same class\n",
    "    x = []\n",
    "    \n",
    "    # Definition of the Constructor, a special method that is called every time a new object is created\n",
    "    # The first argument of the constructor (and also for all other methods in the class) is the instance itself\n",
    "    def __init__(self, components):\n",
    "        self.x = components # a list is expected as input\n",
    "    \n",
    "    # Definition of the destructor, but it is often omitted\n",
    "    #def __del__(self):\n",
    "    #    print(\"Goodbye\")\n",
    "    \n",
    "    # Definition of the methods\n",
    "    \n",
    "    # This method allows to get some info about the attribute of the class (x)\n",
    "    def getDimension(self): # the first argument is always 'self' for the methods of a class\n",
    "        return len(self.x)\n",
    "    \n",
    "    # This method allows to get individial elements of the 'x' attribute \n",
    "    def getX(self, n): # n is the component index\n",
    "        return self.x[n]\n",
    "    \n",
    "    # This method allows to set individial elements of the 'x' attribute \n",
    "    def setX(self, n, xi): # n is the component index, and xi is the value\n",
    "        if n < len(self.x):\n",
    "            self.x[n] = xi\n",
    "    \n",
    "    # This method allows to perform non-trivial operations on the class attributes\n",
    "    def getNorm(self):\n",
    "        s2 = 0\n",
    "        for i in range(len(self.x)):\n",
    "            s2 += self.x[i]**2\n",
    "        return math.sqrt(s2)\n",
    "\n",
    "# End of the class definition"
   ]
  },
  {
   "cell_type": "code",
   "execution_count": 12,
   "metadata": {},
   "outputs": [
    {
     "name": "stdout",
     "output_type": "stream",
     "text": [
      "Dimension: 3\n",
      "Nornamlization: 5.0\n"
     ]
    }
   ],
   "source": [
    "# Create an instance of class 'VectorND'\n",
    "a = VectorND([5, 0, 1])\n",
    "\n",
    "print(\"Dimension:\", a.getDimension()) # call method 'getDimension' of instance 'a'\n",
    "\n",
    "a.setX(2, 0) # set the third component to zero\n",
    "\n",
    "#a.x[2] = 1 # another way (not recommended!) to modify the attributes of 'a'\n",
    "\n",
    "print(\"Nornamlization:\", a.getNorm())\n"
   ]
  },
  {
   "cell_type": "markdown",
   "metadata": {},
   "source": [
    "Note that Python does not have private and public attributes. Outside the class definition, it is possible to access the class attributes even without defining the corresponding setter and getter methods."
   ]
  },
  {
   "cell_type": "markdown",
   "metadata": {},
   "source": [
    "### Class inheritance\n",
    "\n",
    "Python allows to extend the functionality of a class by using *subclasses*, which are classes that **inherit** properties from the original class. In other words, the *child class* will inherit the properties of the *parent class*."
   ]
  },
  {
   "cell_type": "code",
   "execution_count": 13,
   "metadata": {},
   "outputs": [],
   "source": [
    "class Vector3D(VectorND): # class 'Vector3D' inherits from class 'VectorND'\n",
    "    \n",
    "    # The constructor here is optional, and can be inherited from the parent class if omitted\n",
    "    def __init__(self, components):\n",
    "        if len(components) == 3:\n",
    "            self.x = components # a list is expected as input\n",
    "        else:\n",
    "            print(\"Error: number of components is not 3\")\n",
    "    \n",
    "    # New methods that only belongs to the child class\n",
    "    def cross(self, y):\n",
    "        return (self.x[1]*y.getX(2) - self.x[2]*y.getX(1), -self.x[0]*y.getX(2) + self.x[2]*y.getX(0), self.x[0]*y.getX(1) - self.x[1]*y.getX(0))"
   ]
  },
  {
   "cell_type": "code",
   "execution_count": 14,
   "metadata": {},
   "outputs": [
    {
     "name": "stdout",
     "output_type": "stream",
     "text": [
      "Vector product: (-3, 6, -3)\n",
      "Dimension: 3\n",
      "Norm: 3.7416573867739413\n"
     ]
    }
   ],
   "source": [
    "b = Vector3D([1, 2, 3])\n",
    "c = Vector3D([4, 5, 6])\n",
    "\n",
    "# Child class methods are available to the child intance\n",
    "d = b.cross(c)\n",
    "print(\"Vector product:\", d)\n",
    "\n",
    "# Child instances also have the parent class' methods\n",
    "print(\"Dimension:\", b.getDimension())\n",
    "print(\"Norm:\", b.getNorm())\n",
    "\n",
    "# But not the opposite\n",
    "#a.cross(c) # AttributeError: 'Vector3D' object has no attribute 'vect'"
   ]
  },
  {
   "cell_type": "code",
   "execution_count": null,
   "metadata": {},
   "outputs": [],
   "source": []
  },
  {
   "cell_type": "code",
   "execution_count": null,
   "metadata": {},
   "outputs": [],
   "source": []
  }
 ],
 "metadata": {
  "kernelspec": {
   "display_name": "Python 3",
   "language": "python",
   "name": "python3"
  },
  "language_info": {
   "codemirror_mode": {
    "name": "ipython",
    "version": 3
   },
   "file_extension": ".py",
   "mimetype": "text/x-python",
   "name": "python",
   "nbconvert_exporter": "python",
   "pygments_lexer": "ipython3",
   "version": "3.6.8"
  }
 },
 "nbformat": 4,
 "nbformat_minor": 2
}
