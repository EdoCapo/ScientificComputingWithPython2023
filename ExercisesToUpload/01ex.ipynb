{
 "cells": [
  {
   "cell_type": "markdown",
   "id": "b20615f3",
   "metadata": {},
   "source": [
    "# 1 Hello World Replacement\n",
    "1. Write a program that\n",
    "    - Prints the numbers from 1 to 100\n",
    "    - For multiples of three print \"Hello\" instead of the number and for the multiples of five print \"World\"\n",
    "    - For numbers which are multiples of both three and five print \"HelloWorld\".\n",
    "\n",
    "\n",
    "2. Put the result in a tuple and substitute \"Hello\" with \"Python\" and \"World\" with \"Works\"."
   ]
  },
  {
   "cell_type": "markdown",
   "id": "f899a283",
   "metadata": {},
   "source": [
    "### 1.1 "
   ]
  },
  {
   "cell_type": "code",
   "execution_count": 1,
   "id": "c9de3145",
   "metadata": {},
   "outputs": [
    {
     "name": "stdout",
     "output_type": "stream",
     "text": [
      "[1, 2, 3, 4, 5, 6, 7, 8, 9, 10, 11, 12, 13, 14, 15, 16, 17, 18, 19, 20, 21, 22, 23, 24, 25, 26, 27, 28, 29, 30, 31, 32, 33, 34, 35, 36, 37, 38, 39, 40, 41, 42, 43, 44, 45, 46, 47, 48, 49, 50, 51, 52, 53, 54, 55, 56, 57, 58, 59, 60, 61, 62, 63, 64, 65, 66, 67, 68, 69, 70, 71, 72, 73, 74, 75, 76, 77, 78, 79, 80, 81, 82, 83, 84, 85, 86, 87, 88, 89, 90, 91, 92, 93, 94, 95, 96, 97, 98, 99, 100]\n"
     ]
    }
   ],
   "source": [
    "# Use range to generate numbers from 1 to 100\n",
    "hundreds = [x for x in range (1, 101)]\n",
    "print(hundreds)"
   ]
  },
  {
   "cell_type": "code",
   "execution_count": 2,
   "id": "d166b9b6",
   "metadata": {},
   "outputs": [
    {
     "name": "stdout",
     "output_type": "stream",
     "text": [
      "[1, 2, 'Hello', 4, 5, 'Hello', 7, 8, 'Hello', 10, 11, 'Hello', 13, 14, 'Hello', 16, 17, 'Hello', 19, 20, 'Hello', 22, 23, 'Hello', 25, 26, 'Hello', 28, 29, 'Hello', 31, 32, 'Hello', 34, 35, 'Hello', 37, 38, 'Hello', 40, 41, 'Hello', 43, 44, 'Hello', 46, 47, 'Hello', 49, 50, 'Hello', 52, 53, 'Hello', 55, 56, 'Hello', 58, 59, 'Hello', 61, 62, 'Hello', 64, 65, 'Hello', 67, 68, 'Hello', 70, 71, 'Hello', 73, 74, 'Hello', 76, 77, 'Hello', 79, 80, 'Hello', 82, 83, 'Hello', 85, 86, 'Hello', 88, 89, 'Hello', 91, 92, 'Hello', 94, 95, 'Hello', 97, 98, 'Hello', 100]\n"
     ]
    }
   ],
   "source": [
    "# Define the word to replace multiples of 3\n",
    "replacement_word = \"Hello\"\n",
    "\n",
    "# Use a list comprehension to generate numbers from 1 to 100\n",
    "# Replace multiples of 3 with the replacement word\n",
    "hundreds = [replacement_word if x % 3 == 0 else x for x in range(1, 101)]\n",
    "\n",
    "# Print the resulting list\n",
    "print(hundreds)\n"
   ]
  },
  {
   "cell_type": "code",
   "execution_count": 3,
   "id": "dc00ee20",
   "metadata": {},
   "outputs": [
    {
     "name": "stdout",
     "output_type": "stream",
     "text": [
      "[1, 2, 'Hello', 4, 'World', 'Hello', 7, 8, 'Hello', 'World', 11, 'Hello', 13, 14, 'Hello', 16, 17, 'Hello', 19, 'World', 'Hello', 22, 23, 'Hello', 'World', 26, 'Hello', 28, 29, 'Hello', 31, 32, 'Hello', 34, 'World', 'Hello', 37, 38, 'Hello', 'World', 41, 'Hello', 43, 44, 'Hello', 46, 47, 'Hello', 49, 'World', 'Hello', 52, 53, 'Hello', 'World', 56, 'Hello', 58, 59, 'Hello', 61, 62, 'Hello', 64, 'World', 'Hello', 67, 68, 'Hello', 'World', 71, 'Hello', 73, 74, 'Hello', 76, 77, 'Hello', 79, 'World', 'Hello', 82, 83, 'Hello', 'World', 86, 'Hello', 88, 89, 'Hello', 91, 92, 'Hello', 94, 'World', 'Hello', 97, 98, 'Hello', 'World']\n"
     ]
    }
   ],
   "source": [
    "#Now I have to replace every three multiple with 'Hello'\n",
    "#And every five multiple with \"World\"\n",
    "\n",
    "# Define the replacement words\n",
    "words = [\"Hello\", \"World\"] \n",
    "\n",
    "# Use a list comprehension to generate numbers from 1 to 100\n",
    "# Replace multiples of 3 and 5 with the corresponding word\n",
    "hundreds = [words[0] if x % 3 == 0 \n",
    "            else words[1] if x % 5 == 0\n",
    "            else x for x in range (1, 101)]\n",
    "\n",
    "# Print the resulting list\n",
    "print(hundreds)"
   ]
  },
  {
   "cell_type": "code",
   "execution_count": 4,
   "id": "3d71269a",
   "metadata": {},
   "outputs": [
    {
     "name": "stdout",
     "output_type": "stream",
     "text": [
      "[1, 2, 'Hello', 4, 'World', 'Hello', 7, 8, 'Hello', 'World', 11, 'Hello', 13, 14, 'HelloWorld', 16, 17, 'Hello', 19, 'World', 'Hello', 22, 23, 'Hello', 'World', 26, 'Hello', 28, 29, 'HelloWorld', 31, 32, 'Hello', 34, 'World', 'Hello', 37, 38, 'Hello', 'World', 41, 'Hello', 43, 44, 'HelloWorld', 46, 47, 'Hello', 49, 'World', 'Hello', 52, 53, 'Hello', 'World', 56, 'Hello', 58, 59, 'HelloWorld', 61, 62, 'Hello', 64, 'World', 'Hello', 67, 68, 'Hello', 'World', 71, 'Hello', 73, 74, 'HelloWorld', 76, 77, 'Hello', 79, 'World', 'Hello', 82, 83, 'Hello', 'World', 86, 'Hello', 88, 89, 'HelloWorld', 91, 92, 'Hello', 94, 'World', 'Hello', 97, 98, 'Hello', 'World']\n"
     ]
    }
   ],
   "source": [
    "#Now I have to replace every three multiple with 'Hello'\n",
    "#And every five multiple with \"World\"\n",
    "#And every three AND five multiple with \"Hello World\"\n",
    "\n",
    "hundreds = [words[0] + words[1] if x % 3 == 0 and x % 5 == 0\n",
    "            else words[0] if x % 3 == 0 \n",
    "            else words[1] if x % 5 == 0\n",
    "            else x for x in range (1, 101)]\n",
    "print(hundreds)"
   ]
  },
  {
   "cell_type": "markdown",
   "id": "02e91229",
   "metadata": {},
   "source": [
    "### 1.2"
   ]
  },
  {
   "cell_type": "code",
   "execution_count": 6,
   "id": "6fec7622",
   "metadata": {},
   "outputs": [
    {
     "name": "stdout",
     "output_type": "stream",
     "text": [
      "('1', '2', 'Python', '4', 'Works', 'Python', '7', '8', 'Python', 'Works', '11', 'Python', '13', '14', 'PythonWorks', '16', '17', 'Python', '19', 'Works', 'Python', '22', '23', 'Python', 'Works', '26', 'Python', '28', '29', 'PythonWorks', '31', '32', 'Python', '34', 'Works', 'Python', '37', '38', 'Python', 'Works', '41', 'Python', '43', '44', 'PythonWorks', '46', '47', 'Python', '49', 'Works', 'Python', '52', '53', 'Python', 'Works', '56', 'Python', '58', '59', 'PythonWorks', '61', '62', 'Python', '64', 'Works', 'Python', '67', '68', 'Python', 'Works', '71', 'Python', '73', '74', 'PythonWorks', '76', '77', 'Python', '79', 'Works', 'Python', '82', '83', 'Python', 'Works', '86', 'Python', '88', '89', 'PythonWorks', '91', '92', 'Python', '94', 'Works', 'Python', '97', '98', 'Python', 'Works')\n"
     ]
    }
   ],
   "source": [
    "#Create the tuple\n",
    "result = tuple(hundreds)\n",
    "\n",
    "#Considering that a tuple is unchengable\n",
    "\n",
    "#Replace the two words\n",
    "result = tuple(str(word).replace(\"Hello\", \"Python\").replace(\"World\", \"Works\") for word in hundreds)\n",
    "\n",
    "#Print the tuple\n",
    "print(result)"
   ]
  },
  {
   "cell_type": "markdown",
   "id": "7cbec4ef",
   "metadata": {},
   "source": [
    "# 2 The SWAP\n",
    "Write a program that swaps the values of two input variables `x` and `y` from command line (whatever the type).\n",
    "\n",
    "Try to do that without using a temporary variable, exploiting the Python syntax."
   ]
  },
  {
   "cell_type": "code",
   "execution_count": 7,
   "id": "18100656",
   "metadata": {},
   "outputs": [
    {
     "name": "stdout",
     "output_type": "stream",
     "text": [
      "Original values: 8 7\n",
      "Swapped values: 7 8\n"
     ]
    }
   ],
   "source": [
    "# Ask the user to input the values for x and y\n",
    "x = input(\"Enter the value of x: \")\n",
    "y = input(\"Enter the value of y: \")\n",
    "\n",
    "# Original values\n",
    "print(\"Original values:\", x, y)\n",
    "\n",
    "# Swap the values of x and y\n",
    "x, y = y, x\n",
    "\n",
    "# Swapped values\n",
    "print(\"Swapped values:\", x, y)\n"
   ]
  },
  {
   "cell_type": "markdown",
   "id": "f5b8fe39",
   "metadata": {},
   "source": [
    "# 3 Computing the distance\n",
    "\n",
    "Write a program that calculates and prints the euclidean distance between two given points $u$ and $v$ in a 2D space, where $u$ and $v$ are both 2-tuples $(x,y)$.\n",
    "\n",
    "Example: if $u=(3,0)$ and $v=(0,4)$, the function should return $5$.\n",
    "\n",
    "*Hint:* in order to compute the square root, import the `math` library with `import math` and use `math.sqrt()`."
   ]
  },
  {
   "cell_type": "code",
   "execution_count": 8,
   "id": "df01ca18",
   "metadata": {},
   "outputs": [
    {
     "name": "stdout",
     "output_type": "stream",
     "text": [
      "Distance between the two points: 5.0\n"
     ]
    }
   ],
   "source": [
    "# Import the math library to use math.sqrt()\n",
    "import math\n",
    "\n",
    "# Create the coordinates of two points as tuples\n",
    "u = tuple([3, 0])\n",
    "v = tuple([0, 4])\n",
    "\n",
    "# Calculate the distances on the x and y axes\n",
    "distance_x = v[0] - u[0]  # Calculate the horizontal distance\n",
    "distance_y = v[1] - u[1]  # Calculate the vertical distance\n",
    "\n",
    "# Calculate the distance between the two points using the Pythagorean theorem\n",
    "distance = math.sqrt(distance_x**2 + distance_y**2)\n",
    "\n",
    "# Print the result\n",
    "print(\"Distance between the two points:\", distance)\n"
   ]
  },
  {
   "cell_type": "markdown",
   "id": "5aa69da6",
   "metadata": {},
   "source": [
    "# 4 Counting letters\n",
    "\n",
    "Write a program that calculates the number of times each character occurs in a given string. Ignore differences in capitalization.\n",
    "\n",
    "The test strings are:"
   ]
  },
  {
   "cell_type": "code",
   "execution_count": 9,
   "id": "6356d843",
   "metadata": {},
   "outputs": [],
   "source": [
    "s1 = \"Write a program that prints the numbers from 1 to 100. \\\n",
    "But for multiples of three print Hello instead of the number and for the multiples of five print World. \\\n",
    "For numbers which are multiples of both three and five print HelloWorld.\"\n",
    "s2 = \"The quick brown fox jumps over the lazy dog\""
   ]
  },
  {
   "cell_type": "code",
   "execution_count": 10,
   "metadata": {},
   "outputs": [],
   "source": [
    "#Define a function which counts the occurrences of every char\n",
    "def count_char_occurrences(input_string, excludes, dict):\n",
    "    #Iter the string\n",
    "    for char in input_string:\n",
    "        #If the char is an actual char \n",
    "        if char not in excludes:\n",
    "            #I don't wanna count separately capital chars from lower chars\n",
    "            char = char.lower()\n",
    "            #If the current char is already counted\n",
    "            if char in dict:\n",
    "                #Increment the occurrences counter\n",
    "                dict[char] += 1\n",
    "            else:\n",
    "                #Instance a first value\n",
    "                dict[char] = 1\n",
    "    #Return the dictionary updated\n",
    "    return dict"
   ]
  },
  {
   "cell_type": "code",
   "execution_count": 11,
   "id": "5de9b09a",
   "metadata": {},
   "outputs": [
    {
     "name": "stdout",
     "output_type": "stream",
     "text": [
      "Chiave: w, Valore: 5\n",
      "Chiave: r, Valore: 21\n",
      "Chiave: i, Valore: 13\n",
      "Chiave: t, Valore: 21\n",
      "Chiave: e, Valore: 23\n",
      "Chiave: a, Valore: 8\n",
      "Chiave: p, Valore: 9\n",
      "Chiave: o, Valore: 19\n",
      "Chiave: g, Valore: 2\n",
      "Chiave: m, Valore: 9\n",
      "Chiave: h, Valore: 13\n",
      "Chiave: n, Valore: 11\n",
      "Chiave: s, Valore: 8\n",
      "Chiave: u, Valore: 9\n",
      "Chiave: b, Valore: 6\n",
      "Chiave: f, Valore: 11\n",
      "Chiave: l, Valore: 13\n",
      "Chiave: d, Valore: 6\n",
      "Chiave: v, Valore: 3\n",
      "Chiave: c, Valore: 2\n",
      "Chiave: q, Valore: 1\n",
      "Chiave: k, Valore: 1\n",
      "Chiave: x, Valore: 1\n",
      "Chiave: j, Valore: 1\n",
      "Chiave: z, Valore: 1\n",
      "Chiave: y, Valore: 1\n"
     ]
    }
   ],
   "source": [
    "#We have to use a Dictionary{\"char\", \"occurrence\"}\n",
    "char_with_occurrences = {}\n",
    "\n",
    "#List of the non-char symbols\n",
    "excludes = [str(0), str(1), \" \", \".\"]\n",
    "\n",
    "#Call a function which counts the times every char appear\n",
    "char_occurrences = count_char_occurrences(s1, excludes, char_with_occurrences)\n",
    "char_occurrences = count_char_occurrences(s2, excludes, char_with_occurrences)\n",
    "\n",
    "#Print the dictionary\n",
    "for key, value in char_with_occurrences.items():\n",
    "    print(f\"Chiave: {key}, Valore: {value}\")"
   ]
  },
  {
   "cell_type": "markdown",
   "id": "54b5525c",
   "metadata": {},
   "source": [
    "# 5 Isolating the unique\n",
    "\n",
    "Write a program that determines and counts the unique numbers (numbers with only one occurrence) in the list:"
   ]
  },
  {
   "cell_type": "code",
   "execution_count": 12,
   "id": "644a253a",
   "metadata": {},
   "outputs": [],
   "source": [
    "l = [36, 45, 58, 3, 74, 96, 64, 45, 31, 10, 24, 19, 33, 86, 99, 18, 63, 70, 85,\n",
    " 85, 63, 47, 56, 42, 70, 84, 88, 55, 20, 54, 8, 56, 51, 79, 81, 57, 37, 91,\n",
    " 1, 84, 84, 36, 66, 9, 89, 50, 42, 91, 50, 95, 90, 98, 39, 16, 82, 31, 92, 41,\n",
    " 45, 30, 66, 70, 34, 85, 94, 5, 3, 36, 72, 91, 84, 34, 87, 75, 53, 51, 20, 89, 51, 20]"
   ]
  },
  {
   "cell_type": "code",
   "execution_count": 13,
   "id": "efbb6ddd",
   "metadata": {},
   "outputs": [
    {
     "name": "stdout",
     "output_type": "stream",
     "text": [
      "Using a for loop: [36, 45, 58, 3, 74, 96, 64, 31, 10, 24, 19, 33, 86, 99, 18, 63, 70, 85, 47, 56, 42, 84, 88, 55, 20, 54, 8, 51, 79, 81, 57, 37, 91, 1, 66, 9, 89, 50, 95, 90, 98, 39, 16, 82, 92, 41, 30, 34, 94, 5, 72, 87, 75, 53]\n",
      "Using a Set: [1, 3, 5, 8, 9, 10, 16, 18, 19, 20, 24, 30, 31, 33, 34, 36, 37, 39, 41, 42, 45, 47, 50, 51, 53, 54, 55, 56, 57, 58, 63, 64, 66, 70, 72, 74, 75, 79, 81, 82, 84, 85, 86, 87, 88, 89, 90, 91, 92, 94, 95, 96, 98, 99]\n",
      "Number of unique values using a for loop:  54\n",
      "Number of unique values using a Set:  54\n"
     ]
    }
   ],
   "source": [
    "# Using a for loop to create a list with unique values\n",
    "unique_list_for = []\n",
    "for i in l:\n",
    "    if i not in unique_list_for:\n",
    "        unique_list_for.append(i)\n",
    "\n",
    "# Using a set to create a list with unique values\n",
    "unique_list_set = list(set(l))\n",
    "\n",
    "# Print the unique lists and their lengths\n",
    "print(\"Using a for loop:\", unique_list_for)\n",
    "print(\"Using a Set:\", unique_list_set)\n",
    "print(\"Number of unique values using a for loop: \", len(unique_list_for))\n",
    "print(\"Number of unique values using a Set: \", len(unique_list_set))\n"
   ]
  },
  {
   "cell_type": "markdown",
   "id": "226f1cf4",
   "metadata": {},
   "source": [
    "# 6 Casting\n",
    "\n",
    "Write a program that:\n",
    "* reads from command line two variables, that can be either `int`, `float`, or `str`.\n",
    "* use the `try`/`except` expressions to perform the addition of these two variables, only if possible\n",
    "* print the result without making the code crash for all the `int`/`float`/`str` input combinations."
   ]
  },
  {
   "cell_type": "code",
   "execution_count": 14,
   "id": "f78591fa",
   "metadata": {},
   "outputs": [
    {
     "name": "stdout",
     "output_type": "stream",
     "text": [
      "8\n",
      "7.0\n",
      "15.0\n"
     ]
    }
   ],
   "source": [
    "x = input(\"Inserisci il valore di x (accettati int, float o stringhe): \")\n",
    "y = input(\"Inserisci il valore di y (accettati int, float o stringhe): \")\n",
    "\n",
    "print(x)\n",
    "print(y)\n",
    "\n",
    "try:\n",
    "    # Prova a convertire x e y in int\n",
    "    print(int(x) + int(y))\n",
    "except ValueError:\n",
    "    try:\n",
    "        print(float(x) + float(y))\n",
    "    except ValueError:\n",
    "        if isinstance(x, str) and isinstance(y, str):\n",
    "            print(x + y)\n",
    "        else: print(\"Incompatible types\")\n"
   ]
  },
  {
   "cell_type": "markdown",
   "id": "9179321a",
   "metadata": {},
   "source": [
    "# 7 Cubes\n",
    "\n",
    "Create a list of the cubes of *x* for *x* in *[0, 10]* using:\n",
    "\n",
    "1. a for loop\n",
    "\n",
    "2. a list comprehension"
   ]
  },
  {
   "cell_type": "code",
   "execution_count": 15,
   "id": "dca26dde",
   "metadata": {},
   "outputs": [
    {
     "name": "stdout",
     "output_type": "stream",
     "text": [
      "Using a for loop: [0, 1, 8, 27, 64, 125, 216, 343, 512, 729]\n",
      "Using a list comprehension: [0, 1, 8, 27, 64, 125, 216, 343, 512, 729]\n"
     ]
    }
   ],
   "source": [
    "# Declare a list and fill it using a for loop\n",
    "list_loop = []\n",
    "for x in range(10):\n",
    "    # Add the cube of x to the list\n",
    "    list_loop.append(x**3)\n",
    "\n",
    "# Print the list filled with the for loop\n",
    "print(\"Using a for loop:\", list_loop)\n",
    "\n",
    "# Declare and define a list comprehension\n",
    "list_comprehension = [x**3 for x in range(10)]\n",
    "\n",
    "# Print the list filled with a list comprehension\n",
    "print(\"Using a list comprehension:\", list_comprehension)\n"
   ]
  },
  {
   "cell_type": "markdown",
   "id": "b2473695",
   "metadata": {},
   "source": [
    "# 9 Nested list comprehension\n",
    "\n",
    "> A Pythagorean triple is an integer solution to the Pythagorean theorem $a^2+b^2=c^2$. The first Pythagorean triple is (3, 4, 5).\n",
    "\n",
    "Find and put in a tuple all unique Pythagorean triples for the positive integers $a$, $b$ and $c$ with $c < 100$."
   ]
  },
  {
   "cell_type": "code",
   "execution_count": 16,
   "id": "d12c4227",
   "metadata": {},
   "outputs": [
    {
     "name": "stdout",
     "output_type": "stream",
     "text": [
      "a^2 =  1 \n",
      "b^2 =  3 \n",
      "c^2 =  10\n"
     ]
    }
   ],
   "source": [
    "import random\n",
    "\n",
    "result = 101\n",
    "\n",
    "# Keep generating random values for a and b until c^2 is less than 100\n",
    "while result >= 100:\n",
    "    a = random.randint(0, 10)\n",
    "    b = random.randint(1, 10)\n",
    "    result = a**2 + b**2\n",
    "\n",
    "# Print the values of a^2, b^2, and c^2\n",
    "print(\"a^2 = \", a, \"\\nb^2 = \", b, \"\\nc^2 = \", result)\n"
   ]
  },
  {
   "cell_type": "markdown",
   "id": "afc26c3b",
   "metadata": {},
   "source": [
    "# 10 Normalization of a N-dimensional vector\n",
    "\n",
    "Write a program that takes an N-dimensional vector, e.g. a variable-length tuple of numbers, and normalizes it to one (in such a way that the squared sum of all the entries is equal to 1)."
   ]
  },
  {
   "cell_type": "code",
   "execution_count": 17,
   "id": "4cd3c885",
   "metadata": {},
   "outputs": [
    {
     "name": "stdout",
     "output_type": "stream",
     "text": [
      "Original vector: (2, 37, 48, 17, 80, 17, 27, 70, 58)\n",
      "Normalized vector: (0.01426825363838374, 0.26396269231009917, 0.3424380873212098, 0.12128015592626179, 0.5707301455353496, 0.12128015592626179, 0.19262142411818048, 0.4993888773434309, 0.41377935551312844)\n"
     ]
    }
   ],
   "source": [
    "# Imports\n",
    "import math\n",
    "import random\n",
    "\n",
    "# Generate a random length for the vector (1 to 10)\n",
    "length = random.randint(1, 10)\n",
    "\n",
    "# Define the N-vector with random integers\n",
    "vector = tuple([random.randint(0, 100) for x in range(length)])\n",
    "\n",
    "# Print the generated vector\n",
    "print(\"Original vector:\", vector)\n",
    "\n",
    "# Calculate the sum of squares of vector elements\n",
    "sum_of_squares = 0\n",
    "for x in range(length):\n",
    "    sum_of_squares += (vector[x]**2)\n",
    "\n",
    "# Calculate the norm of the vector\n",
    "norm = math.sqrt(sum_of_squares)\n",
    "\n",
    "# Normalize the vector\n",
    "normalized_vector = tuple(x / norm for x in vector)\n",
    "\n",
    "# Print the normalized vector\n",
    "print(\"Normalized vector:\", normalized_vector)"
   ]
  },
  {
   "cell_type": "markdown",
   "id": "40474051",
   "metadata": {},
   "source": [
    "# 11 The Fibonacci sequence\n",
    "\n",
    "Calculate the first 20 numbers of the [Fibonacci sequence](https://en.wikipedia.org/wiki/Fibonacci_number) using only `for` or `while` loops."
   ]
  },
  {
   "cell_type": "code",
   "execution_count": 18,
   "id": "7f7ef143",
   "metadata": {},
   "outputs": [
    {
     "name": "stdout",
     "output_type": "stream",
     "text": [
      "Fibonacci sequence: [0, 0, 1, 2, 3, 5, 8, 13, 21, 34, 55, 89, 144, 233, 377, 610, 987, 1597, 2584, 4181, 6765]\n"
     ]
    }
   ],
   "source": [
    "# Initialize variables for the Fibonacci sequence\n",
    "current_number = 0\n",
    "prev_number = 0\n",
    "\n",
    "# Create a list to store the Fibonacci sequence, starting with 0\n",
    "fibonacci = [current_number]\n",
    "\n",
    "# Generate the Fibonacci sequence for the first 20 numbers\n",
    "for i in range(20):\n",
    "    # Calculate the next number in the sequence\n",
    "    next_number = int(prev_number) + int(current_number)\n",
    "\n",
    "    # Update the variables for the next iteration\n",
    "    prev_number = current_number\n",
    "    current_number = next_number\n",
    "\n",
    "    # Ensure that prev_number is not 0 for the next iteration\n",
    "    if (prev_number == 0):\n",
    "        prev_number = 1\n",
    "\n",
    "    # Add the next_number to the Fibonacci sequence\n",
    "    fibonacci.append(next_number)\n",
    "\n",
    "# Print the generated Fibonacci sequence\n",
    "print(\"Fibonacci sequence:\", fibonacci)"
   ]
  }
 ],
 "metadata": {
  "kernelspec": {
   "display_name": "Python 3",
   "language": "python",
   "name": "python3"
  },
  "language_info": {
   "codemirror_mode": {
    "name": "ipython",
    "version": 3
   },
   "file_extension": ".py",
   "mimetype": "text/x-python",
   "name": "python",
   "nbconvert_exporter": "python",
   "pygments_lexer": "ipython3",
   "version": "3.11.5"
  }
 },
 "nbformat": 4,
 "nbformat_minor": 5
}
