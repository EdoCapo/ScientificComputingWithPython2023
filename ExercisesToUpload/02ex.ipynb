{
 "cells": [
  {
   "cell_type": "markdown",
   "metadata": {},
   "source": [
    "# 1\\. **Global variables**\n",
    "\n",
    "Convert the function $f$ into a function that doesn't use global variables and that does not modify the original list"
   ]
  },
  {
   "cell_type": "code",
   "execution_count": 1,
   "metadata": {},
   "outputs": [
    {
     "name": "stdout",
     "output_type": "stream",
     "text": [
      "Result of f(alist): [1, 2, 3, 0, 1, 2, 3, 4]\n",
      "Modified alist: [1, 2, 3, 0, 1, 2, 3, 4]\n"
     ]
    }
   ],
   "source": [
    "# Initialize a variable x\n",
    "x = 5\n",
    "\n",
    "# Define a function that appends integers from 0 to x-1 to a list\n",
    "def f(alist):\n",
    "    for i in range(x):\n",
    "        alist.append(i)\n",
    "    return alist\n",
    "\n",
    "# Initialize a list called alist\n",
    "alist = [1, 2, 3]\n",
    "\n",
    "# Call the function f and store the result in ans\n",
    "ans = f(alist)\n",
    "\n",
    "# Print the result of the function\n",
    "print(\"Result of f(alist):\", ans)\n",
    "\n",
    "# Print the modified alist (alist has been changed by the function)\n",
    "print(\"Modified alist:\", alist)"
   ]
  },
  {
   "cell_type": "code",
   "execution_count": 2,
   "metadata": {},
   "outputs": [
    {
     "name": "stdout",
     "output_type": "stream",
     "text": [
      "Before the function:  [1, 2, 3]\n",
      "Result of new_f(alist, 5): [1, 2, 3, 0, 1, 2, 3, 4]\n",
      "Original alist: [1, 2, 3]\n"
     ]
    }
   ],
   "source": [
    "import copy\n",
    "\n",
    "# Define a function that appends n numbers to a copy of the original list\n",
    "def new_f(alist, n):\n",
    "    print(\"Before the function: \", alist)\n",
    "    \n",
    "    # Create a copy of the original list\n",
    "    temp_list = copy.copy(alist)\n",
    "    \n",
    "    # Append n numbers to the copy\n",
    "    for i in range(n):\n",
    "        temp_list.append(i)\n",
    "    \n",
    "    # Return the modified copy\n",
    "    return temp_list\n",
    "\n",
    "# Initialize a list called alist\n",
    "alist = [1, 2, 3]\n",
    "\n",
    "# Call the function new_f and store the result in ans\n",
    "ans = new_f(alist, 5)\n",
    "\n",
    "# Print the result of the function\n",
    "print(\"Result of new_f(alist, 5):\", ans)\n",
    "\n",
    "# Print the original alist (original list remains unchanged)\n",
    "print(\"Original alist:\", alist)"
   ]
  },
  {
   "cell_type": "markdown",
   "metadata": {},
   "source": [
    "# 2\\. **List comprehension**\n",
    "\n",
    "Write the following expression using a list comprehension:\n",
    "\n",
    "`ans = list(map(lambda x: x * x, filter(lambda x: x % 2 == 1, range(10))))`"
   ]
  },
  {
   "cell_type": "code",
   "execution_count": 3,
   "metadata": {},
   "outputs": [
    {
     "name": "stdout",
     "output_type": "stream",
     "text": [
      "[1, 9, 25, 49, 81]\n"
     ]
    }
   ],
   "source": [
    "# Create a list using a list comprehension\n",
    "# It contains the squares of odd numbers from 0 to 9\n",
    "ans = [x**2 for x in range(10) if x % 2 == 1]\n",
    "\n",
    "# Print the result\n",
    "print(ans)"
   ]
  },
  {
   "cell_type": "markdown",
   "metadata": {},
   "source": [
    "# 3\\. **Filter list**\n",
    "\n",
    "Using the `filter()` hof, define a function that takes a list of words and an integer `n` as arguments, and returns a list of words that are shorter than `n`.\n"
   ]
  },
  {
   "cell_type": "code",
   "execution_count": 4,
   "metadata": {},
   "outputs": [
    {
     "name": "stdout",
     "output_type": "stream",
     "text": [
      "['luna', 'sole', 'ape']\n"
     ]
    }
   ],
   "source": [
    "# Define a function that checks if the length of a word is less than n\n",
    "def shorter_words(word):\n",
    "    return len(word) < n\n",
    "\n",
    "# Input words as a string and the value of n\n",
    "words = \"lorem ipsum docet dolorem luna sole ape\"\n",
    "n = 5\n",
    "\n",
    "# Use filter to create a list of words shorter than n\n",
    "ans = list(filter(shorter_words, words.split()))\n",
    "\n",
    "# Print the result\n",
    "print(ans)"
   ]
  },
  {
   "cell_type": "markdown",
   "metadata": {},
   "source": [
    "# 4\\. **Map dictionary**\n",
    "\n",
    "\n",
    "Consider the following dictionary:\n",
    "\n",
    "`lang = {\"Python\" : 3, \"Java\" : '', \"Cplusplus\" : 'test', \"Php\" : 0.7}`\n",
    "\n",
    "Write a function that takes the above dictionary and uses the `map()` higher order function to return a list that contains the length of the keys of the dictionary."
   ]
  },
  {
   "cell_type": "code",
   "execution_count": 5,
   "metadata": {},
   "outputs": [
    {
     "name": "stdout",
     "output_type": "stream",
     "text": [
      "[6, 4, 9, 3]\n"
     ]
    }
   ],
   "source": [
    "# Define a function that returns the length of the key\n",
    "def key_length(element):\n",
    "    key, value = element\n",
    "    return len(key)\n",
    "\n",
    "# Define the dictionary\n",
    "lang = {\"Python\": 3, \"Java\": '', \"Cplusplus\": 'test', \"Php\": 0.7}\n",
    "\n",
    "# Use map to create a list of key lengths\n",
    "ans = list(map(key_length, lang.items()))\n",
    "\n",
    "# Print the result\n",
    "print(ans)"
   ]
  },
  {
   "cell_type": "markdown",
   "metadata": {},
   "source": [
    "# 5\\. **Lambda functions**\n",
    "\n",
    "Write a Python program that sorts the following list of tuples using a lambda function, according to the alphabetical order of the first element of the tuple:\n",
    "\n",
    "`language_scores = [('Python', 97), ('Cplusplus', 81), ('Php', 45), ('Java', 32)]`\n",
    "\n",
    "*Hint*: use the method `sort()` and its argument `key` of the `list` data structure."
   ]
  },
  {
   "cell_type": "code",
   "execution_count": 6,
   "metadata": {},
   "outputs": [
    {
     "name": "stdout",
     "output_type": "stream",
     "text": [
      "Original list: [('Python', 97), ('Cplusplus', 81), ('Php', 45), ('Java', 32)]\n",
      "Sorted list: [('Cplusplus', 81), ('Java', 32), ('Php', 45), ('Python', 97)]\n"
     ]
    }
   ],
   "source": [
    "# Define the list of tuples\n",
    "language_scores = [('Python', 97), ('Cplusplus', 81), ('Php', 45), ('Java', 32)]\n",
    "\n",
    "# Print the original list\n",
    "print(\"Original list:\", language_scores)\n",
    "\n",
    "# Sort the list alphabetically by the first element of each tuple using a lambda function as the key\n",
    "language_scores.sort(key=lambda element: element[0])\n",
    "\n",
    "# Print the sorted list\n",
    "print(\"Sorted list:\", language_scores)\n"
   ]
  },
  {
   "cell_type": "markdown",
   "metadata": {},
   "source": [
    "# 6\\. **Nested functions**\n",
    "\n",
    "Write two functions: one that returns the square of a number, and one that returns its cube.\n",
    "\n",
    "Then, write a third function that returns the number raised to the 6th power, using only the two previous functions."
   ]
  },
  {
   "cell_type": "code",
   "execution_count": 7,
   "metadata": {},
   "outputs": [
    {
     "name": "stdout",
     "output_type": "stream",
     "text": [
      "The sixth power of 3 is: 729\n"
     ]
    }
   ],
   "source": [
    "# Define a function that calculates the square of a number\n",
    "def square(x):\n",
    "    return x**2\n",
    "\n",
    "# Define a function that calculates the cube of a number\n",
    "def cube(x):\n",
    "    return x**3\n",
    "\n",
    "# Define a function that calculates the sixth power of a number\n",
    "# It does this by first squaring the input and then cubing the result\n",
    "def sixth_power(x):\n",
    "    return square(cube(x))\n",
    "\n",
    "# Call the sixth_power function with an input of 3\n",
    "result = sixth_power(3)\n",
    "\n",
    "# Print the result\n",
    "print(\"The sixth power of 3 is:\", result)"
   ]
  },
  {
   "cell_type": "markdown",
   "metadata": {},
   "source": [
    "# 7\\. **Decorators**\n",
    "\n",
    "Write a decorator named `hello` that makes every wrapped function print “Hello World!” each time the function is called."
   ]
  },
  {
   "cell_type": "code",
   "execution_count": 8,
   "metadata": {},
   "outputs": [],
   "source": [
    "# Define a decorator function that adds \"Hello world!\" messages before and after the original function\n",
    "def hello_world_decorator(func):\n",
    "    def wrapper(x):\n",
    "        print(\"Hello world!\")  # Message before\n",
    "        print(func(x))         # Call the original function\n",
    "        print(\"Hello world!\")  # Message after\n",
    "    return wrapper\n",
    "\n",
    "# Decorate the square function with the hello_world_decorator\n",
    "@hello_world_decorator\n",
    "def square(x):\n",
    "    return x * x"
   ]
  },
  {
   "cell_type": "code",
   "execution_count": 9,
   "metadata": {},
   "outputs": [
    {
     "name": "stdout",
     "output_type": "stream",
     "text": [
      "Hello world!\n",
      "64\n",
      "Hello world!\n"
     ]
    }
   ],
   "source": [
    "# Call the decorated square function\n",
    "square(8)"
   ]
  },
  {
   "cell_type": "markdown",
   "metadata": {},
   "source": [
    "# 8\\. **The Fibonacci sequence (part 2)**\n",
    "\n",
    "Calculate the first 20 numbers of the [Fibonacci sequence](https://en.wikipedia.org/wiki/Fibonacci_number) using a recursive function."
   ]
  },
  {
   "cell_type": "code",
   "execution_count": 10,
   "metadata": {},
   "outputs": [],
   "source": [
    "# Define a recursive function to calculate the Fibonacci sequence\n",
    "def recursive_fibonacci(prev=0, curr=1, iteration=20):\n",
    "    # Base case: return curr if iteration is 0\n",
    "    if iteration == 1:\n",
    "        return curr\n",
    "\n",
    "    # Calculate the next Fibonacci number\n",
    "    next_fibonacci = prev + curr\n",
    "\n",
    "    # Recursively call the function with updated values and decremented iteration\n",
    "    return recursive_fibonacci(curr, next_fibonacci, iteration - 1)\n"
   ]
  },
  {
   "cell_type": "code",
   "execution_count": 11,
   "metadata": {},
   "outputs": [
    {
     "name": "stdout",
     "output_type": "stream",
     "text": [
      "The 20th Fibonacci number is: 6765\n"
     ]
    }
   ],
   "source": [
    "# Call the function with default values\n",
    "result = recursive_fibonacci(iteration = 20)\n",
    "print(\"The 20th Fibonacci number is:\", result)"
   ]
  },
  {
   "cell_type": "markdown",
   "metadata": {},
   "source": [
    "# 9\\. **The Fibonacci sequence (part 3)**\n",
    "\n",
    "Run both the Fibonacci recursive function from the previous exercise, and the Fibonacci function from 01ex that use only `for` and `while` loops.\n",
    "\n",
    "Measure the execution code of the two functions with `timeit` ([link to the doc](https://docs.python.org/3/library/timeit.html)), for example:\n",
    "\n",
    "`%timeit loopFibonacci(20)`\n",
    "\n",
    "`%timeit recursiveFibonacci(20)`\n",
    "\n",
    "which one is the most efficient implementation? By how much?"
   ]
  },
  {
   "cell_type": "code",
   "execution_count": 12,
   "metadata": {},
   "outputs": [],
   "source": [
    "def fibonacci_loop(x):\n",
    "    # Initialize variables for the Fibonacci sequence\n",
    "    current_number = 0\n",
    "    prev_number = 0\n",
    "\n",
    "    # Create a list to store the Fibonacci sequence, starting with 0\n",
    "    fibonacci = [current_number]\n",
    "\n",
    "    # Generate the Fibonacci sequence for the first 20 numbers\n",
    "    for i in range(x):\n",
    "        # Calculate the next number in the sequence\n",
    "        next_number = int(prev_number) + int(current_number)\n",
    "\n",
    "        # Update the variables for the next iteration\n",
    "        prev_number = current_number\n",
    "        current_number = next_number\n",
    "\n",
    "        # Ensure that prev_number is not 0 for the next iteration\n",
    "        if (prev_number == 0):\n",
    "            prev_number = 1\n",
    "\n",
    "        # Add the next_number to the Fibonacci sequence\n",
    "        fibonacci.append(next_number)\n",
    "    return fibonacci"
   ]
  },
  {
   "cell_type": "code",
   "execution_count": 13,
   "metadata": {},
   "outputs": [
    {
     "name": "stdout",
     "output_type": "stream",
     "text": [
      "Execution time for the Fibonacci loop: 0.06347570000798441\n",
      "Execution time for the recursive Fibonacci: 0.021103299979586154\n",
      "The recursive Fibonacci is faster by 0.04237240002839826 milliseconds\n"
     ]
    }
   ],
   "source": [
    "import timeit\n",
    "\n",
    "# Measure the execution time of the Fibonacci loop function\n",
    "time_fibonacci_loop = timeit.timeit(\"fibonacci_loop(20)\", globals=globals(), number=10000)\n",
    "\n",
    "# Measure the execution time of the recursive Fibonacci function\n",
    "time_recursive_fibonacci = timeit.timeit(\"recursive_fibonacci(iteration = 20)\", globals=globals(), number=10000)\n",
    "\n",
    "# Print the execution times for comparison\n",
    "print(\"Execution time for the Fibonacci loop:\", time_fibonacci_loop)\n",
    "print(\"Execution time for the recursive Fibonacci:\", time_recursive_fibonacci)\n",
    "\n",
    "# Compare the execution times and print the result\n",
    "if (time_fibonacci_loop > time_recursive_fibonacci):\n",
    "    print(\"The recursive Fibonacci is faster by\", time_fibonacci_loop - time_recursive_fibonacci, \"milliseconds\")\n",
    "else: \n",
    "    print(\"The Fibonacci loop is faster by\", time_recursive_fibonacci - time_fibonacci_loop, \"milliseconds\")\n"
   ]
  },
  {
   "cell_type": "markdown",
   "metadata": {},
   "source": [
    "# 10\\. **Class definition**\n",
    "\n",
    "Define a class `polygon`. The constructor has to take a tuple as input that contains the length of each side. The (unordered) input list does not have to have a fixed length, but should contain at least 3 items.\n",
    "\n",
    "- Create appropriate methods to get and set the length of each side\n",
    "\n",
    "- Create a method `perimeter()` that returns the perimeter of the polygon\n",
    "\n",
    "- Create a method `getOrderedSides(increasing = True)` that returns a tuple containing the length of the sides arranged in increasing or decreasing order, depending on the argument of the method\n",
    "\n",
    "Test the class by creating an instance and calling the `perimeter()` and `getOrderedSides(increasing = True)` methods."
   ]
  },
  {
   "cell_type": "code",
   "execution_count": 14,
   "metadata": {},
   "outputs": [],
   "source": [
    "class Polygon:\n",
    "    def __init__(self, components):\n",
    "        self.dimensions = components\n",
    "\n",
    "    def getDimension(self, n):\n",
    "        # Return the nth component of the polygon\n",
    "        return self.dimensions[n]\n",
    "\n",
    "    def getDimensions(self):\n",
    "        # Return a list of all components of the polygon\n",
    "        return self.dimensions\n",
    "\n",
    "    def setDimension(self, n, new_dimension):\n",
    "        # Update the nth component of the polygon with a new value\n",
    "        if n < len(self.dimensions):\n",
    "            self.dimensions[n] = new_dimension\n",
    "\n",
    "    def getPerimeter(self):\n",
    "        # Calculate and return the perimeter of the polygon (sum of all components)\n",
    "        return sum(self.dimensions)\n",
    "\n",
    "    def getOrderedSize(self, increasing=True):\n",
    "        # Return a sorted list of components, either in increasing or decreasing order\n",
    "        sorted_dimensions = sorted(self.dimensions)\n",
    "        if not increasing:\n",
    "            sorted_dimensions.reverse()\n",
    "        return sorted_dimensions"
   ]
  },
  {
   "cell_type": "code",
   "execution_count": 15,
   "metadata": {},
   "outputs": [
    {
     "name": "stdout",
     "output_type": "stream",
     "text": [
      "Perimeter of the triangle: 15\n",
      "Perimeter of the quadrilateral: 12\n",
      "Dimensions of the triangle: [6, 4, 5]\n",
      "Sorted dimensions of the triangle (increasing): [4, 5, 6]\n",
      "Sorted dimensions of the triangle (decreasing): [6, 5, 4]\n"
     ]
    }
   ],
   "source": [
    "# Create a Polygon with 4 components (quadrilateral)\n",
    "quad = Polygon([3, 3, 3, 3])\n",
    "\n",
    "# Create another Polygon with 3 components (triangle)\n",
    "tri = Polygon([6, 4, 5])\n",
    "\n",
    "# Calculate and print the perimeter of the triangle\n",
    "tri_perimeter = tri.getPerimeter()\n",
    "print(\"Perimeter of the triangle:\", tri_perimeter)\n",
    "\n",
    "# Calculate and print the perimeter of the quadrilateral\n",
    "quad_perimeter = quad.getPerimeter()\n",
    "print(\"Perimeter of the quadrilateral:\", quad_perimeter)\n",
    "\n",
    "# Get and print the dimensions of the triangle\n",
    "tri_dimensions = tri.getDimensions()\n",
    "print(\"Dimensions of the triangle:\", tri_dimensions)\n",
    "\n",
    "# Get and print a sorted list of components of the triangle in increasing order\n",
    "sorted_tri_increasing = tri.getOrderedSize(True)\n",
    "print(\"Sorted dimensions of the triangle (increasing):\", sorted_tri_increasing)\n",
    "\n",
    "# Get and print a sorted list of components of the triangle in decreasing order\n",
    "sorted_tri_decreasing = tri.getOrderedSize(False)\n",
    "print(\"Sorted dimensions of the triangle (decreasing):\", sorted_tri_decreasing)"
   ]
  },
  {
   "cell_type": "markdown",
   "metadata": {},
   "source": [
    "# 11\\. **Class inheritance**\n",
    "\n",
    "Define a class `rectangle` that inherits from `polygon`. Modify the constructor, if necessary, to make sure that the input data is consistent with the geometrical properties of a rectangle.\n",
    "\n",
    "- Create a method `area()` that returns the area of the rectangle.\n",
    "\n",
    "Test the `rectangle` class by creating an instance and passing an appropriate input to the constructor."
   ]
  },
  {
   "cell_type": "code",
   "execution_count": 16,
   "metadata": {},
   "outputs": [],
   "source": [
    "class Rectangle(Polygon):\n",
    "    def __init__(self, components):\n",
    "        # Check if the given components form a valid rectangle\n",
    "        if len(components) == 4 and (components[0] == components[2] or components[1] == components[3]):\n",
    "            super().__init__(components)  # Call the constructor of the base class (Polygon)\n",
    "            print(\"Rectangle created succesfully\")\n",
    "        else:\n",
    "            print(\"Error: This is not a valid rectangle\")\n",
    "\n",
    "    def area(self):\n",
    "        # Calculate and return the area of the rectangle\n",
    "        return self.getDimension(0) * self.getDimension(1)"
   ]
  },
  {
   "cell_type": "code",
   "execution_count": 17,
   "metadata": {},
   "outputs": [
    {
     "name": "stdout",
     "output_type": "stream",
     "text": [
      "Rectangle created succesfully\n",
      "Error: This is not a valid rectangle\n",
      "Rectangle created succesfully\n",
      "Area of the rectangle: 20\n"
     ]
    }
   ],
   "source": [
    "# Create a valid rectangle with length 3 and width 4\n",
    "rec1 = Rectangle([3, 4, 3, 4])\n",
    "\n",
    "# Attempt to create a rectangle with an invalid number of components\n",
    "rec2 = Rectangle([1, 2, 1, 2, 3])\n",
    "\n",
    "# Create a valid rectangle with length 5 and width 4\n",
    "rec = Rectangle([5, 4, 5, 4])\n",
    "\n",
    "# Calculate and print the area of the valid rectangle\n",
    "area = rec.area()\n",
    "print(\"Area of the rectangle:\", area)"
   ]
  }
 ],
 "metadata": {
  "kernelspec": {
   "display_name": "Python 3",
   "language": "python",
   "name": "python3"
  },
  "language_info": {
   "codemirror_mode": {
    "name": "ipython",
    "version": 3
   },
   "file_extension": ".py",
   "mimetype": "text/x-python",
   "name": "python",
   "nbconvert_exporter": "python",
   "pygments_lexer": "ipython3",
   "version": "3.11.5"
  }
 },
 "nbformat": 4,
 "nbformat_minor": 2
}
