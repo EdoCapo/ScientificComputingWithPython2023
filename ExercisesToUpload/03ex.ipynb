{
 "cells": [
  {
   "cell_type": "markdown",
   "metadata": {},
   "source": [
    "# 1\\. **Number representation**\n",
    "\n",
    "Write a function that converts integer numbers among the bin, dec, and hex representations (bin<->dec<->hex).\n",
    "Determine the input type in the function, and pass another argument to choose the output representation."
   ]
  },
  {
   "cell_type": "code",
   "execution_count": 1,
   "metadata": {},
   "outputs": [],
   "source": [
    "def convert(x, to_representation):\n",
    "    try:\n",
    "        # Determine the input representation\n",
    "        if to_representation == \"dec\":\n",
    "            return int(x)  # Convert from any base (bin, hex, or dec) to decimal\n",
    "        elif to_representation == \"bin\":\n",
    "            return bin(x)  # Convert from any base to binary\n",
    "        elif to_representation == \"hex\":\n",
    "            return hex(x)  # Convert from any base to hexadecimal\n",
    "        else:\n",
    "            return \"Invalid output representation\"\n",
    "    except ValueError:\n",
    "        return \"Invalid input value\""
   ]
  },
  {
   "cell_type": "code",
   "execution_count": 2,
   "metadata": {},
   "outputs": [
    {
     "name": "stdout",
     "output_type": "stream",
     "text": [
      "0x1a\n",
      "0b11010\n",
      "26\n"
     ]
    }
   ],
   "source": [
    "# Example usage:\n",
    "input_value = 0x1A  # This can be in bin, dec, or hex\n",
    "output_representation = \"hex\"  # Choose the desired output representation\n",
    "\n",
    "# Convert and print in hexadecimal representation\n",
    "result = convert(input_value, output_representation)\n",
    "print(result)\n",
    "\n",
    "output_representation = \"bin\"  # Choose the desired output representation\n",
    "\n",
    "# Convert and print in binary representation\n",
    "result = convert(input_value, output_representation)\n",
    "print(result) \n",
    "\n",
    "output_representation = \"dec\"  # Choose the desired output representation\n",
    "\n",
    "# Convert and print in decimal representation\n",
    "result = convert(input_value, output_representation)\n",
    "print(result)\n"
   ]
  },
  {
   "cell_type": "markdown",
   "metadata": {},
   "source": [
    "# 2\\. **32-bit floating point number**\n",
    "\n",
    "Write a function that converts a 32 bit binary string (for example, `110000101011000000000000`) into a single precision floating point in decimal representation. Interpret the various bits as sign, fractional part of the mantissa and exponent, according to the IEEE 754 reccommendations."
   ]
  },
  {
   "cell_type": "code",
   "execution_count": 3,
   "metadata": {},
   "outputs": [],
   "source": [
    "import sys\n",
    "\n",
    "def convertSinglePrecisionFloating(x):\n",
    "    # Define the structure of a single-precision floating-point number:\n",
    "    # - 1 bit for sign\n",
    "    # - 8 bits for the exponent\n",
    "    # - 23 bits for the mantissa (fraction)\n",
    "\n",
    "    # Extract the sign bit (the leftmost bit)\n",
    "    x_sign = x & 2**(x.bit_length() - 1)\n",
    "    sign = x_sign >> (x.bit_length() - 1)\n",
    "\n",
    "    # Extract the exponent (the next 8 bits)\n",
    "    x_signless = x ^ x_sign  # Clear the sign bit\n",
    "    exp = x_signless >> 16\n",
    "\n",
    "    # Extract the mantissa (the remaining 23 bits)\n",
    "    len_mantissa = x.bit_length() - 9\n",
    "    temp_exp = exp << 16\n",
    "    mantissa = x_signless ^ temp_exp\n",
    "\n",
    "    print(\"Sign bit: \", sign)\n",
    "    print(\"Exponent bits: \", exp)\n",
    "    print(\"Mantissa bits: \", mantissa)\n",
    "\n",
    "    sign_rep = ''\n",
    "\n",
    "    if sign == 1:\n",
    "        sign_rep = '-'\n",
    "\n",
    "    # Display the number in a human-readable format\n",
    "    print(\"The number is: \", sign_rep, \"1.\", mantissa, \"e^\", exp)"
   ]
  },
  {
   "cell_type": "code",
   "execution_count": 4,
   "metadata": {},
   "outputs": [
    {
     "name": "stdout",
     "output_type": "stream",
     "text": [
      "Sign bit:  1\n",
      "Exponent bits:  66\n",
      "Mantissa bits:  45056\n",
      "The number is:  - 1. 45056 e^ 66\n"
     ]
    }
   ],
   "source": [
    "convertSinglePrecisionFloating(0b110000101011000000000000)"
   ]
  },
  {
   "cell_type": "markdown",
   "metadata": {},
   "source": [
    "# 3\\. **Underflow and overflow**\n",
    "\n",
    "Write a program to determine the approximate underflow and overflow limits (within a factor of 2) for floating point numbers on your computer. \n",
    "\n",
    "*Hint*: define two variables initialized to 1, and halve/double them for a sufficient amount of times to exceed the under/over-flow limits."
   ]
  },
  {
   "cell_type": "code",
   "execution_count": 5,
   "metadata": {},
   "outputs": [],
   "source": [
    "def find_overflow_underflow_limits():\n",
    "    # Initialize variables for underflow and overflow limits\n",
    "    underflow_limit = 1.0\n",
    "    overflow_limit = 1.0\n",
    "\n",
    "    # Initialize temporary variables to store the limits once reached\n",
    "    temp_u = 0\n",
    "    temp_o = 0\n",
    "\n",
    "    # Flags to track if underflow and overflow limits have been reached\n",
    "    reach_u = False\n",
    "    reach_o = False\n",
    "\n",
    "    # Continue the loop until both underflow and overflow limits are reached\n",
    "    while (not reach_u or not reach_o):\n",
    "        # Double one variable to find the overflow limit\n",
    "        if not reach_o:\n",
    "            overflow_limit *= 2.0\n",
    "\n",
    "        # Halve the other variable to find the underflow limit\n",
    "        if not reach_u:\n",
    "            underflow_limit /= 2.0\n",
    "\n",
    "        # Check if we have exceeded the underflow or overflow limits (within a factor of 2)\n",
    "        if underflow_limit == 0.0 and not reach_u:\n",
    "            reach_u = True\n",
    "        if overflow_limit == float(\"inf\") and not reach_o:\n",
    "            reach_o = True\n",
    "\n",
    "        # If not reached, store the current values of underflow and overflow limits\n",
    "        if not reach_u:\n",
    "            temp_u = underflow_limit\n",
    "        if not reach_o:\n",
    "            temp_o = overflow_limit\n",
    "\n",
    "    # Print the approximate overflow and underflow limits\n",
    "    print(\"Overflow limit (approximately):\", temp_o)\n",
    "    print(\"Underflow limit (approximately):\", temp_u)"
   ]
  },
  {
   "cell_type": "code",
   "execution_count": 6,
   "metadata": {},
   "outputs": [
    {
     "name": "stdout",
     "output_type": "stream",
     "text": [
      "Overflow limit (approximately): 8.98846567431158e+307\n",
      "Underflow limit (approximately): 5e-324\n"
     ]
    }
   ],
   "source": [
    "find_overflow_underflow_limits()"
   ]
  },
  {
   "cell_type": "markdown",
   "metadata": {},
   "source": [
    "# 4\\. **Machine precision**\n",
    "\n",
    "Similarly to the previous exercise, write a program to determine the machine precision for floating point numbers.\n",
    "\n",
    "*Hint*: define a new variable by adding an increasingly smaller value and check when the addition starts to have no effect on the number."
   ]
  },
  {
   "cell_type": "code",
   "execution_count": 7,
   "metadata": {},
   "outputs": [],
   "source": [
    "def machine_precision():\n",
    "    # Initialize a value that will decrease and an increasingly smaller value\n",
    "    increasingly_smaller_value = 1.0\n",
    "    current_value = 100.0\n",
    "    temp_value = current_value\n",
    "    temp_smaller_value = increasingly_smaller_value\n",
    "\n",
    "    # Continue the loop indefinitely until the precision limit is reached\n",
    "    while True:\n",
    "        # Decrease the current value by the increasingly smaller value\n",
    "        current_value -= increasingly_smaller_value\n",
    "\n",
    "        # Halve the increasingly smaller value\n",
    "        increasingly_smaller_value /= 2\n",
    "\n",
    "        # Check if the current value has stopped changing\n",
    "        if temp_value == current_value:\n",
    "            break\n",
    "\n",
    "        # Update the temporary values for comparison\n",
    "        temp_value = current_value\n",
    "        temp_smaller_value = increasingly_smaller_value\n",
    "\n",
    "    # Print the approximate machine precision\n",
    "    print(\"Machine precision (approximately):\", temp_smaller_value)"
   ]
  },
  {
   "cell_type": "code",
   "execution_count": 8,
   "metadata": {},
   "outputs": [
    {
     "name": "stdout",
     "output_type": "stream",
     "text": [
      "Machine precision (approximately): 3.552713678800501e-15\n"
     ]
    }
   ],
   "source": [
    "machine_precision()"
   ]
  },
  {
   "cell_type": "markdown",
   "metadata": {},
   "source": [
    "# 5\\. **Quadratic solution**\n",
    "\n",
    "Write a function that takes in input three parameters $a$, $b$ and $c$ and prints out the two solutions to the quadratic equation $ax^2+bx+c=0$ using the standard formula:\n",
    "$$\n",
    "x=\\frac{-b\\pm\\sqrt{b^2-4ac}}{2a}\n",
    "$$\n",
    "\n",
    "(a) use the function to compute the solution for $a=0.001$, $b=1000$ and $c=0.001$\n",
    "\n",
    "(b) re-express the standard solution formula by multiplying the numerator and the denominator by $-b\\mp\\sqrt{b^2-4ac}$ and again find the solution for $a=0.001$, $b=1000$ and $c=0.001$. How does it compare with what has been previously obtained, and why? (add the answer to a Python comment)\n",
    "\n",
    "(c) write a function that computes the roots of a quadratic equation accurately in all cases"
   ]
  },
  {
   "cell_type": "code",
   "execution_count": 9,
   "metadata": {},
   "outputs": [],
   "source": [
    "import math"
   ]
  },
  {
   "cell_type": "code",
   "execution_count": 10,
   "metadata": {},
   "outputs": [],
   "source": [
    "# Function to find the quadratic solutions using the standard formula\n",
    "def quadratic_solution(a, b, c):\n",
    "    # Calculate the discriminant\n",
    "    determinant = math.sqrt(b**2 - 4 * a * c)\n",
    "    \n",
    "    # Calculate the two solutions using the standard formula\n",
    "    numerator_one = -b + determinant\n",
    "    numerator_two = -b - determinant\n",
    "    denominator = 2 * a\n",
    "    \n",
    "    x1 = numerator_one / denominator\n",
    "    x2 = numerator_two / denominator\n",
    "\n",
    "    return x1, x2"
   ]
  },
  {
   "cell_type": "code",
   "execution_count": 11,
   "metadata": {},
   "outputs": [],
   "source": [
    "# Function to find the quadratic solutions with multiplication optimization\n",
    "def quadratic_solution_two(a, b, c):\n",
    "    # Calculate the discriminant\n",
    "    determinant = math.sqrt(b**2 - 4 * a * c)\n",
    "    \n",
    "    # Calculate the two solutions using the optimized formula\n",
    "    numerator_one = -b + determinant\n",
    "    numerator_two = -b - determinant\n",
    "    denominator = 2 * a\n",
    "    \n",
    "    numerator_mul = numerator_one * numerator_two\n",
    "\n",
    "    denominator_one = denominator * numerator_two\n",
    "    denominator_two = denominator * numerator_one\n",
    "\n",
    "    x1 = numerator_mul / denominator_one\n",
    "    x2 = numerator_mul / denominator_two\n",
    "\n",
    "    return x1, x2"
   ]
  },
  {
   "cell_type": "code",
   "execution_count": 12,
   "metadata": {},
   "outputs": [],
   "source": [
    "# Function to find the accurate quadratic solutions considering different cases\n",
    "def accurate_quadratic_solution(a, b, c):\n",
    "    # Calculate the discriminant\n",
    "    determinant = math.sqrt(b**2 - 4 * a * c)\n",
    "    \n",
    "    if b >= 0:\n",
    "        # Calculate the two solutions when b is non-negative\n",
    "        x1 = (-b - determinant) / (2 * a)\n",
    "        x2 = (2 * c) / (-b - determinant)\n",
    "    else:\n",
    "        # Calculate the two solutions when b is negative\n",
    "        x1 = (2 * c) / (-b + determinant)\n",
    "        x2 = (-b + determinant) / (2 * a)\n",
    "\n",
    "    return x1, x2"
   ]
  },
  {
   "cell_type": "code",
   "execution_count": 13,
   "metadata": {},
   "outputs": [
    {
     "name": "stdout",
     "output_type": "stream",
     "text": [
      "Quadratic solution standard: \n",
      "x1 =  -9.999894245993346e-07\n",
      "x2 =  -999999.999999\n",
      "Quadratic solution with multiplication: \n",
      "x1 =  -9.999894245993346e-07\n",
      "x2 =  -999999.9999990001\n",
      "Accurate quadratic solution: \n",
      "x1 =  -999999.999999\n",
      "x2 =  -1.000000000001e-06\n"
     ]
    }
   ],
   "source": [
    "x1, x2 = quadratic_solution(0.001,1000,0.001)\n",
    "print(\"Quadratic solution standard: \")\n",
    "print (\"x1 = \", x1)\n",
    "print (\"x2 = \", x2)\n",
    "\n",
    "x1, x2 = quadratic_solution_two(0.001,1000,0.001)\n",
    "print(\"Quadratic solution with multiplication: \")\n",
    "print (\"x1 = \", x1)\n",
    "print (\"x2 = \", x2)\n",
    "\n",
    "x1, x2 = accurate_quadratic_solution(0.001,1000,0.001)\n",
    "print(\"Accurate quadratic solution: \")\n",
    "print (\"x1 = \", x1)\n",
    "print (\"x2 = \", x2)"
   ]
  },
  {
   "cell_type": "markdown",
   "metadata": {},
   "source": [
    "# 6\\. **The derivative**\n",
    "\n",
    "Write a program that implements the function $f(x)=x(x−1)$\n",
    "\n",
    "(a) Calculate the derivative of the function at the point $x = 1$ using the derivative definition:\n",
    "\n",
    "$$\n",
    "\\frac{{\\rm d}f}{{\\rm d}x} = \\lim_{\\delta\\to0} \\frac{f(x+\\delta)-f(x)}{\\delta}\n",
    "$$\n",
    "\n",
    "with $\\delta = 10^{−2}$. Calculate the true value of the same derivative analytically and compare it with the answer your program gives. The two will not agree perfectly. Why?\n",
    "\n",
    "(b) Repeat the calculation for $\\delta = 10^{−4}, 10^{−6}, 10^{−8}, 10^{−10}, 10^{−12}$ and $10^{−14}$. How does the accuracy scale with $\\delta$?"
   ]
  },
  {
   "cell_type": "code",
   "execution_count": 14,
   "metadata": {},
   "outputs": [
    {
     "name": "stdout",
     "output_type": "stream",
     "text": [
      "Delta = 0.01: Approximate Derivative = 1.010000000000001\n",
      "Delta = 0.0001: Approximate Derivative = 1.0000999999998899\n",
      "Delta = 1e-06: Approximate Derivative = 1.0000009999177333\n",
      "Delta = 1e-08: Approximate Derivative = 1.0000000039225287\n",
      "Delta = 1e-10: Approximate Derivative = 1.000000082840371\n",
      "Delta = 1e-12: Approximate Derivative = 1.0000889005833413\n",
      "Delta = 1e-14: Approximate Derivative = 0.9992007221626509\n"
     ]
    }
   ],
   "source": [
    "# Define the function f(x) = x * (x - 1)\n",
    "def f(x):\n",
    "    return x * (x - 1)\n",
    "\n",
    "# Define a function to numerically calculate the derivative at a given point x using a small delta\n",
    "def numerical_derivative(x, delta):\n",
    "    # Calculate the derivative using the forward difference formula\n",
    "    approximate_derivative = (f(x + delta) - f(x)) / delta\n",
    "    return approximate_derivative\n",
    "\n",
    "# Set the value of x where you want to calculate the derivative\n",
    "x = 1\n",
    "\n",
    "# The true derivative of f(x) = x(x-1) at x = 1 is known to be 1\n",
    "true_derivative = 1\n",
    "\n",
    "# List of delta values to use for approximation\n",
    "deltas = [1e-2, 1e-4, 1e-6, 1e-8, 1e-10, 1e-12, 1e-14]\n",
    "\n",
    "# Iterate over the different delta values and calculate the approximate derivative\n",
    "for delta in deltas:\n",
    "    approx_derivative = numerical_derivative(x, delta)\n",
    "    # Print the result with delta and the approximate derivative\n",
    "    print(f\"Delta = {delta}: Approximate Derivative = {approx_derivative}\")"
   ]
  },
  {
   "cell_type": "markdown",
   "metadata": {},
   "source": [
    "# 7\\. **Integral of a semicircle**\n",
    "\n",
    "Consider the integral of the semicircle of radius 1:\n",
    "$$\n",
    "I=\\int_{-1}^{1} \\sqrt(1-x^2) {\\rm d}x\n",
    "$$\n",
    "which is known to be $I=\\frac{\\pi}{2}=1.57079632679...$.\n",
    "\n",
    "Alternatively we can use the Riemann definition of the integral:\n",
    "$$\n",
    "I=\\lim_{N\\to\\infty} \\sum_{k=1}^{N} h y_k \n",
    "$$\n",
    "\n",
    "with $h=2/N$ the width of each of the $N$ slices the domain is divided into and where\n",
    "$y_k$ is the value of the function at the $k-$th slice.\n",
    "\n",
    "(a) Write a program to compute the integral with $N=100$. How does the result compare to the true value?\n",
    "\n",
    "(b) How much can $N$ be increased if the computation needs to be run in less than a second? What is the gain in running it for 1 minute? Use `timeit` to measure the time."
   ]
  },
  {
   "cell_type": "code",
   "execution_count": 15,
   "metadata": {},
   "outputs": [
    {
     "name": "stdout",
     "output_type": "stream",
     "text": [
      "(a) Result with N = 100: 1.5691342555492505, Error: 0.0016620712456461018\n"
     ]
    }
   ],
   "source": [
    "import math\n",
    "import timeit\n",
    "\n",
    "# Define the semicircle function\n",
    "def semicircle(x):\n",
    "    return math.sqrt(1 - x**2)\n",
    "\n",
    "# Define a function to compute the Riemann integral\n",
    "def riemann_integral(N):\n",
    "    h = 2 / N  # Calculate the width of each subinterval\n",
    "    integral = 0\n",
    "\n",
    "    # Iterate over subintervals and calculate the area using Riemann sums\n",
    "    for k in range(1, N + 1):\n",
    "        x_k = -1 + k * h  # Calculate the x-coordinate of the sample point\n",
    "        y_k = semicircle(x_k)  # Calculate the y-coordinate using the semicircle function\n",
    "        integral += h * y_k  # Add the area of the subrectangle to the integral\n",
    "\n",
    "    return integral\n",
    "\n",
    "# True value of the integral (known value for semicircle)\n",
    "true_value = math.pi / 2\n",
    "\n",
    "# (a) Compute the integral with N = 100\n",
    "N = 100\n",
    "result_N100 = riemann_integral(N)\n",
    "error_N100 = abs(result_N100 - true_value)\n",
    "\n",
    "# Print the result and the error\n",
    "print(f\"(a) Result with N = 100: {result_N100}, Error: {error_N100}\")"
   ]
  },
  {
   "cell_type": "code",
   "execution_count": 16,
   "metadata": {},
   "outputs": [],
   "source": [
    "# (b) Measure the time for different values of N\n",
    "\n",
    "# Function to measure the time taken to compute the Riemann integral for a given N\n",
    "def time_integral(N):\n",
    "    return timeit.timeit(lambda: riemann_integral(N), number=1)\n",
    "\n",
    "# Function to find the maximum N that can be computed within a specified time\n",
    "def timer_integral(N, seconds):\n",
    "    while time_integral(N) < seconds:\n",
    "        N *= 2  # Double N to see if it fits within the time constraint\n",
    "    while time_integral(N) > seconds:\n",
    "        N *= 0.9  # Reduce N by a factor to approach the time constraint\n",
    "        N = int(N)  # Ensure N remains an integer\n",
    "    return N, time_integral(N)"
   ]
  },
  {
   "cell_type": "code",
   "execution_count": 17,
   "metadata": {},
   "outputs": [
    {
     "name": "stdout",
     "output_type": "stream",
     "text": [
      "(b) Maximum N within 1 second: 1327104, Time taken: 0.8470386000117287 seconds\n"
     ]
    }
   ],
   "source": [
    "N, time_taken = timer_integral(100, 1)\n",
    "print(f\"(b) Maximum N within 1 second: {N}, Time taken: {time_taken} seconds\")"
   ]
  },
  {
   "cell_type": "code",
   "execution_count": 18,
   "metadata": {},
   "outputs": [],
   "source": [
    "N, time_taken = timer_integral(100, 60)\n",
    "print(f\"(b) Maximum N within 1 second: {N}, Time taken: {time_taken} seconds\")"
   ]
  }
 ],
 "metadata": {
  "kernelspec": {
   "display_name": "Python 3",
   "language": "python",
   "name": "python3"
  },
  "language_info": {
   "codemirror_mode": {
    "name": "ipython",
    "version": 3
   },
   "file_extension": ".py",
   "mimetype": "text/x-python",
   "name": "python",
   "nbconvert_exporter": "python",
   "pygments_lexer": "ipython3",
   "version": "3.11.5"
  }
 },
 "nbformat": 4,
 "nbformat_minor": 2
}
