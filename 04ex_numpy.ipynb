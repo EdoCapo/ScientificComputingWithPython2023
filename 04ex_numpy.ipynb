{
 "cells": [
  {
   "cell_type": "code",
   "execution_count": 1,
   "metadata": {},
   "outputs": [],
   "source": [
    "#Imports for the lab\n",
    "import numpy as np\n",
    "import timeit"
   ]
  },
  {
   "cell_type": "markdown",
   "metadata": {},
   "source": [
    "1\\. **Reductions**\n",
    "\n",
    "Given the following matrix:\n",
    "\n",
    "```python\n",
    "m = np.arange(12).reshape((3,4))\n",
    "```\n",
    "\n",
    "   1. find the total mean\n",
    "   2. find the mean for each row and column"
   ]
  },
  {
   "cell_type": "code",
   "execution_count": 2,
   "metadata": {},
   "outputs": [
    {
     "name": "stdout",
     "output_type": "stream",
     "text": [
      "M =  [[ 0  1  2  3]\n",
      " [ 4  5  6  7]\n",
      " [ 8  9 10 11]] \n",
      "----------------------\n",
      "Mean of M =  5.5 \n",
      "----------------------\n",
      "Mean of row 0 = 1.5\n",
      "Mean of row 1 = 5.5\n",
      "Mean of row 2 = 9.5\n",
      "----------------------\n",
      "Mean of column 0 = 1.5\n",
      "Mean of column 1 = 5.5\n",
      "Mean of column 2 = 9.5\n"
     ]
    }
   ],
   "source": [
    "#Declaring a matrix 4x3 which contains incremental numbers up to 12\n",
    "m = np.arange(12).reshape((3,4))\n",
    "\n",
    "#Print the matrix\n",
    "print(\"M = \", m, \"\\n----------------------\")\n",
    "\n",
    "#Print the mean of the matrix\n",
    "print(\"Mean of M = \", np.mean(m), \"\\n----------------------\")\n",
    "\n",
    "#For each row, print the mean of the row\n",
    "for i in range(len(m)):\n",
    "    print(\"Mean of row {} = {}\".format(i, np.mean(m[i])))\n",
    "\n",
    "print(\"----------------------\")\n",
    "\n",
    "#Transpose the matrix so now the columns are the rows\n",
    "col_means = np.mean(m.transpose(), axis=0)\n",
    "\n",
    "#For each row, print the mean of the row\n",
    "for i in range(len(col_means)):\n",
    "    print(\"Mean of column {} = {}\".format(i, col_means[i]))"
   ]
  },
  {
   "cell_type": "markdown",
   "metadata": {},
   "source": [
    "2\\. **Outer product**\n",
    "\n",
    "Find the outer product of the following vectors:\n",
    "\n",
    "```python\n",
    "u = np.array([1, 3, 5, 7])\n",
    "v = np.array([2, 4, 6, 8])\n",
    "```\n",
    "\n",
    "Use different methods to do this:\n",
    "\n",
    "   1. Using the function `outer` in numpy\n",
    "   2. Using a nested `for` loop or a list comprehension\n",
    "   3. Using numpy broadcasting operations"
   ]
  },
  {
   "cell_type": "code",
   "execution_count": 3,
   "metadata": {},
   "outputs": [
    {
     "name": "stdout",
     "output_type": "stream",
     "text": [
      "u =  [1 3 5 7]\n",
      "v =  [2 4 6 8] \n",
      "---------------------------\n",
      "Using np.outer()\n",
      "u x v = \n",
      " [[ 2  4  6  8]\n",
      " [ 6 12 18 24]\n",
      " [10 20 30 40]\n",
      " [14 28 42 56]] \n",
      "---------------------------\n",
      "Using numpy broadcasting operations\n",
      "u x v = \n",
      " [[ 2  4  6  8]\n",
      " [ 6 12 18 24]\n",
      " [10 20 30 40]\n",
      " [14 28 42 56]]\n"
     ]
    }
   ],
   "source": [
    "#Declaring and defining two arrays\n",
    "u = np.array([1, 3, 5, 7])\n",
    "v = np.array([2, 4, 6, 8])\n",
    "\n",
    "#Printing the arrays\n",
    "print(\"u = \", u)\n",
    "print(\"v = \", v, \"\\n---------------------------\")\n",
    "\n",
    "#Printing the outer product between the two arrays\n",
    "print(\"Using np.outer()\")\n",
    "print(\"u x v = \\n\", np.outer(u,v), \"\\n---------------------------\")\n",
    "\n",
    "#Defining a matrix of zeros of dimension len(u) x len(v) \n",
    "w = np.zeros((len(u), len(v)))\n",
    "\n",
    "#Using broadcasting doing the outer product between the two arrays\n",
    "print(\"Using numpy broadcasting operations\")\n",
    "w = np.expand_dims(u, axis=1) * np.expand_dims(v, axis=0)\n",
    "print(\"u x v = \\n\", w)\n"
   ]
  },
  {
   "cell_type": "markdown",
   "metadata": {},
   "source": [
    "3\\. **Matrix masking**\n",
    "\n",
    "Create a $10 \\times 6$ matrix of float random numbers, distributed between 0 and 3 according to a flat distribution.\n",
    "\n",
    "After creating the matrix, set all entries $< 0.3$ to zero using a mask."
   ]
  },
  {
   "cell_type": "code",
   "execution_count": 4,
   "metadata": {},
   "outputs": [
    {
     "name": "stdout",
     "output_type": "stream",
     "text": [
      "a = \n",
      " [[2.47 0.99 2.69 1.77 2.53 0.83]\n",
      " [0.74 2.58 0.2  1.66 1.93 1.6 ]\n",
      " [0.71 2.68 1.28 2.45 1.72 0.12]\n",
      " [1.5  2.35 2.47 2.53 1.46 0.12]\n",
      " [2.61 2.58 2.06 2.35 0.95 1.74]\n",
      " [2.53 2.69 0.68 1.87 2.85 2.84]\n",
      " [2.48 0.24 2.68 1.72 2.39 0.23]\n",
      " [1.71 2.51 1.29 1.93 0.53 1.7 ]\n",
      " [0.83 2.99 1.04 1.87 0.84 0.56]\n",
      " [0.93 2.57 0.69 2.46 2.1  1.5 ]] \n",
      "-----------------------------\n",
      "filtered_a = \n",
      " [[2.47 0.99 2.69 1.77 2.53 0.83]\n",
      " [0.74 2.58 0.   1.66 1.93 1.6 ]\n",
      " [0.71 2.68 1.28 2.45 1.72 0.  ]\n",
      " [1.5  2.35 2.47 2.53 1.46 0.  ]\n",
      " [2.61 2.58 2.06 2.35 0.95 1.74]\n",
      " [2.53 2.69 0.68 1.87 2.85 2.84]\n",
      " [2.48 0.   2.68 1.72 2.39 0.  ]\n",
      " [1.71 2.51 1.29 1.93 0.53 1.7 ]\n",
      " [0.83 2.99 1.04 1.87 0.84 0.56]\n",
      " [0.93 2.57 0.69 2.46 2.1  1.5 ]]\n"
     ]
    }
   ],
   "source": [
    "a = np.random.rand(10, 6) * 3 # 60 random float between 0 and 3\n",
    "print(\"a = \\n\", np.round(a,2), \"\\n-----------------------------\")\n",
    "\n",
    "# create a mask to filter numbers < 0.3\n",
    "mask = (a < 0.3)\n",
    "\n",
    "#Indexing with a mask can be very useful to assign a new value to a sub-array\n",
    "a[mask] = 0\n",
    "\n",
    "print(\"filtered_a = \\n\", np.round(a,2))"
   ]
  },
  {
   "cell_type": "markdown",
   "metadata": {},
   "source": [
    "4\\. **Trigonometric functions**\n",
    "\n",
    "Use `np.linspace` to create an array of 100 numbers between $0$ and $2\\pi$ (inclusive).\n",
    "\n",
    "  * Extract every 10th element using the slice notation\n",
    "  * Reverse the array using the slice notation\n",
    "  * Extract elements where the absolute difference between the `sin` and `cos` functions evaluated for that element is $< 0.1$\n",
    "  * **Optional**: make a plot showing the `sin` and `cos` functions and indicate graphically (with a line or a marker) where they are close"
   ]
  },
  {
   "cell_type": "code",
   "execution_count": 5,
   "metadata": {},
   "outputs": [
    {
     "name": "stdout",
     "output_type": "stream",
     "text": [
      "m =  [0.         0.06346652 0.12693304 0.19039955 0.25386607 0.31733259\n",
      " 0.38079911 0.44426563 0.50773215 0.57119866 0.63466518 0.6981317\n",
      " 0.76159822 0.82506474 0.88853126 0.95199777 1.01546429 1.07893081\n",
      " 1.14239733 1.20586385 1.26933037 1.33279688 1.3962634  1.45972992\n",
      " 1.52319644 1.58666296 1.65012947 1.71359599 1.77706251 1.84052903\n",
      " 1.90399555 1.96746207 2.03092858 2.0943951  2.15786162 2.22132814\n",
      " 2.28479466 2.34826118 2.41172769 2.47519421 2.53866073 2.60212725\n",
      " 2.66559377 2.72906028 2.7925268  2.85599332 2.91945984 2.98292636\n",
      " 3.04639288 3.10985939 3.17332591 3.23679243 3.30025895 3.36372547\n",
      " 3.42719199 3.4906585  3.55412502 3.61759154 3.68105806 3.74452458\n",
      " 3.8079911  3.87145761 3.93492413 3.99839065 4.06185717 4.12532369\n",
      " 4.1887902  4.25225672 4.31572324 4.37918976 4.44265628 4.5061228\n",
      " 4.56958931 4.63305583 4.69652235 4.75998887 4.82345539 4.88692191\n",
      " 4.95038842 5.01385494 5.07732146 5.14078798 5.2042545  5.26772102\n",
      " 5.33118753 5.39465405 5.45812057 5.52158709 5.58505361 5.64852012\n",
      " 5.71198664 5.77545316 5.83891968 5.9023862  5.96585272 6.02931923\n",
      " 6.09278575 6.15625227 6.21971879 6.28318531]\n"
     ]
    }
   ],
   "source": [
    "#Defining the cardinality of the matrix\n",
    "cardinality = 100\n",
    "\n",
    "#Using linspace to fill with every 100th of 2pi\n",
    "m = np.linspace(0, 2 * np.pi, cardinality)\n",
    "print(\"m = \", m)"
   ]
  },
  {
   "cell_type": "code",
   "execution_count": 6,
   "metadata": {},
   "outputs": [
    {
     "name": "stdout",
     "output_type": "stream",
     "text": [
      "[0.         0.63466518 1.26933037 1.90399555 2.53866073 3.17332591\n",
      " 3.8079911  4.44265628 5.07732146 5.71198664]\n"
     ]
    }
   ],
   "source": [
    "#Extraction every 10 elements using slice\n",
    "sub_m = slice(0,100,10)\n",
    "print(m[sub_m])"
   ]
  },
  {
   "cell_type": "code",
   "execution_count": 7,
   "metadata": {},
   "outputs": [
    {
     "name": "stdout",
     "output_type": "stream",
     "text": [
      "Reversed m =  [6.28318531 6.21971879 6.15625227 6.09278575 6.02931923 5.96585272\n",
      " 5.9023862  5.83891968 5.77545316 5.71198664 5.64852012 5.58505361\n",
      " 5.52158709 5.45812057 5.39465405 5.33118753 5.26772102 5.2042545\n",
      " 5.14078798 5.07732146 5.01385494 4.95038842 4.88692191 4.82345539\n",
      " 4.75998887 4.69652235 4.63305583 4.56958931 4.5061228  4.44265628\n",
      " 4.37918976 4.31572324 4.25225672 4.1887902  4.12532369 4.06185717\n",
      " 3.99839065 3.93492413 3.87145761 3.8079911  3.74452458 3.68105806\n",
      " 3.61759154 3.55412502 3.4906585  3.42719199 3.36372547 3.30025895\n",
      " 3.23679243 3.17332591 3.10985939 3.04639288 2.98292636 2.91945984\n",
      " 2.85599332 2.7925268  2.72906028 2.66559377 2.60212725 2.53866073\n",
      " 2.47519421 2.41172769 2.34826118 2.28479466 2.22132814 2.15786162\n",
      " 2.0943951  2.03092858 1.96746207 1.90399555 1.84052903 1.77706251\n",
      " 1.71359599 1.65012947 1.58666296 1.52319644 1.45972992 1.3962634\n",
      " 1.33279688 1.26933037 1.20586385 1.14239733 1.07893081 1.01546429\n",
      " 0.95199777 0.88853126 0.82506474 0.76159822 0.6981317  0.63466518\n",
      " 0.57119866 0.50773215 0.44426563 0.38079911 0.31733259 0.25386607\n",
      " 0.19039955 0.12693304 0.06346652 0.        ] \n",
      "--------------------------\n"
     ]
    }
   ],
   "source": [
    "#Reversing using slice\n",
    "rev_m = slice(None,None,-1)\n",
    "print(\"Reversed m = \", m[rev_m], \"\\n--------------------------\")"
   ]
  },
  {
   "cell_type": "code",
   "execution_count": 8,
   "metadata": {},
   "outputs": [],
   "source": [
    "#Defining a mask wich filters the angles for which the absolute difference between sin and cos is less than 0.1\n",
    "mask = (np.abs(np.sin(m)-np.cos(m)) < 0.1)\n",
    "#Applying the mask\n",
    "filtered_m = m[mask]"
   ]
  },
  {
   "cell_type": "code",
   "execution_count": 9,
   "metadata": {},
   "outputs": [
    {
     "data": {
      "image/png": "[encoded data removed]",
      "text/plain": [
       "<Figure size 640x480 with 1 Axes>"
      ]
     },
     "metadata": {},
     "output_type": "display_data"
    }
   ],
   "source": [
    "import matplotlib.pyplot as plt\n",
    "# Create a plot showing the sin and cos functions\n",
    "plt.plot(m, np.sin(m), label='sin(x)')\n",
    "plt.plot(m, np.cos(m), label='cos(x)')\n",
    "\n",
    "# Indicate graphically (with a line or a marker) where the sin and cos functions are close\n",
    "plt.vlines(filtered_m, ymin=-1, ymax=1, color='red', linestyle='dashed', label='Close to sin(x) and cos(x)')\n",
    "\n",
    "# Add labels and title\n",
    "plt.xlabel('x')\n",
    "plt.ylabel('y')\n",
    "plt.title('sin(x) and cos(x) functions')\n",
    "\n",
    "# Add legend\n",
    "plt.legend()\n",
    "\n",
    "# Show the plot\n",
    "plt.show()"
   ]
  },
  {
   "cell_type": "markdown",
   "metadata": {},
   "source": [
    "5\\. **Matrices**\n",
    "\n",
    "Create a matrix that shows the $10 \\times 10$ multiplication table.\n",
    "\n",
    " * Find the trace of the matrix\n",
    " * Extract the anti-diagonal matrix (this should be ```array([10, 18, 24, 28, 30, 30, 28, 24, 18, 10])```)\n",
    " * Extract the diagonal offset by 1 upwards (this should be ```array([ 2,  6, 12, 20, 30, 42, 56, 72, 90])```)"
   ]
  },
  {
   "cell_type": "code",
   "execution_count": 10,
   "metadata": {},
   "outputs": [
    {
     "name": "stdout",
     "output_type": "stream",
     "text": [
      "[[  1   2   3   4   5   6   7   8   9  10]\n",
      " [  2   4   6   8  10  12  14  16  18  20]\n",
      " [  3   6   9  12  15  18  21  24  27  30]\n",
      " [  4   8  12  16  20  24  28  32  36  40]\n",
      " [  5  10  15  20  25  30  35  40  45  50]\n",
      " [  6  12  18  24  30  36  42  48  54  60]\n",
      " [  7  14  21  28  35  42  49  56  63  70]\n",
      " [  8  16  24  32  40  48  56  64  72  80]\n",
      " [  9  18  27  36  45  54  63  72  81  90]\n",
      " [ 10  20  30  40  50  60  70  80  90 100]]\n"
     ]
    }
   ],
   "source": [
    "#Defining the matrix using the outer product between two arrays [1,2,...,10]\n",
    "multiplication_table = np.outer(np.arange(1,11), np.arange(1,11))\n",
    "print(multiplication_table)"
   ]
  },
  {
   "cell_type": "code",
   "execution_count": 11,
   "metadata": {},
   "outputs": [
    {
     "name": "stdout",
     "output_type": "stream",
     "text": [
      "Trace of the matrix: 385\n",
      "Anti-diagonal matrix: [10 18 24 28 30 30 28 24 18 10]\n",
      "Diagonal offset by 1 upwards: [ 2  6 12 20 30 42 56 72 90]\n"
     ]
    }
   ],
   "source": [
    "# Find the trace of the matrix\n",
    "trace = np.trace(multiplication_table)\n",
    "# Extract the anti-diagonal matrix\n",
    "anti_diagonal_matrix = multiplication_table[::-1, ::1].diagonal()\n",
    "\n",
    "# Extract the diagonal offset by 1 upwards\n",
    "diagonal_offset_by_1_upwards = multiplication_table[1:, :].diagonal()\n",
    "\n",
    "print(\"Trace of the matrix:\", trace)\n",
    "\n",
    "print(\"Anti-diagonal matrix:\", anti_diagonal_matrix)\n",
    "\n",
    "print(\"Diagonal offset by 1 upwards:\", diagonal_offset_by_1_upwards)"
   ]
  },
  {
   "cell_type": "markdown",
   "metadata": {},
   "source": [
    "6\\. **Broadcasting**\n",
    "\n",
    "Use broadcasting to create a grid of distances.\n",
    "\n",
    "Route 66 crosses the following cities in the US: Chicago, Springfield, Saint-Louis, Tulsa, Oklahoma City, Amarillo, Santa Fe, Albuquerque, Flagstaff, Los Angeles.\n",
    "\n",
    "The corresponding positions in miles are: `0, 198, 303, 736, 871, 1175, 1475, 1544, 1913, 2448`\n",
    "\n",
    "  * Build a 2D grid of distances among each city along Route 66\n",
    "  * Convert the distances in km"
   ]
  },
  {
   "cell_type": "code",
   "execution_count": 12,
   "metadata": {},
   "outputs": [
    {
     "name": "stdout",
     "output_type": "stream",
     "text": [
      "Distances in miles = \n",
      " [[   0  198  303  736  871 1175 1475 1544 1913 2448]\n",
      " [ 198    0  105  538  673  977 1277 1346 1715 2250]\n",
      " [ 303  105    0  433  568  872 1172 1241 1610 2145]\n",
      " [ 736  538  433    0  135  439  739  808 1177 1712]\n",
      " [ 871  673  568  135    0  304  604  673 1042 1577]\n",
      " [1175  977  872  439  304    0  300  369  738 1273]\n",
      " [1475 1277 1172  739  604  300    0   69  438  973]\n",
      " [1544 1346 1241  808  673  369   69    0  369  904]\n",
      " [1913 1715 1610 1177 1042  738  438  369    0  535]\n",
      " [2448 2250 2145 1712 1577 1273  973  904  535    0]] \n",
      "\n",
      "Distances in km = \n",
      " [[   0.   316.8  484.8 1177.6 1393.6 1880.  2360.  2470.4 3060.8 3916.8]\n",
      " [ 316.8    0.   168.   860.8 1076.8 1563.2 2043.2 2153.6 2744.  3600. ]\n",
      " [ 484.8  168.     0.   692.8  908.8 1395.2 1875.2 1985.6 2576.  3432. ]\n",
      " [1177.6  860.8  692.8    0.   216.   702.4 1182.4 1292.8 1883.2 2739.2]\n",
      " [1393.6 1076.8  908.8  216.     0.   486.4  966.4 1076.8 1667.2 2523.2]\n",
      " [1880.  1563.2 1395.2  702.4  486.4    0.   480.   590.4 1180.8 2036.8]\n",
      " [2360.  2043.2 1875.2 1182.4  966.4  480.     0.   110.4  700.8 1556.8]\n",
      " [2470.4 2153.6 1985.6 1292.8 1076.8  590.4  110.4    0.   590.4 1446.4]\n",
      " [3060.8 2744.  2576.  1883.2 1667.2 1180.8  700.8  590.4    0.   856. ]\n",
      " [3916.8 3600.  3432.  2739.2 2523.2 2036.8 1556.8 1446.4  856.     0. ]]\n"
     ]
    }
   ],
   "source": [
    "#Declaring the array of distances in miles between the cities\n",
    "positions = np.array([0, 198, 303, 736, 871, 1175, 1475, 1544, 1913, 2448])\n",
    "#Defining the convertion coefficient between and mile\n",
    "mile_to_km = 1.6\n",
    "\n",
    "# Create a 2D grid of distances using broadcasting\n",
    "distances = np.abs(positions[:, None] - positions[None, :])\n",
    "\n",
    "print(\"Distances in miles = \\n\", distances, \"\\n\")\n",
    "print(\"Distances in km = \\n\", distances * mile_to_km)"
   ]
  },
  {
   "cell_type": "markdown",
   "metadata": {},
   "source": [
    "7\\. **Prime numbers sieve**\n",
    "\n",
    "Compute the prime numbers in the 0-N (start with N=99) range with a sieve (mask).\n",
    "\n",
    "  * Construct a shape (N,) boolean array, which is the mask\n",
    "  * Identify the multiples of each number starting from 2 and set accordingly the corresponding mask element\n",
    "  * Apply the mask to obtain an array of ordered prime numbers\n",
    "  * Check the performances (with `timeit`); how does it scale with N?\n",
    "  * Implement the optimization suggested in the [sieve of Eratosthenes](https://en.wikipedia.org/wiki/Sieve_of_Eratosthenes)"
   ]
  },
  {
   "cell_type": "code",
   "execution_count": 24,
   "metadata": {},
   "outputs": [],
   "source": [
    "def primer(N):\n",
    "    #Defining a matrix containing numbers up to N\n",
    "    numbers = np.arange(0,N)\n",
    "    #Using an ausiliar matrix\n",
    "    primes = numbers\n",
    "    #For every number\n",
    "    for x in range(2, N):\n",
    "        #Saving the first occurence\n",
    "        mask_original = (numbers == x)\n",
    "        #If the current number is a multiple set the number to -1\n",
    "        numbers[(numbers % x == 0)] = -1\n",
    "        #Restore the first number\n",
    "        numbers[mask_original] = x\n",
    "    #Extracting every non-multiple in theoriginal matrix to 0 \n",
    "    primes = np.where(numbers != -1)[0]\n",
    "    return primes"
   ]
  },
  {
   "cell_type": "code",
   "execution_count": 14,
   "metadata": {},
   "outputs": [],
   "source": [
    "def sieve_of_Eratosthenes_impl(N):\n",
    "    # Construct a shape (N,) boolean array, which is the mask\n",
    "    numbers = np.ones(N, dtype=bool)\n",
    "    m = np.arange(N)\n",
    "    #True = prime number\n",
    "\n",
    "    # Identify the multiples of each number starting from 2 and set accordingly the corresponding mask element\n",
    "    for i in range(2, int(np.sqrt(N)) + 1):\n",
    "        if numbers[i]:\n",
    "            numbers[i * i::i] = False\n",
    "\n",
    "    # Apply the mask to obtain an array of ordered prime numbers\n",
    "    primes = np.where(numbers)[0]\n",
    "\n",
    "    return primes"
   ]
  },
  {
   "cell_type": "code",
   "execution_count": 20,
   "metadata": {},
   "outputs": [],
   "source": [
    "def timer_primer(N):\n",
    "    #Measuring the time of the computation\n",
    "    t = timeit.timeit(lambda: primer(N), number = 1)\n",
    "    print(\"Time to compute the prime numbers in the 0-{} with primer function: {} seconds\".format(N, t))\n",
    "\n",
    "def timer_SOE(N):\n",
    "    #Measuring the time of the computation\n",
    "    t = timeit.timeit(lambda: sieve_of_Eratosthenes_impl(N), number = 1)\n",
    "    print(\"Time to compute the prime numbers in the 0-{} with sieve of Eratosthenes: {} seconds\".format(N, t))"
   ]
  },
  {
   "cell_type": "code",
   "execution_count": 29,
   "metadata": {},
   "outputs": [
    {
     "name": "stdout",
     "output_type": "stream",
     "text": [
      "Prime numbers from  0  to  100  =  [ 1  2  3  5  7 11 13 17 19 23 29 31 37 41 43 47 53 59 61 67 71 73 79 83\n",
      " 89 97] \n",
      "-----------------------------\n",
      "Prime numbers from  0  to  100  using sieve of Eratosthenes =  [ 0  1  2  3  5  7 11 13 17 19 23 29 31 37 41 43 47 53 59 61 67 71 73 79\n",
      " 83 89 97] \n",
      "-----------------------------\n",
      "Time to compute the prime numbers in the 0-9 with sieve of Eratosthenes: 9.779998799785972e-05 seconds\n",
      "Time to compute the prime numbers in the 0-99 with sieve of Eratosthenes: 9.929999941959977e-05 seconds\n",
      "Time to compute the prime numbers in the 0-999 with sieve of Eratosthenes: 0.0001246000174432993 seconds\n",
      "Time to compute the prime numbers in the 0-9 with primer function: 0.0003890999942086637 seconds\n",
      "Time to compute the prime numbers in the 0-99 with primer function: 0.001641899987589568 seconds\n",
      "Time to compute the prime numbers in the 0-999 with primer function: 0.03385950002120808 seconds\n"
     ]
    }
   ],
   "source": [
    "N = 99\n",
    "print(\"Prime numbers from \", 0, \" to \", N+1, \" = \", primer(N), \"\\n-----------------------------\")\n",
    "print(\"Prime numbers from \", 0, \" to \", N+1, \" using sieve of Eratosthenes = \", sieve_of_Eratosthenes_impl(N), \"\\n-----------------------------\")\n",
    "\n",
    "timer_SOE(9)\n",
    "timer_SOE(99)\n",
    "timer_SOE(999)\n",
    "\n",
    "timer_primer(9)\n",
    "timer_primer(99)\n",
    "timer_primer(999)"
   ]
  },
  {
   "cell_type": "markdown",
   "metadata": {},
   "source": [
    "8\\. **Diffusion using random walk**\n",
    "\n",
    "Consider a simple random walk process: at each step in time, a walker jumps right or left (+1 or -1) with equal probability. The goal is to find the typical distance from the origin of many random walkers after a given amount of time.\n",
    "\n",
    "*Hint*: create a 2D array where each row represents a walker, and each column represents a time step.\n",
    "\n",
    "  * Take 1000 walkers and let them walk for 200 steps\n",
    "  * Use `randint` to create a 2D array of size $walkers \\times steps$ with values -1 or 1\n",
    "  * Calculate the walking distances for each walker (e.g. by summing the elements in each row)\n",
    "  * Take the square of the previously-obtained array (element-wise)\n",
    "  * Compute the mean of the squared distances at each step (i.e. the mean along the columns)\n",
    "  * **Optional**: plot the average distances ($\\sqrt(distance^2)$) as a function of time (step)"
   ]
  },
  {
   "cell_type": "code",
   "execution_count": 17,
   "metadata": {},
   "outputs": [],
   "source": [
    "import random"
   ]
  },
  {
   "cell_type": "code",
   "execution_count": 18,
   "metadata": {},
   "outputs": [
    {
     "data": {
      "image/png": "[encoded data removed]",
      "text/plain": [
       "<Figure size 640x480 with 1 Axes>"
      ]
     },
     "metadata": {},
     "output_type": "display_data"
    }
   ],
   "source": [
    "import matplotlib.pyplot as plt\n",
    "\n",
    "# Set the number of walkers and time steps\n",
    "walkers = 1000\n",
    "steps = 200\n",
    "\n",
    "# Create a 2D array with random +1 or -1 steps for each walker\n",
    "random_walks = np.random.randint(0, 2, size=(walkers, steps)) * 2 - 1\n",
    "\n",
    "# Calculate the cumulative sum along each row to get walker positions\n",
    "positions = np.cumsum(random_walks, axis=1)\n",
    "\n",
    "# Calculate the squared distance for each walker at each step\n",
    "squared_distances = positions ** 2\n",
    "\n",
    "# Calculate the mean of squared distances at each step by columns\n",
    "mean_squared_distances = np.mean(squared_distances, axis=0)\n",
    "\n",
    "# Optional: Plot the average distances as a function of time (step)\n",
    "time_steps = np.arange(1, steps + 1)\n",
    "plt.plot(time_steps, np.sqrt(mean_squared_distances), label='Average Distance')\n",
    "plt.xlabel('Time Steps')\n",
    "plt.ylabel('Average Distance')\n",
    "plt.title('Random Walk Simulation')\n",
    "plt.legend()\n",
    "plt.show()"
   ]
  }
 ],
 "metadata": {
  "kernelspec": {
   "display_name": "Python 3 (ipykernel)",
   "language": "python",
   "name": "python3"
  },
  "language_info": {
   "codemirror_mode": {
    "name": "ipython",
    "version": 3
   },
   "file_extension": ".py",
   "mimetype": "text/x-python",
   "name": "python",
   "nbconvert_exporter": "python",
   "pygments_lexer": "ipython3",
   "version": "3.11.5"
  }
 },
 "nbformat": 4,
 "nbformat_minor": 2
}
