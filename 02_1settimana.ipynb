{
 "cells": [
  {
   "cell_type": "markdown",
   "metadata": {},
   "source": [
    "1\\. **Global variables**\n",
    "\n",
    "Convert the function $f$ into a function that doesn't use global variables and that does not modify the original list"
   ]
  },
  {
   "cell_type": "code",
   "execution_count": 1,
   "metadata": {},
   "outputs": [
    {
     "name": "stdout",
     "output_type": "stream",
     "text": [
      "[1, 2, 3, 0, 1, 2, 3, 4]\n",
      "[1, 2, 3, 0, 1, 2, 3, 4]\n"
     ]
    }
   ],
   "source": [
    "x = 5\n",
    "\n",
    "def f(alist):\n",
    "    for i in range(x):\n",
    "        alist.append(i)\n",
    "    return alist\n",
    "\n",
    "alist = [1, 2, 3]\n",
    "ans = f(alist)\n",
    "print(ans)\n",
    "print(alist) # alist has been changed"
   ]
  },
  {
   "cell_type": "code",
   "execution_count": 3,
   "metadata": {},
   "outputs": [
    {
     "name": "stdout",
     "output_type": "stream",
     "text": [
      "Before the function:  [1, 2, 3]\n",
      "[1, 2, 3, 0, 1, 2, 3, 4]\n",
      "[1, 2, 3]\n"
     ]
    }
   ],
   "source": [
    "#Function which append n numbers and does not modify the original list\n",
    "import copy\n",
    "\n",
    "def new_f(alist, n):\n",
    "    print(\"Before the function: \", alist)\n",
    "    temp_list = copy.copy(alist);\n",
    "    for i in range(n):\n",
    "        temp_list.append(i)\n",
    "    return temp_list\n",
    "\n",
    "alist = [1,2,3]\n",
    "ans = new_f(alist, 5)\n",
    "print(ans)\n",
    "print(alist)\n",
    "    "
   ]
  },
  {
   "cell_type": "markdown",
   "metadata": {},
   "source": [
    "2\\. **List comprehension**\n",
    "\n",
    "Write the following expression using a list comprehension:\n",
    "\n",
    "`ans = list(map(lambda x: x * x, filter(lambda x: x % 2 == 1, range(10))))`"
   ]
  },
  {
   "cell_type": "code",
   "execution_count": 7,
   "metadata": {},
   "outputs": [
    {
     "name": "stdout",
     "output_type": "stream",
     "text": [
      "[1, 9, 25, 49, 81]\n"
     ]
    }
   ],
   "source": [
    "ans = [x**2 for x in range(10) if x % 2 == 1]\n",
    "\n",
    "print(ans)"
   ]
  },
  {
   "cell_type": "markdown",
   "metadata": {},
   "source": [
    "3\\. **Filter list**\n",
    "\n",
    "Using the `filter()` hof, define a function that takes a list of words and an integer `n` as arguments, and returns a list of words that are shorter than `n`.\n"
   ]
  },
  {
   "cell_type": "code",
   "execution_count": 18,
   "metadata": {},
   "outputs": [
    {
     "name": "stdout",
     "output_type": "stream",
     "text": [
      "['luna', 'sole', 'ape']\n"
     ]
    }
   ],
   "source": [
    "#filter() mi dice che applica ad ogni membro\n",
    "words = \"lorem ipsum docet dolorem luna sole ape\"\n",
    "n = 5\n",
    "\n",
    "def shorter_words(word):\n",
    "    return len(word) < n\n",
    "\n",
    "ans = list(filter(shorter_words,words.split()))\n",
    "\n",
    "print(ans)"
   ]
  },
  {
   "cell_type": "markdown",
   "metadata": {},
   "source": [
    "4\\. **Map dictionary**\n",
    "\n",
    "\n",
    "Consider the following dictionary:\n",
    "\n",
    "`lang = {\"Python\" : 3, \"Java\" : '', \"Cplusplus\" : 'test', \"Php\" : 0.7}`\n",
    "\n",
    "Write a function that takes the above dictionary and uses the `map()` higher order function to return a list that contains the length of the keys of the dictionary."
   ]
  },
  {
   "cell_type": "code",
   "execution_count": 34,
   "metadata": {},
   "outputs": [
    {
     "name": "stdout",
     "output_type": "stream",
     "text": [
      "[6, 4, 9, 3]\n"
     ]
    }
   ],
   "source": [
    "lang = {\"Python\" : 3, \"Java\" : '', \"Cplusplus\" : 'test', \"Php\" : 0.7}\n",
    "\n",
    "def key_length(element):\n",
    "    key, value = element\n",
    "    return len(key)\n",
    "\n",
    "\n",
    "ans = list(map(key_length, lang.items()))\n",
    "print(ans)"
   ]
  },
  {
   "cell_type": "markdown",
   "metadata": {},
   "source": [
    "5\\. **Lambda functions**\n",
    "\n",
    "Write a Python program that sorts the following list of tuples using a lambda function, according to the alphabetical order of the first element of the tuple:\n",
    "\n",
    "`language_scores = [('Python', 97), ('Cplusplus', 81), ('Php', 45), ('Java', 32)]`\n",
    "\n",
    "*Hint*: use the method `sort()` and its argument `key` of the `list` data structure."
   ]
  },
  {
   "cell_type": "code",
   "execution_count": 42,
   "metadata": {},
   "outputs": [
    {
     "name": "stdout",
     "output_type": "stream",
     "text": [
      "[('Python', 97), ('Cplusplus', 81), ('Php', 45), ('Java', 32)]\n",
      "[('Cplusplus', 81), ('Java', 32), ('Php', 45), ('Python', 97)]\n"
     ]
    }
   ],
   "source": [
    "language_scores = [('Python', 97), ('Cplusplus', 81), ('Php', 45), ('Java', 32)]\n",
    "\n",
    "print(language_scores)\n",
    "\n",
    "language_scores.sort(key = lambda element: element[0])\n",
    "\n",
    "print(language_scores)"
   ]
  },
  {
   "cell_type": "markdown",
   "metadata": {},
   "source": [
    "6\\. **Nested functions**\n",
    "\n",
    "Write two functions: one that returns the square of a number, and one that returns its cube.\n",
    "\n",
    "Then, write a third function that returns the number raised to the 6th power, using only the two previous functions."
   ]
  },
  {
   "cell_type": "code",
   "execution_count": 47,
   "metadata": {},
   "outputs": [
    {
     "name": "stdout",
     "output_type": "stream",
     "text": [
      "27\n",
      "729\n",
      "729\n"
     ]
    }
   ],
   "source": [
    "def square(x):\n",
    "    return x**2\n",
    "\n",
    "def cube(x):\n",
    "    return x**3\n",
    "\n",
    "def sixt_pwr(x):\n",
    "    return square(cube(x))\n",
    "\n",
    "print(sixt_pwr(3))"
   ]
  },
  {
   "cell_type": "markdown",
   "metadata": {},
   "source": [
    "7\\. **Decorators**\n",
    "\n",
    "Write a decorator named `hello` that makes every wrapped function print “Hello World!” each time the function is called."
   ]
  },
  {
   "cell_type": "code",
   "execution_count": 63,
   "metadata": {},
   "outputs": [],
   "source": [
    "def hello_world_decorator(func):\n",
    "    def wrapper(x):\n",
    "        print(\"Hello world!\")\n",
    "        print(func(x))\n",
    "        print(\"Hello world!\")\n",
    "    return wrapper\n",
    "\n",
    "@hello_world_decorator\n",
    "def square(x):\n",
    "    return x*x"
   ]
  },
  {
   "cell_type": "code",
   "execution_count": 64,
   "metadata": {},
   "outputs": [
    {
     "name": "stdout",
     "output_type": "stream",
     "text": [
      "Hello world!\n",
      "4\n",
      "Hello world!\n"
     ]
    }
   ],
   "source": [
    "square(2)"
   ]
  },
  {
   "cell_type": "markdown",
   "metadata": {},
   "source": [
    "8\\. **The Fibonacci sequence (part 2)**\n",
    "\n",
    "Calculate the first 20 numbers of the [Fibonacci sequence](https://en.wikipedia.org/wiki/Fibonacci_number) using a recursive function."
   ]
  },
  {
   "cell_type": "code",
   "execution_count": 176,
   "metadata": {},
   "outputs": [],
   "source": [
    "def recursive_fibonacci(prev = 0, curr = 0, iteration = 20):\n",
    "    temp = curr\n",
    "    curr = prev + curr\n",
    "    prev = temp \n",
    "\n",
    "    iteration = iteration -1\n",
    "    \n",
    "    somma = prev + curr\n",
    "\n",
    "    if(curr == 0):\n",
    "        prev = 1\n",
    "\n",
    "    if iteration == 0:\n",
    "        return somma\n",
    "    \n",
    "    return recursive_fibonacci(prev, curr, iteration)"
   ]
  },
  {
   "cell_type": "code",
   "execution_count": 178,
   "metadata": {},
   "outputs": [
    {
     "name": "stdout",
     "output_type": "stream",
     "text": [
      "55\n"
     ]
    }
   ],
   "source": [
    "print(recursive_fibonacci(0,0,20))"
   ]
  },
  {
   "cell_type": "markdown",
   "metadata": {},
   "source": [
    "9\\. **The Fibonacci sequence (part 3)**\n",
    "\n",
    "Run both the Fibonacci recursive function from the previous exercise, and the Fibonacci function from 01ex that use only `for` and `while` loops.\n",
    "\n",
    "Measure the execution code of the two functions with `timeit` ([link to the doc](https://docs.python.org/3/library/timeit.html)), for example:\n",
    "\n",
    "`%timeit loopFibonacci(20)`\n",
    "\n",
    "`%timeit recursiveFibonacci(20)`\n",
    "\n",
    "which one is the most efficient implementation? By how much?"
   ]
  },
  {
   "cell_type": "code",
   "execution_count": 189,
   "metadata": {},
   "outputs": [],
   "source": [
    "def fibonacci_loop(x = 20):\n",
    "    current_number = 0\n",
    "    prev_number = 0\n",
    "\n",
    "    somma = 0\n",
    "\n",
    "    for i in range(x):\n",
    "        somma = prev_number + current_number\n",
    "\n",
    "        prev_number = current_number\n",
    "        current_number = somma\n",
    "\n",
    "        if (prev_number == 0):\n",
    "            prev_number = 1\n",
    "\n",
    "    return somma"
   ]
  },
  {
   "cell_type": "code",
   "execution_count": 190,
   "metadata": {},
   "outputs": [
    {
     "name": "stdout",
     "output_type": "stream",
     "text": [
      "6765\n"
     ]
    }
   ],
   "source": [
    "print(fibonacci_loop())"
   ]
  },
  {
   "cell_type": "code",
   "execution_count": 200,
   "metadata": {},
   "outputs": [
    {
     "name": "stdout",
     "output_type": "stream",
     "text": [
      "The fibonacci loop 0.049351399997249246\n",
      "The recursive fibonacci 0.1354981999611482\n",
      "The fibonacci loop is faster by  0.08614679996389896 milliseconds\n"
     ]
    }
   ],
   "source": [
    "import timeit\n",
    "\n",
    "# Calcola il tempo di esecuzione di fibonacci_loop\n",
    "time_fibonacci_loop = timeit.timeit(\"fibonacci_loop()\", globals=globals(), number=10000)\n",
    "\n",
    "# Calcola il tempo di esecuzione di recursive_fibonacci\n",
    "time_recursive_fibonacci = timeit.timeit(\"recursive_fibonacci()\", globals=globals(), number=10000)\n",
    "\n",
    "print(\"The fibonacci loop\", time_fibonacci_loop)\n",
    "\n",
    "print(\"The recursive fibonacci\", time_recursive_fibonacci)\n",
    "\n",
    "if (time_fibonacci_loop > time_recursive_fibonacci):\n",
    "    print(\"The recursive fibonacci is faster by \", time_fibonacci_loop-time_recursive_fibonacci, \"milliseconds\")\n",
    "else: \n",
    "    print(\"The fibonacci loop is faster by \", time_recursive_fibonacci-time_fibonacci_loop, \"milliseconds\")"
   ]
  },
  {
   "cell_type": "markdown",
   "metadata": {},
   "source": [
    "10\\. **Class definition**\n",
    "\n",
    "Define a class `polygon`. The constructor has to take a tuple as input that contains the length of each side. The (unordered) input list does not have to have a fixed length, but should contain at least 3 items.\n",
    "\n",
    "- Create appropriate methods to get and set the length of each side\n",
    "\n",
    "- Create a method `perimeter()` that returns the perimeter of the polygon\n",
    "\n",
    "- Create a method `getOrderedSides(increasing = True)` that returns a tuple containing the length of the sides arranged in increasing or decreasing order, depending on the argument of the method\n",
    "\n",
    "Test the class by creating an instance and calling the `perimeter()` and `getOrderedSides(increasing = True)` methods."
   ]
  },
  {
   "cell_type": "code",
   "execution_count": 140,
   "metadata": {},
   "outputs": [],
   "source": [
    "class polygon:\n",
    "\n",
    "    dimensions = []\n",
    "    \n",
    "    def __init__(self, components):\n",
    "        self.dimensions = components\n",
    "\n",
    "    def getDimension(self, n): # n is the component index\n",
    "        return self.dimensions[n]\n",
    "    \n",
    "    def getDimensions(self):\n",
    "        return list(map(self.getDimension, range(len(self.dimensions))))\n",
    "    \n",
    "    # This method allows to set individial elements of the 'x' attribute \n",
    "    def setDimension(self, n, new_dimension): # n is the component index, and xi is the value\n",
    "        if n < len(self.x):\n",
    "            self.dimensions[n] = new_dimension\n",
    "    \n",
    "    def getPerimeter(self):\n",
    "        return sum(self.dimensions)\n",
    "    \n",
    "    def getOrderedSize(self, increasing):\n",
    "        if (increasing):\n",
    "            self.dimensions.sort()\n",
    "        else:\n",
    "            self.dimensions.sort(reverse=True)\n",
    "        return self.dimensions\n",
    "    "
   ]
  },
  {
   "cell_type": "code",
   "execution_count": 142,
   "metadata": {},
   "outputs": [
    {
     "name": "stdout",
     "output_type": "stream",
     "text": [
      "15\n",
      "12\n",
      "[6, 4, 5]\n",
      "[4, 5, 6]\n",
      "[6, 5, 4]\n"
     ]
    }
   ],
   "source": [
    "quad = polygon([3,3,3,3])\n",
    "tri = polygon([6,4,5])\n",
    "\n",
    "quad_perim = quad.getPerimeter()\n",
    "tri_perim = tri.getPerimeter()\n",
    "\n",
    "print(tri_perim)\n",
    "print(quad_perim)\n",
    "\n",
    "print(tri.getDimensions())\n",
    "\n",
    "alist = tri.getOrderedSize(True)\n",
    "\n",
    "print(alist)\n",
    "\n",
    "alist = tri.getOrderedSize(False)\n",
    "\n",
    "print(alist)"
   ]
  },
  {
   "cell_type": "markdown",
   "metadata": {},
   "source": [
    "11\\. **Class inheritance**\n",
    "\n",
    "Define a class `rectangle` that inherits from `polygon`. Modify the constructor, if necessary, to make sure that the input data is consistent with the geometrical properties of a rectangle.\n",
    "\n",
    "- Create a method `area()` that returns the area of the rectangle.\n",
    "\n",
    "Test the `rectangle` class by creating an instance and passing an appropriate input to the constructor."
   ]
  },
  {
   "cell_type": "code",
   "execution_count": 147,
   "metadata": {},
   "outputs": [],
   "source": [
    "class rectangle(polygon):\n",
    "\n",
    "    def __init__(self, components):\n",
    "        if ((components[0] == components[2] or components[1] == components[3]) and len(components) == 4):\n",
    "            self.dimensions = components\n",
    "        else:\n",
    "            print(\"Error: this is not a rectangle\")\n",
    "    \n",
    "    def area(self):\n",
    "        return self.dimensions[0] * self.dimensions[1]"
   ]
  },
  {
   "cell_type": "code",
   "execution_count": 149,
   "metadata": {},
   "outputs": [
    {
     "name": "stdout",
     "output_type": "stream",
     "text": [
      "Error: this is not a rectangle\n",
      "Error: this is not a rectangle\n",
      "20\n"
     ]
    }
   ],
   "source": [
    "rec1 = rectangle([1,2,3,4])\n",
    "rec2 = rectangle([1,2,1,2,3])\n",
    "\n",
    "rec = rectangle([4,5,4,5])\n",
    "\n",
    "print(rec.area())"
   ]
  }
 ],
 "metadata": {
  "kernelspec": {
   "display_name": "Python 3",
   "language": "python",
   "name": "python3"
  },
  "language_info": {
   "codemirror_mode": {
    "name": "ipython",
    "version": 3
   },
   "file_extension": ".py",
   "mimetype": "text/x-python",
   "name": "python",
   "nbconvert_exporter": "python",
   "pygments_lexer": "ipython3",
   "version": "3.11.5"
  }
 },
 "nbformat": 4,
 "nbformat_minor": 2
}
